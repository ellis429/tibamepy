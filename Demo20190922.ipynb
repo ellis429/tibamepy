{
 "cells": [
  {
   "cell_type": "markdown",
   "metadata": {},
   "source": [
    "## 詞頻統計範例"
   ]
  },
  {
   "cell_type": "code",
   "execution_count": 1,
   "metadata": {},
   "outputs": [],
   "source": [
    "speech = '''\n",
    "I am honored to be with you today at your commencement from one of the finest universities in the world. I never graduated from college. Truth be told, this is the closest I’ve ever gotten to a college graduation. Today I want to tell you three stories from my life. That’s it. No big deal. Just three stories.\n",
    "\n",
    "The first story is about connecting the dots.\n",
    "\n",
    "I dropped out of Reed College after the first 6 months, but then stayed around as a drop-in for another 18 months or so before I really quit. So why did I drop out?\n",
    "\n",
    "It started before I was born. My biological mother was a young, unwed college graduate student, and she decided to put me up for adoption. She felt very strongly that I should be adopted by college graduates, so everything was all set for me to be adopted at birth by a lawyer and his wife. Except that when I popped out they decided at the last minute that they really wanted a girl. So my parents, who were on a waiting list, got a call in the middle of the night asking: “We have an unexpected baby boy; do you want him?” They said: “Of course.” My biological mother later found out that my mother had never graduated from college and that my father had never graduated from high school. She refused to sign the final adoption papers. She only relented a few months later when my parents promised that I would someday go to college.\n",
    "\n",
    "And 17 years later I did go to college. But I naively chose a college that was almost as expensive as Stanford, and all of my working-class parents’ savings were being spent on my college tuition. After six months, I couldn’t see the value in it. I had no idea what I wanted to do with my life and no idea how college was going to help me figure it out. And here I was spending all of the money my parents had saved their entire life. So I decided to drop out and trust that it would all work out OK. It was pretty scary at the time, but looking back it was one of the best decisions I ever made. The minute I dropped out I could stop taking the required classes that didn’t interest me, and begin dropping in on the ones that looked interesting.\n",
    "\n",
    "It wasn’t all romantic. I didn’t have a dorm room, so I slept on the floor in friends’ rooms, I returned Coke bottles for the 5¢ deposits to buy food with, and I would walk the 7 miles across town every Sunday night to get one good meal a week at the Hare Krishna temple. I loved it. And much of what I stumbled into by following my curiosity and intuition turned out to be priceless later on. Let me give you one example:\n",
    "\n",
    "Reed College at that time offered perhaps the best calligraphy instruction in the country. Throughout the campus every poster, every label on every drawer, was beautifully hand calligraphed. Because I had dropped out and didn’t have to take the normal classes, I decided to take a calligraphy class to learn how to do this. I learned about serif and sans serif typefaces, about varying the amount of space between different letter combinations, about what makes great typography great. It was beautiful, historical, artistically subtle in a way that science can’t capture, and I found it fascinating.\n",
    "\n",
    "None of this had even a hope of any practical application in my life. But 10 years later, when we were designing the first Macintosh computer, it all came back to me. And we designed it all into the Mac. It was the first computer with beautiful typography. If I had never dropped in on that single course in college, the Mac would have never had multiple typefaces or proportionally spaced fonts. And since Windows just copied the Mac, it’s likely that no personal computer would have them. If I had never dropped out, I would have never dropped in on this calligraphy class, and personal computers might not have the wonderful typography that they do. Of course it was impossible to connect the dots looking forward when I was in college. But it was very, very clear looking backward 10 years later.\n",
    "\n",
    "Again, you can’t connect the dots looking forward; you can only connect them looking backward. So you have to trust that the dots will somehow connect in your future. You have to trust in something — your gut, destiny, life, karma, whatever. This approach has never let me down, and it has made all the difference in my life.\n",
    "\n",
    "My second story is about love and loss.\n",
    "\n",
    "I was lucky — I found what I loved to do early in life. Woz and I started Apple in my parents’ garage when I was 20. We worked hard, and in 10 years Apple had grown from just the two of us in a garage into a $2 billion company with over 4,000 employees. We had just released our finest creation — the Macintosh — a year earlier, and I had just turned 30. And then I got fired. How can you get fired from a company you started? Well, as Apple grew we hired someone who I thought was very talented to run the company with me, and for the first year or so things went well. But then our visions of the future began to diverge and eventually we had a falling out. When we did, our Board of Directors sided with him. So at 30 I was out. And very publicly out. What had been the focus of my entire adult life was gone, and it was devastating.\n",
    "\n",
    "I really didn’t know what to do for a few months. I felt that I had let the previous generation of entrepreneurs down — that I had dropped the baton as it was being passed to me. I met with David Packard and Bob Noyce and tried to apologize for screwing up so badly. I was a very public failure, and I even thought about running away from the valley. But something slowly began to dawn on me — I still loved what I did. The turn of events at Apple had not changed that one bit. I had been rejected, but I was still in love. And so I decided to start over.\n",
    "\n",
    "I didn’t see it then, but it turned out that getting fired from Apple was the best thing that could have ever happened to me. The heaviness of being successful was replaced by the lightness of being a beginner again, less sure about everything. It freed me to enter one of the most creative periods of my life.\n",
    "\n",
    "During the next five years, I started a company named NeXT, another company named Pixar, and fell in love with an amazing woman who would become my wife. Pixar went on to create the world’s first computer animated feature film, Toy Story, and is now the most successful animation studio in the world. In a remarkable turn of events, Apple bought NeXT, I returned to Apple, and the technology we developed at NeXT is at the heart of Apple’s current renaissance. And Laurene and I have a wonderful family together.\n",
    "\n",
    "I’m pretty sure none of this would have happened if I hadn’t been fired from Apple. It was awful tasting medicine, but I guess the patient needed it. Sometimes life hits you in the head with a brick. Don’t lose faith. I’m convinced that the only thing that kept me going was that I loved what I did. You’ve got to find what you love. And that is as true for your work as it is for your lovers. Your work is going to fill a large part of your life, and the only way to be truly satisfied is to do what you believe is great work. And the only way to do great work is to love what you do. If you haven’t found it yet, keep looking. Don’t settle. As with all matters of the heart, you’ll know when you find it. And, like any great relationship, it just gets better and better as the years roll on. So keep looking until you find it. Don’t settle.\n",
    "\n",
    "My third story is about death.\n",
    "\n",
    "When I was 17, I read a quote that went something like: “If you live each day as if it was your last, someday you’ll most certainly be right.” It made an impression on me, and since then, for the past 33 years, I have looked in the mirror every morning and asked myself: “If today were the last day of my life, would I want to do what I am about to do today?” And whenever the answer has been “No” for too many days in a row, I know I need to change something.\n",
    "\n",
    "Remembering that I’ll be dead soon is the most important tool I’ve ever encountered to help me make the big choices in life. Because almost everything — all external expectations, all pride, all fear of embarrassment or failure — these things just fall away in the face of death, leaving only what is truly important. Remembering that you are going to die is the best way I know to avoid the trap of thinking you have something to lose. You are already naked. There is no reason not to follow your heart.\n",
    "\n",
    "About a year ago I was diagnosed with cancer. I had a scan at 7:30 in the morning, and it clearly showed a tumor on my pancreas. I didn’t even know what a pancreas was. The doctors told me this was almost certainly a type of cancer that is incurable, and that I should expect to live no longer than three to six months. My doctor advised me to go home and get my affairs in order, which is doctor’s code for prepare to die. It means to try to tell your kids everything you thought you’d have the next 10 years to tell them in just a few months. It means to make sure everything is buttoned up so that it will be as easy as possible for your family. It means to say your goodbyes.\n",
    "\n",
    "I lived with that diagnosis all day. Later that evening I had a biopsy, where they stuck an endoscope down my throat, through my stomach and into my intestines, put a needle into my pancreas and got a few cells from the tumor. I was sedated, but my wife, who was there, told me that when they viewed the cells under a microscope the doctors started crying because it turned out to be a very rare form of pancreatic cancer that is curable with surgery. I had the surgery and I’m fine now.\n",
    "\n",
    "This was the closest I’ve been to facing death, and I hope it’s the closest I get for a few more decades. Having lived through it, I can now say this to you with a bit more certainty than when death was a useful but purely intellectual concept:\n",
    "\n",
    "No one wants to die. Even people who want to go to heaven don’t want to die to get there. And yet death is the destination we all share. No one has ever escaped it. And that is as it should be, because Death is very likely the single best invention of Life. It is Life’s change agent. It clears out the old to make way for the new. Right now the new is you, but someday not too long from now, you will gradually become the old and be cleared away. Sorry to be so dramatic, but it is quite true.\n",
    "\n",
    "Your time is limited, so don’t waste it living someone else’s life. Don’t be trapped by dogma — which is living with the results of other people’s thinking. Don’t let the noise of others’ opinions drown out your own inner voice. And most important, have the courage to follow your heart and intuition. They somehow already know what you truly want to become. Everything else is secondary.\n",
    "\n",
    "When I was young, there was an amazing publication called The Whole Earth Catalog, which was one of the bibles of my generation. It was created by a fellow named Stewart Brand not far from here in Menlo Park, and he brought it to life with his poetic touch. This was in the late 1960s, before personal computers and desktop publishing, so it was all made with typewriters, scissors and Polaroid cameras. It was sort of like Google in paperback form, 35 years before Google came along: It was idealistic, and overflowing with neat tools and great notions.\n",
    "\n",
    "Stewart and his team put out several issues of The Whole Earth Catalog, and then when it had run its course, they put out a final issue. It was the mid-1970s, and I was your age. On the back cover of their final issue was a photograph of an early morning country road, the kind you might find yourself hitchhiking on if you were so adventurous. Beneath it were the words: “Stay Hungry. Stay Foolish.” It was their farewell message as they signed off. Stay Hungry. Stay Foolish. And I have always wished that for myself. And now, as you graduate to begin anew, I wish that for you.\n",
    "\n",
    "Stay Hungry. Stay Foolish.\n",
    "\n",
    "Thank you all very much.\n",
    "'''"
   ]
  },
  {
   "cell_type": "code",
   "execution_count": 2,
   "metadata": {},
   "outputs": [
    {
     "data": {
      "text/plain": [
       "11865"
      ]
     },
     "execution_count": 2,
     "metadata": {},
     "output_type": "execute_result"
    }
   ],
   "source": [
    "len(speech)"
   ]
  },
  {
   "cell_type": "code",
   "execution_count": 14,
   "metadata": {},
   "outputs": [],
   "source": [
    "stopwords = [\"a\", \"about\", \"above\", \"above\", \"across\", \"after\", \"afterwards\", \"again\", \"against\", \"all\", \"almost\", \"alone\", \"along\", \"already\", \"also\",\"although\",\"always\",\"am\",\"among\", \"amongst\", \"amoungst\", \"amount\",  \"an\", \"and\", \"another\", \"any\",\"anyhow\",\"anyone\",\"anything\",\"anyway\", \"anywhere\", \"are\", \"around\", \"as\",  \"at\", \"back\",\"be\",\"became\", \"because\",\"become\",\"becomes\", \"becoming\", \"been\", \"before\", \"beforehand\", \"behind\", \"being\", \"below\", \"beside\", \"besides\", \"between\", \"beyond\", \"bill\", \"both\", \"bottom\",\"but\", \"by\", \"call\", \"can\", \"cannot\", \"cant\", \"co\", \"con\", \"could\", \"couldnt\", \"cry\", \"de\", \"describe\", \"detail\", \"do\", \"done\", \"down\", \"due\", \"during\", \"each\", \"eg\", \"eight\", \"either\", \"eleven\",\"else\", \"elsewhere\", \"empty\", \"enough\", \"etc\", \"even\", \"ever\", \"every\", \"everyone\", \"everything\", \"everywhere\", \"except\", \"few\", \"fifteen\", \"fify\", \"fill\", \"find\", \"fire\", \"first\", \"five\", \"for\", \"former\", \"formerly\", \"forty\", \"found\", \"four\", \"from\", \"front\", \"full\", \"further\", \"get\", \"give\", \"go\", \"had\", \"has\", \"hasnt\", \"have\", \"he\", \"hence\", \"her\", \"here\", \"hereafter\", \"hereby\", \"herein\", \"hereupon\", \"hers\", \"herself\", \"him\", \"himself\", \"his\", \"how\", \"however\", \"hundred\", \"ie\", \"if\", \"in\", \"inc\", \"indeed\", \"interest\", \"into\", \"is\", \"it\", \"its\", \"itself\", \"keep\", \"last\", \"latter\", \"latterly\", \"least\", \"less\", \"ltd\", \"made\", \"many\", \"may\", \"me\", \"meanwhile\", \"might\", \"mill\", \"mine\", \"more\", \"moreover\", \"most\", \"mostly\", \"move\", \"much\", \"must\", \"my\", \"myself\", \"name\", \"namely\", \"neither\", \"never\", \"nevertheless\", \"next\", \"nine\", \"no\", \"nobody\", \"none\", \"noone\", \"nor\", \"not\", \"nothing\", \"now\", \"nowhere\", \"of\", \"off\", \"often\", \"on\", \"once\", \"one\", \"only\", \"onto\", \"or\", \"other\", \"others\", \"otherwise\", \"our\", \"ours\", \"ourselves\", \"out\", \"over\", \"own\",\"part\", \"per\", \"perhaps\", \"please\", \"put\", \"rather\", \"re\", \"same\", \"see\", \"seem\", \"seemed\", \"seeming\", \"seems\", \"serious\", \"several\", \"she\", \"should\", \"show\", \"side\", \"since\", \"sincere\", \"six\", \"sixty\", \"so\", \"some\", \"somehow\", \"someone\", \"something\", \"sometime\", \"sometimes\", \"somewhere\", \"still\", \"such\", \"system\", \"take\", \"ten\", \"than\", \"that\", \"the\", \"their\", \"them\", \"themselves\", \"then\", \"thence\", \"there\", \"thereafter\", \"thereby\", \"therefore\", \"therein\", \"thereupon\", \"these\", \"they\", \"thick\", \"thin\", \"third\", \"this\", \"those\", \"though\", \"three\", \"through\", \"throughout\", \"thru\", \"thus\", \"to\", \"together\", \"too\", \"top\", \"toward\", \"towards\", \"twelve\", \"twenty\", \"two\", \"un\", \"under\", \"until\", \"up\", \"upon\", \"us\", \"very\", \"via\", \"was\", \"we\", \"well\", \"were\", \"what\", \"whatever\", \"when\", \"whence\", \"whenever\", \"where\", \"whereafter\", \"whereas\", \"whereby\", \"wherein\", \"whereupon\", \"wherever\", \"whether\", \"which\", \"while\", \"whither\", \"who\", \"whoever\", \"whole\", \"whom\", \"whose\", \"why\", \"will\", \"with\", \"within\", \"without\", \"would\", \"yet\", \"you\", \"your\", \"yours\", \"yourself\", \"yourselves\", \"the\"]"
   ]
  },
  {
   "cell_type": "markdown",
   "metadata": {},
   "source": [
    "### 作法一"
   ]
  },
  {
   "cell_type": "code",
   "execution_count": 21,
   "metadata": {},
   "outputs": [],
   "source": [
    "words = speech.lower().split()"
   ]
  },
  {
   "cell_type": "code",
   "execution_count": 22,
   "metadata": {},
   "outputs": [],
   "source": [
    "dic = {}\n",
    "for w in words:\n",
    "    if w not in stopwords and len(w) >=2:\n",
    "        if w not in dic:\n",
    "            dic[w] = 1\n",
    "        else:\n",
    "            dic[w] = dic[w] + 1"
   ]
  },
  {
   "cell_type": "code",
   "execution_count": 23,
   "metadata": {},
   "outputs": [],
   "source": [
    "# dictionary => list of tuples\n",
    "# dic.items()"
   ]
  },
  {
   "cell_type": "code",
   "execution_count": 24,
   "metadata": {},
   "outputs": [
    {
     "data": {
      "text/plain": [
       "1"
      ]
     },
     "execution_count": 24,
     "metadata": {},
     "output_type": "execute_result"
    }
   ],
   "source": [
    "a = ('a', 1)\n",
    "\n",
    "def first(e):\n",
    "    return e[1]\n",
    "\n",
    "first(a)"
   ]
  },
  {
   "cell_type": "code",
   "execution_count": 25,
   "metadata": {},
   "outputs": [
    {
     "data": {
      "text/plain": [
       "1"
      ]
     },
     "execution_count": 25,
     "metadata": {},
     "output_type": "execute_result"
    }
   ],
   "source": [
    "first2 = lambda e : e[1]\n",
    "first2(a)"
   ]
  },
  {
   "cell_type": "code",
   "execution_count": 27,
   "metadata": {},
   "outputs": [],
   "source": [
    "swd = sorted(dic.items(), key = lambda e: e[1], reverse=True)"
   ]
  },
  {
   "cell_type": "code",
   "execution_count": 31,
   "metadata": {},
   "outputs": [
    {
     "name": "stdout",
     "output_type": "stream",
     "text": [
      "college\n",
      "9\n"
     ]
    }
   ],
   "source": [
    "k,v = ('college', 9)\n",
    "print(k)\n",
    "print(v)"
   ]
  },
  {
   "cell_type": "code",
   "execution_count": 32,
   "metadata": {},
   "outputs": [
    {
     "name": "stdout",
     "output_type": "stream",
     "text": [
      "college 9\n",
      "life. 9\n",
      "just 8\n",
      "it. 7\n",
      "dropped 7\n",
      "years 7\n",
      "don’t 7\n",
      "want 6\n",
      "looking 6\n",
      "didn’t 6\n",
      "apple 6\n",
      "know 6\n",
      "decided 5\n",
      "later 5\n",
      "best 5\n",
      "great 5\n",
      "way 5\n",
      "company 5\n",
      "stay 5\n",
      "college. 4\n",
      "started 4\n",
      "got 4\n",
      "life 4\n",
      "going 4\n",
      "out. 4\n",
      "work 4\n",
      "loved 4\n",
      "turned 4\n",
      "let 4\n",
      "10 4\n"
     ]
    }
   ],
   "source": [
    "for k,v in swd[0:30]:\n",
    "    print(k,v)"
   ]
  },
  {
   "cell_type": "markdown",
   "metadata": {},
   "source": [
    "### 作法二"
   ]
  },
  {
   "cell_type": "markdown",
   "metadata": {},
   "source": [
    "### Collections\n",
    "- https://docs.python.org/zh-tw/3/library/collections.html"
   ]
  },
  {
   "cell_type": "code",
   "execution_count": 33,
   "metadata": {},
   "outputs": [
    {
     "data": {
      "text/plain": [
       "Counter({1: 4, 2: 3, 3: 1, 4: 1, 5: 1})"
      ]
     },
     "execution_count": 33,
     "metadata": {},
     "output_type": "execute_result"
    }
   ],
   "source": [
    "a = [1,1,2,2,1,3,4,1,2,5]\n",
    "from collections import Counter\n",
    "c = Counter(a)\n",
    "c"
   ]
  },
  {
   "cell_type": "code",
   "execution_count": 34,
   "metadata": {},
   "outputs": [
    {
     "data": {
      "text/plain": [
       "[(1, 4), (2, 3), (3, 1)]"
      ]
     },
     "execution_count": 34,
     "metadata": {},
     "output_type": "execute_result"
    }
   ],
   "source": [
    "c.most_common(3)"
   ]
  },
  {
   "cell_type": "code",
   "execution_count": 35,
   "metadata": {},
   "outputs": [],
   "source": [
    "from collections import Counter\n",
    "words = speech.lower().split()\n",
    "c = Counter(words)"
   ]
  },
  {
   "cell_type": "code",
   "execution_count": 36,
   "metadata": {},
   "outputs": [
    {
     "data": {
      "text/plain": [
       "[('the', 98),\n",
       " ('i', 86),\n",
       " ('to', 71),\n",
       " ('and', 66),\n",
       " ('was', 47),\n",
       " ('a', 46),\n",
       " ('it', 45),\n",
       " ('of', 41),\n",
       " ('that', 38),\n",
       " ('in', 34)]"
      ]
     },
     "execution_count": 36,
     "metadata": {},
     "output_type": "execute_result"
    }
   ],
   "source": [
    "c.most_common(10)"
   ]
  },
  {
   "cell_type": "code",
   "execution_count": 37,
   "metadata": {},
   "outputs": [],
   "source": [
    "from collections import Counter\n",
    "words = []\n",
    "for w in speech.lower().split():\n",
    "    if (w not in stopwords) and len(w) >= 2:\n",
    "        words.append(w)\n",
    "c = Counter(words)"
   ]
  },
  {
   "cell_type": "code",
   "execution_count": 38,
   "metadata": {},
   "outputs": [
    {
     "data": {
      "text/plain": [
       "[('college', 9),\n",
       " ('life.', 9),\n",
       " ('just', 8),\n",
       " ('it.', 7),\n",
       " ('dropped', 7),\n",
       " ('years', 7),\n",
       " ('don’t', 7),\n",
       " ('want', 6),\n",
       " ('looking', 6),\n",
       " ('didn’t', 6),\n",
       " ('apple', 6),\n",
       " ('know', 6),\n",
       " ('decided', 5),\n",
       " ('later', 5),\n",
       " ('best', 5),\n",
       " ('great', 5),\n",
       " ('way', 5),\n",
       " ('company', 5),\n",
       " ('stay', 5),\n",
       " ('college.', 4),\n",
       " ('started', 4),\n",
       " ('got', 4),\n",
       " ('life', 4),\n",
       " ('going', 4),\n",
       " ('out.', 4),\n",
       " ('work', 4),\n",
       " ('loved', 4),\n",
       " ('turned', 4),\n",
       " ('let', 4),\n",
       " ('10', 4)]"
      ]
     },
     "execution_count": 38,
     "metadata": {},
     "output_type": "execute_result"
    }
   ],
   "source": [
    "c.most_common(30)"
   ]
  },
  {
   "cell_type": "markdown",
   "metadata": {},
   "source": [
    "### 作法三"
   ]
  },
  {
   "cell_type": "code",
   "execution_count": 39,
   "metadata": {},
   "outputs": [],
   "source": [
    "from collections import Counter\n",
    "\n",
    "words = [w for w in speech.lower().split() if (w not in stopwords) and len(w) >= 2]\n",
    "c = Counter(words)"
   ]
  },
  {
   "cell_type": "code",
   "execution_count": 40,
   "metadata": {},
   "outputs": [
    {
     "data": {
      "text/plain": [
       "[('college', 9), ('life.', 9), ('just', 8)]"
      ]
     },
     "execution_count": 40,
     "metadata": {},
     "output_type": "execute_result"
    }
   ],
   "source": [
    "c.most_common(3)"
   ]
  },
  {
   "cell_type": "code",
   "execution_count": 42,
   "metadata": {},
   "outputs": [
    {
     "data": {
      "text/plain": [
       "[('college', 9),\n",
       " ('life.', 9),\n",
       " ('just', 8),\n",
       " ('it.', 7),\n",
       " ('dropped', 7),\n",
       " ('years', 7),\n",
       " ('don’t', 7),\n",
       " ('want', 6),\n",
       " ('looking', 6),\n",
       " ('didn’t', 6)]"
      ]
     },
     "execution_count": 42,
     "metadata": {},
     "output_type": "execute_result"
    }
   ],
   "source": [
    "from collections import Counter\n",
    "Counter([w for w in speech.lower().split() if (w not in stopwords) and len(w) >= 2]).most_common(10)"
   ]
  },
  {
   "cell_type": "markdown",
   "metadata": {},
   "source": [
    "## 結構化與半結構化資料處理\n",
    "- https://www.books.com.tw/products/0010800271?gclid=Cj0KCQjwlJfsBRDUARIsAIDHsWp3feZObn-EtSjCFhzzBB4q3ZjKWxgjWojxF0LEsvlbWs8AsWfVCJQaAm_tEALw_wcB"
   ]
  },
  {
   "cell_type": "code",
   "execution_count": 43,
   "metadata": {},
   "outputs": [
    {
     "name": "stdout",
     "output_type": "stream",
     "text": [
      "['Categorical', 'CategoricalDtype', 'CategoricalIndex', 'DataFrame', 'DateOffset', 'DatetimeIndex', 'DatetimeTZDtype', 'ExcelFile', 'ExcelWriter', 'Float64Index', 'Grouper', 'HDFStore', 'Index', 'IndexSlice', 'Int16Dtype', 'Int32Dtype', 'Int64Dtype', 'Int64Index', 'Int8Dtype', 'Interval', 'IntervalDtype', 'IntervalIndex', 'MultiIndex', 'NaT', 'Panel', 'Period', 'PeriodDtype', 'PeriodIndex', 'RangeIndex', 'Series', 'SparseArray', 'SparseDataFrame', 'SparseDtype', 'SparseSeries', 'TimeGrouper', 'Timedelta', 'TimedeltaIndex', 'Timestamp', 'UInt16Dtype', 'UInt32Dtype', 'UInt64Dtype', 'UInt64Index', 'UInt8Dtype', '__builtins__', '__cached__', '__doc__', '__docformat__', '__file__', '__git_version__', '__loader__', '__name__', '__package__', '__path__', '__spec__', '__version__', '_hashtable', '_lib', '_libs', '_np_version_under1p13', '_np_version_under1p14', '_np_version_under1p15', '_np_version_under1p16', '_np_version_under1p17', '_tslib', '_version', 'api', 'array', 'arrays', 'bdate_range', 'compat', 'concat', 'core', 'crosstab', 'cut', 'date_range', 'datetime', 'describe_option', 'errors', 'eval', 'factorize', 'get_dummies', 'get_option', 'infer_freq', 'interval_range', 'io', 'isna', 'isnull', 'lreshape', 'melt', 'merge', 'merge_asof', 'merge_ordered', 'notna', 'notnull', 'np', 'offsets', 'option_context', 'options', 'pandas', 'period_range', 'pivot', 'pivot_table', 'plotting', 'qcut', 'read_clipboard', 'read_csv', 'read_excel', 'read_feather', 'read_fwf', 'read_gbq', 'read_hdf', 'read_html', 'read_json', 'read_msgpack', 'read_parquet', 'read_pickle', 'read_sas', 'read_sql', 'read_sql_query', 'read_sql_table', 'read_stata', 'read_table', 'reset_option', 'set_eng_float_format', 'set_option', 'show_versions', 'test', 'testing', 'timedelta_range', 'to_datetime', 'to_msgpack', 'to_numeric', 'to_pickle', 'to_timedelta', 'tseries', 'unique', 'util', 'value_counts', 'wide_to_long']\n"
     ]
    }
   ],
   "source": [
    "import pandas\n",
    "print(dir(pandas))"
   ]
  },
  {
   "cell_type": "code",
   "execution_count": 44,
   "metadata": {},
   "outputs": [],
   "source": [
    "df  = pandas.read_excel('https://raw.githubusercontent.com/ywchiu/tibamepy/master/data/eps.xlsx')"
   ]
  },
  {
   "cell_type": "code",
   "execution_count": 46,
   "metadata": {},
   "outputs": [
    {
     "data": {
      "text/html": [
       "<div>\n",
       "<style scoped>\n",
       "    .dataframe tbody tr th:only-of-type {\n",
       "        vertical-align: middle;\n",
       "    }\n",
       "\n",
       "    .dataframe tbody tr th {\n",
       "        vertical-align: top;\n",
       "    }\n",
       "\n",
       "    .dataframe thead th {\n",
       "        text-align: right;\n",
       "    }\n",
       "</style>\n",
       "<table border=\"1\" class=\"dataframe\">\n",
       "  <thead>\n",
       "    <tr style=\"text-align: right;\">\n",
       "      <th></th>\n",
       "      <th>Unnamed: 0</th>\n",
       "      <th>公司代號</th>\n",
       "      <th>公司名稱</th>\n",
       "      <th>產業別</th>\n",
       "      <th>基本每股盈餘(元)</th>\n",
       "      <th>普通股每股面額</th>\n",
       "      <th>營業收入</th>\n",
       "      <th>營業利益</th>\n",
       "      <th>營業外收入及支出</th>\n",
       "      <th>稅後淨利</th>\n",
       "      <th>Year</th>\n",
       "      <th>Season</th>\n",
       "    </tr>\n",
       "  </thead>\n",
       "  <tbody>\n",
       "    <tr>\n",
       "      <th>0</th>\n",
       "      <td>0</td>\n",
       "      <td>1102</td>\n",
       "      <td>亞洲水泥股份有限公司</td>\n",
       "      <td>水泥工業</td>\n",
       "      <td>0.40</td>\n",
       "      <td>新台幣 10.0000元</td>\n",
       "      <td>13931550</td>\n",
       "      <td>339801</td>\n",
       "      <td>1250044</td>\n",
       "      <td>1371559</td>\n",
       "      <td>102</td>\n",
       "      <td>1</td>\n",
       "    </tr>\n",
       "    <tr>\n",
       "      <th>1</th>\n",
       "      <td>1</td>\n",
       "      <td>1101</td>\n",
       "      <td>台灣水泥股份有限公司</td>\n",
       "      <td>水泥工業</td>\n",
       "      <td>0.38</td>\n",
       "      <td>新台幣 10.0000元</td>\n",
       "      <td>24114047</td>\n",
       "      <td>2026729</td>\n",
       "      <td>314060</td>\n",
       "      <td>1999624</td>\n",
       "      <td>102</td>\n",
       "      <td>1</td>\n",
       "    </tr>\n",
       "    <tr>\n",
       "      <th>2</th>\n",
       "      <td>2</td>\n",
       "      <td>1104</td>\n",
       "      <td>環球水泥股份有限公司</td>\n",
       "      <td>水泥工業</td>\n",
       "      <td>0.30</td>\n",
       "      <td>新台幣 10.0000元</td>\n",
       "      <td>1248072</td>\n",
       "      <td>30247</td>\n",
       "      <td>156012</td>\n",
       "      <td>183441</td>\n",
       "      <td>102</td>\n",
       "      <td>1</td>\n",
       "    </tr>\n",
       "  </tbody>\n",
       "</table>\n",
       "</div>"
      ],
      "text/plain": [
       "   Unnamed: 0  公司代號        公司名稱   產業別  基本每股盈餘(元)       普通股每股面額      營業收入  \\\n",
       "0           0  1102  亞洲水泥股份有限公司  水泥工業       0.40  新台幣 10.0000元  13931550   \n",
       "1           1  1101  台灣水泥股份有限公司  水泥工業       0.38  新台幣 10.0000元  24114047   \n",
       "2           2  1104  環球水泥股份有限公司  水泥工業       0.30  新台幣 10.0000元   1248072   \n",
       "\n",
       "      營業利益 營業外收入及支出     稅後淨利  Year  Season  \n",
       "0   339801  1250044  1371559   102       1  \n",
       "1  2026729   314060  1999624   102       1  \n",
       "2    30247   156012   183441   102       1  "
      ]
     },
     "execution_count": 46,
     "metadata": {},
     "output_type": "execute_result"
    }
   ],
   "source": [
    "df.head(3)"
   ]
  },
  {
   "cell_type": "code",
   "execution_count": 47,
   "metadata": {},
   "outputs": [],
   "source": [
    "df  = pandas.read_csv('https://github.com/ywchiu/tibamepy/raw/master/data/2330.TW.csv')"
   ]
  },
  {
   "cell_type": "code",
   "execution_count": 48,
   "metadata": {},
   "outputs": [
    {
     "data": {
      "text/html": [
       "<div>\n",
       "<style scoped>\n",
       "    .dataframe tbody tr th:only-of-type {\n",
       "        vertical-align: middle;\n",
       "    }\n",
       "\n",
       "    .dataframe tbody tr th {\n",
       "        vertical-align: top;\n",
       "    }\n",
       "\n",
       "    .dataframe thead th {\n",
       "        text-align: right;\n",
       "    }\n",
       "</style>\n",
       "<table border=\"1\" class=\"dataframe\">\n",
       "  <thead>\n",
       "    <tr style=\"text-align: right;\">\n",
       "      <th></th>\n",
       "      <th>Date</th>\n",
       "      <th>Open</th>\n",
       "      <th>High</th>\n",
       "      <th>Low</th>\n",
       "      <th>Close</th>\n",
       "      <th>Adj Close</th>\n",
       "      <th>Volume</th>\n",
       "    </tr>\n",
       "  </thead>\n",
       "  <tbody>\n",
       "    <tr>\n",
       "      <th>0</th>\n",
       "      <td>2000-01-04</td>\n",
       "      <td>69.649002</td>\n",
       "      <td>69.649002</td>\n",
       "      <td>68.475197</td>\n",
       "      <td>69.649002</td>\n",
       "      <td>38.253021</td>\n",
       "      <td>2.006623e+11</td>\n",
       "    </tr>\n",
       "    <tr>\n",
       "      <th>1</th>\n",
       "      <td>2000-01-05</td>\n",
       "      <td>69.649002</td>\n",
       "      <td>71.214104</td>\n",
       "      <td>68.866302</td>\n",
       "      <td>71.214104</td>\n",
       "      <td>39.112621</td>\n",
       "      <td>4.024668e+11</td>\n",
       "    </tr>\n",
       "    <tr>\n",
       "      <th>2</th>\n",
       "      <td>2000-01-06</td>\n",
       "      <td>70.822899</td>\n",
       "      <td>71.214104</td>\n",
       "      <td>69.649002</td>\n",
       "      <td>69.649002</td>\n",
       "      <td>38.253021</td>\n",
       "      <td>1.975457e+11</td>\n",
       "    </tr>\n",
       "  </tbody>\n",
       "</table>\n",
       "</div>"
      ],
      "text/plain": [
       "         Date       Open       High        Low      Close  Adj Close  \\\n",
       "0  2000-01-04  69.649002  69.649002  68.475197  69.649002  38.253021   \n",
       "1  2000-01-05  69.649002  71.214104  68.866302  71.214104  39.112621   \n",
       "2  2000-01-06  70.822899  71.214104  69.649002  69.649002  38.253021   \n",
       "\n",
       "         Volume  \n",
       "0  2.006623e+11  \n",
       "1  4.024668e+11  \n",
       "2  1.975457e+11  "
      ]
     },
     "execution_count": 48,
     "metadata": {},
     "output_type": "execute_result"
    }
   ],
   "source": [
    "df.head(3)"
   ]
  },
  {
   "cell_type": "code",
   "execution_count": 49,
   "metadata": {},
   "outputs": [],
   "source": [
    "df = pandas.read_json('https://raw.githubusercontent.com/ywchiu/tibamepy/master/data/2330.json')"
   ]
  },
  {
   "cell_type": "code",
   "execution_count": 51,
   "metadata": {},
   "outputs": [
    {
     "data": {
      "text/html": [
       "<div>\n",
       "<style scoped>\n",
       "    .dataframe tbody tr th:only-of-type {\n",
       "        vertical-align: middle;\n",
       "    }\n",
       "\n",
       "    .dataframe tbody tr th {\n",
       "        vertical-align: top;\n",
       "    }\n",
       "\n",
       "    .dataframe thead th {\n",
       "        text-align: right;\n",
       "    }\n",
       "</style>\n",
       "<table border=\"1\" class=\"dataframe\">\n",
       "  <thead>\n",
       "    <tr style=\"text-align: right;\">\n",
       "      <th></th>\n",
       "      <th>Date</th>\n",
       "      <th>Open</th>\n",
       "      <th>High</th>\n",
       "      <th>Low</th>\n",
       "      <th>Close</th>\n",
       "      <th>Volume</th>\n",
       "      <th>Adj Close</th>\n",
       "    </tr>\n",
       "  </thead>\n",
       "  <tbody>\n",
       "    <tr>\n",
       "      <th>0</th>\n",
       "      <td>2016-07-21</td>\n",
       "      <td>171.0</td>\n",
       "      <td>172.0</td>\n",
       "      <td>170.0</td>\n",
       "      <td>172.0</td>\n",
       "      <td>33130000</td>\n",
       "      <td>172.0</td>\n",
       "    </tr>\n",
       "    <tr>\n",
       "      <th>1</th>\n",
       "      <td>2016-07-20</td>\n",
       "      <td>170.0</td>\n",
       "      <td>170.5</td>\n",
       "      <td>169.0</td>\n",
       "      <td>170.0</td>\n",
       "      <td>38053000</td>\n",
       "      <td>170.0</td>\n",
       "    </tr>\n",
       "    <tr>\n",
       "      <th>2</th>\n",
       "      <td>2016-07-19</td>\n",
       "      <td>170.5</td>\n",
       "      <td>170.5</td>\n",
       "      <td>169.0</td>\n",
       "      <td>170.5</td>\n",
       "      <td>42456000</td>\n",
       "      <td>170.5</td>\n",
       "    </tr>\n",
       "  </tbody>\n",
       "</table>\n",
       "</div>"
      ],
      "text/plain": [
       "        Date   Open   High    Low  Close    Volume  Adj Close\n",
       "0 2016-07-21  171.0  172.0  170.0  172.0  33130000      172.0\n",
       "1 2016-07-20  170.0  170.5  169.0  170.0  38053000      170.0\n",
       "2 2016-07-19  170.5  170.5  169.0  170.5  42456000      170.5"
      ]
     },
     "execution_count": 51,
     "metadata": {},
     "output_type": "execute_result"
    }
   ],
   "source": [
    "df.head(3)"
   ]
  },
  {
   "cell_type": "code",
   "execution_count": 53,
   "metadata": {},
   "outputs": [],
   "source": [
    "import requests\n",
    "from bs4 import BeautifulSoup\n",
    "res = requests.get('http://opendataap2.penghu.gov.tw/resource/files/2019-09-05/1f904c53c18e7aee55cfdc46bf02a97a.xml')\n",
    "soup = BeautifulSoup(res.text, 'xml')"
   ]
  },
  {
   "cell_type": "code",
   "execution_count": 59,
   "metadata": {},
   "outputs": [
    {
     "name": "stdout",
     "output_type": "stream",
     "text": [
      "가리비 소스\n",
      "수동면\n",
      "수동면\n",
      "후아 즈 완\n",
      "현무암 공예\n",
      "땅콩 케이크\n",
      "바다 야채 수프 가방\n",
      "갈색 설탕 케이크\n",
      "도미 물고기 선물 상자 절삭\n",
      "바람 버섯 차\n",
      "펑후 새우\n"
     ]
    }
   ],
   "source": [
    "for l in soup.select('row_item'):\n",
    "    print(l.select_one('상품명').text)"
   ]
  },
  {
   "cell_type": "markdown",
   "metadata": {},
   "source": [
    "### PdfMiner3K"
   ]
  },
  {
   "cell_type": "code",
   "execution_count": 60,
   "metadata": {},
   "outputs": [
    {
     "name": "stdout",
     "output_type": "stream",
     "text": [
      "Collecting pdfminer3k\n",
      "  Downloading https://files.pythonhosted.org/packages/8c/87/cee0aa24f95c287020df7e3936cb51d32b34b05b430759bac15f89ea5ac2/pdfminer3k-1.3.1.tar.gz (4.1MB)\n",
      "Requirement already satisfied: pytest>=2.0 in c:\\users\\user\\anaconda3\\lib\\site-packages (from pdfminer3k) (5.0.1)\n",
      "Requirement already satisfied: ply>=3.4 in c:\\users\\user\\anaconda3\\lib\\site-packages (from pdfminer3k) (3.11)\n",
      "Requirement already satisfied: py>=1.5.0 in c:\\users\\user\\anaconda3\\lib\\site-packages (from pytest>=2.0->pdfminer3k) (1.8.0)\n",
      "Requirement already satisfied: packaging in c:\\users\\user\\anaconda3\\lib\\site-packages (from pytest>=2.0->pdfminer3k) (19.0)\n",
      "Requirement already satisfied: attrs>=17.4.0 in c:\\users\\user\\anaconda3\\lib\\site-packages (from pytest>=2.0->pdfminer3k) (19.1.0)\n",
      "Requirement already satisfied: more-itertools>=4.0.0 in c:\\users\\user\\anaconda3\\lib\\site-packages (from pytest>=2.0->pdfminer3k) (7.0.0)\n",
      "Requirement already satisfied: atomicwrites>=1.0 in c:\\users\\user\\anaconda3\\lib\\site-packages (from pytest>=2.0->pdfminer3k) (1.3.0)\n",
      "Requirement already satisfied: pluggy<1.0,>=0.12 in c:\\users\\user\\anaconda3\\lib\\site-packages (from pytest>=2.0->pdfminer3k) (0.12.0)\n",
      "Requirement already satisfied: importlib-metadata>=0.12 in c:\\users\\user\\anaconda3\\lib\\site-packages (from pytest>=2.0->pdfminer3k) (0.17)\n",
      "Requirement already satisfied: wcwidth in c:\\users\\user\\anaconda3\\lib\\site-packages (from pytest>=2.0->pdfminer3k) (0.1.7)\n",
      "Requirement already satisfied: colorama in c:\\users\\user\\anaconda3\\lib\\site-packages (from pytest>=2.0->pdfminer3k) (0.4.1)\n",
      "Requirement already satisfied: pyparsing>=2.0.2 in c:\\users\\user\\anaconda3\\lib\\site-packages (from packaging->pytest>=2.0->pdfminer3k) (2.4.0)\n",
      "Requirement already satisfied: six in c:\\users\\user\\anaconda3\\lib\\site-packages (from packaging->pytest>=2.0->pdfminer3k) (1.12.0)\n",
      "Requirement already satisfied: zipp>=0.5 in c:\\users\\user\\anaconda3\\lib\\site-packages (from importlib-metadata>=0.12->pytest>=2.0->pdfminer3k) (0.5.1)\n",
      "Building wheels for collected packages: pdfminer3k\n",
      "  Building wheel for pdfminer3k (setup.py): started\n",
      "  Building wheel for pdfminer3k (setup.py): finished with status 'done'\n",
      "  Stored in directory: C:\\Users\\User\\AppData\\Local\\pip\\Cache\\wheels\\ca\\4f\\a7\\cb601b4fb257d2321ac668b7c6e269176780bd0283eda855d2\n",
      "Successfully built pdfminer3k\n",
      "Installing collected packages: pdfminer3k\n",
      "Successfully installed pdfminer3k-1.3.1\n"
     ]
    }
   ],
   "source": [
    "! pip install pdfminer3k"
   ]
  },
  {
   "cell_type": "code",
   "execution_count": 66,
   "metadata": {},
   "outputs": [],
   "source": [
    "from pdfminer.pdfparser import PDFParser, PDFDocument\n",
    "from pdfminer.pdfinterp import PDFResourceManager, PDFPageInterpreter\n",
    "from pdfminer.converter import PDFPageAggregator\n",
    "from pdfminer.layout import LAParams, LTTextBox, LTTextLine\n",
    "\n",
    "s = ''\n",
    "fp = open('C:/Users/User/Desktop/2017cai_wu_bao_biao_.pdf', 'rb')\n",
    "parser = PDFParser(fp)\n",
    "doc = PDFDocument()\n",
    "parser.set_document(doc)\n",
    "doc.set_parser(parser)\n",
    "doc.initialize('')\n",
    "rsrcmgr = PDFResourceManager()\n",
    "laparams = LAParams()\n",
    "device = PDFPageAggregator(rsrcmgr, laparams=laparams)\n",
    "interpreter = PDFPageInterpreter(rsrcmgr, device)\n",
    "# Process each page contained in the document.\n",
    "for page in doc.get_pages():\n",
    "    interpreter.process_page(page)\n",
    "    layout = device.get_result()\n",
    "    for lt_obj in layout:\n",
    "        #print(lt_obj)\n",
    "        if isinstance(lt_obj, LTTextBox) or isinstance(lt_obj, LTTextLine):\n",
    "            s = s + lt_obj.get_text()\n",
    "    break"
   ]
  },
  {
   "cell_type": "code",
   "execution_count": 68,
   "metadata": {},
   "outputs": [
    {
     "name": "stdout",
     "output_type": "stream",
     "text": [
      " 財團法人主婦聯盟環境保護基金會\n",
      "　資產負債表　\n",
      "                                        　　　　　　　 2017年12月31日止                              　　　        單位：元\n",
      "金額\n",
      "會計科目\n",
      "負債、基金及餘絀\n",
      "流動負債\n",
      "78,633 　　　應付費用\n",
      "2,173,978 　　　應付稅捐\n",
      "704,163      暫收款\n",
      "505,902      存入保證金\n",
      "會計科目\n",
      "資    產\n",
      "流動資產\n",
      "　　　現金\n",
      "　　　銀行存款-台乙\n",
      "　　　銀行存款-郵撥\n",
      "　　　銀行存款-台乙 (南部辦公室專戶)\n",
      "　　　銀行存款-郵局乙存\n",
      "　　　銀行存款-新光\n",
      "　　　零用金-南部辦公室\n",
      "　　　銀行存款-定存\n",
      "      應收帳款                   \n",
      "      應收帳款-專案                            996,276 流動負債統計：\n",
      "      應收利息                           \n",
      "      暫付款\n",
      "      代付款\n",
      "      預付款\n",
      "      留抵稅額\n",
      "流動資產統計：\n",
      "36,103\n",
      "35,600\n",
      "6,400\n",
      "13,277\n",
      "1,053\n",
      "10,332,511 基金及餘絀\n",
      "389,423\n",
      "122,252\n",
      "11,110\n",
      "5,038,841\n",
      "219,500\n",
      "金額\n",
      "180,053\n",
      "4,073\n",
      "25,200\n",
      "72,000\n",
      "281,326\n",
      "基金及長期投資\n",
      "基金及長期投資統計：\n",
      "固定資產\n",
      "　　　房屋\n",
      "　　　累計折舊-房屋\n",
      "　　　土地\n",
      "　　　什項設備\n",
      "　　　累計折舊-什項設備\n",
      "固定資產統計：\n",
      "其它資產\n",
      "      存出保証金-其他\n",
      "　　　存出保証金-五樓之一\n",
      "其它資產統計：\n",
      "資產總計\n",
      "　　　基金\n",
      "1,054,000 　　　累積餘絀\n",
      "1,054,000 　　　本期餘絀\n",
      "1,000,000\n",
      "14,311,871\n",
      "184,204\n",
      "4,270,834\n",
      "-1,371,349\n",
      "1,023,255\n",
      "451,953\n",
      "-56,803 基金及餘絀統計：\n",
      "15,496,075\n",
      "4,317,890\n",
      "10,000\n",
      "63,000\n",
      "73,000\n",
      "15,777,401 負債、基金及餘絀總計\n",
      "15,777,401\n",
      "                  製表人：楊璨華 201801\n",
      " \n",
      " \n",
      "\n"
     ]
    }
   ],
   "source": [
    "print(s)"
   ]
  },
  {
   "cell_type": "code",
   "execution_count": 69,
   "metadata": {},
   "outputs": [],
   "source": [
    "with open('test.html', 'w') as f:\n",
    "    f.write('''<html><body><h1>hello world</h1></body></html>''')"
   ]
  },
  {
   "cell_type": "code",
   "execution_count": 72,
   "metadata": {},
   "outputs": [],
   "source": [
    "?pandas.read_csv"
   ]
  },
  {
   "cell_type": "code",
   "execution_count": 73,
   "metadata": {},
   "outputs": [],
   "source": [
    "import pandas\n",
    "df = pandas.read_csv('C:/Users/User/Desktop/test.csv', header = None)"
   ]
  },
  {
   "cell_type": "code",
   "execution_count": 74,
   "metadata": {},
   "outputs": [
    {
     "data": {
      "text/html": [
       "<div>\n",
       "<style scoped>\n",
       "    .dataframe tbody tr th:only-of-type {\n",
       "        vertical-align: middle;\n",
       "    }\n",
       "\n",
       "    .dataframe tbody tr th {\n",
       "        vertical-align: top;\n",
       "    }\n",
       "\n",
       "    .dataframe thead th {\n",
       "        text-align: right;\n",
       "    }\n",
       "</style>\n",
       "<table border=\"1\" class=\"dataframe\">\n",
       "  <thead>\n",
       "    <tr style=\"text-align: right;\">\n",
       "      <th></th>\n",
       "      <th>0</th>\n",
       "      <th>1</th>\n",
       "    </tr>\n",
       "  </thead>\n",
       "  <tbody>\n",
       "    <tr>\n",
       "      <th>0</th>\n",
       "      <td>a</td>\n",
       "      <td>1</td>\n",
       "    </tr>\n",
       "    <tr>\n",
       "      <th>1</th>\n",
       "      <td>b</td>\n",
       "      <td>2</td>\n",
       "    </tr>\n",
       "    <tr>\n",
       "      <th>2</th>\n",
       "      <td>c</td>\n",
       "      <td>3</td>\n",
       "    </tr>\n",
       "    <tr>\n",
       "      <th>3</th>\n",
       "      <td>d</td>\n",
       "      <td>4</td>\n",
       "    </tr>\n",
       "    <tr>\n",
       "      <th>4</th>\n",
       "      <td>e</td>\n",
       "      <td>5</td>\n",
       "    </tr>\n",
       "  </tbody>\n",
       "</table>\n",
       "</div>"
      ],
      "text/plain": [
       "   0  1\n",
       "0  a  1\n",
       "1  b  2\n",
       "2  c  3\n",
       "3  d  4\n",
       "4  e  5"
      ]
     },
     "execution_count": 74,
     "metadata": {},
     "output_type": "execute_result"
    }
   ],
   "source": [
    "df"
   ]
  },
  {
   "cell_type": "code",
   "execution_count": 75,
   "metadata": {},
   "outputs": [],
   "source": [
    "df.columns = ['col1', 'col2']"
   ]
  },
  {
   "cell_type": "code",
   "execution_count": 76,
   "metadata": {},
   "outputs": [
    {
     "data": {
      "text/html": [
       "<div>\n",
       "<style scoped>\n",
       "    .dataframe tbody tr th:only-of-type {\n",
       "        vertical-align: middle;\n",
       "    }\n",
       "\n",
       "    .dataframe tbody tr th {\n",
       "        vertical-align: top;\n",
       "    }\n",
       "\n",
       "    .dataframe thead th {\n",
       "        text-align: right;\n",
       "    }\n",
       "</style>\n",
       "<table border=\"1\" class=\"dataframe\">\n",
       "  <thead>\n",
       "    <tr style=\"text-align: right;\">\n",
       "      <th></th>\n",
       "      <th>col1</th>\n",
       "      <th>col2</th>\n",
       "    </tr>\n",
       "  </thead>\n",
       "  <tbody>\n",
       "    <tr>\n",
       "      <th>0</th>\n",
       "      <td>a</td>\n",
       "      <td>1</td>\n",
       "    </tr>\n",
       "    <tr>\n",
       "      <th>1</th>\n",
       "      <td>b</td>\n",
       "      <td>2</td>\n",
       "    </tr>\n",
       "    <tr>\n",
       "      <th>2</th>\n",
       "      <td>c</td>\n",
       "      <td>3</td>\n",
       "    </tr>\n",
       "    <tr>\n",
       "      <th>3</th>\n",
       "      <td>d</td>\n",
       "      <td>4</td>\n",
       "    </tr>\n",
       "    <tr>\n",
       "      <th>4</th>\n",
       "      <td>e</td>\n",
       "      <td>5</td>\n",
       "    </tr>\n",
       "  </tbody>\n",
       "</table>\n",
       "</div>"
      ],
      "text/plain": [
       "  col1  col2\n",
       "0    a     1\n",
       "1    b     2\n",
       "2    c     3\n",
       "3    d     4\n",
       "4    e     5"
      ]
     },
     "execution_count": 76,
     "metadata": {},
     "output_type": "execute_result"
    }
   ],
   "source": [
    "df"
   ]
  },
  {
   "cell_type": "markdown",
   "metadata": {},
   "source": [
    "## 網頁的組成元素\n",
    "- HTML : 放資料，讓瀏覽器可以根據不同的Tag 呈現不同行為的資訊\n",
    "- CSS　: 網頁的化妝師\n",
    "- Javascript　：前端可互動的腳本語言\n",
    "- Img\n",
    "\n",
    "- https://www.w3schools.com/\n",
    "- https://www.w3school.com.cn/"
   ]
  },
  {
   "cell_type": "raw",
   "metadata": {},
   "source": [
    "<html>\n",
    "<head>\n",
    "<style>\n",
    " #title{\n",
    "    color:red;\n",
    " }\n",
    " .link{\n",
    "   font-size:30px;\n",
    " }\n",
    "</style>\n",
    "<script>\n",
    "  alert('大家好');\n",
    "</script>\n",
    "</head>\n",
    "\n",
    "<body>\n",
    "<h1 id=\"title\">Hello World</h1>\n",
    "<img src=\"test.jpg\"></img>\n",
    "<a class=\"link\" href=\"https://www.google.com\">Google</a>\n",
    "<a class=\"link\" href=\"https://www.largitdata.com\">LargitData</a>\n",
    "</body>\n",
    "</html>"
   ]
  },
  {
   "cell_type": "markdown",
   "metadata": {},
   "source": [
    "## GET"
   ]
  },
  {
   "cell_type": "code",
   "execution_count": 77,
   "metadata": {},
   "outputs": [
    {
     "data": {
      "text/plain": [
       "<Response [200]>"
      ]
     },
     "execution_count": 77,
     "metadata": {},
     "output_type": "execute_result"
    }
   ],
   "source": [
    "import requests\n",
    "res = requests.get('https://tw.appledaily.com/new/realtime')\n",
    "res"
   ]
  },
  {
   "cell_type": "code",
   "execution_count": 78,
   "metadata": {},
   "outputs": [
    {
     "name": "stdout",
     "output_type": "stream",
     "text": [
      "['__attrs__', '__bool__', '__class__', '__delattr__', '__dict__', '__dir__', '__doc__', '__enter__', '__eq__', '__exit__', '__format__', '__ge__', '__getattribute__', '__getstate__', '__gt__', '__hash__', '__init__', '__init_subclass__', '__iter__', '__le__', '__lt__', '__module__', '__ne__', '__new__', '__nonzero__', '__reduce__', '__reduce_ex__', '__repr__', '__setattr__', '__setstate__', '__sizeof__', '__str__', '__subclasshook__', '__weakref__', '_content', '_content_consumed', '_next', 'apparent_encoding', 'close', 'connection', 'content', 'cookies', 'elapsed', 'encoding', 'headers', 'history', 'is_permanent_redirect', 'is_redirect', 'iter_content', 'iter_lines', 'json', 'links', 'next', 'ok', 'raise_for_status', 'raw', 'reason', 'request', 'status_code', 'text', 'url']\n"
     ]
    }
   ],
   "source": [
    "print(dir(res))"
   ]
  },
  {
   "cell_type": "code",
   "execution_count": 80,
   "metadata": {},
   "outputs": [],
   "source": [
    "#res.text"
   ]
  },
  {
   "cell_type": "markdown",
   "metadata": {},
   "source": [
    "## HTTP Status Code\n",
    "- https://zh.wikipedia.org/wiki/HTTP%E7%8A%B6%E6%80%81%E7%A0%81"
   ]
  },
  {
   "cell_type": "markdown",
   "metadata": {},
   "source": [
    "## POST"
   ]
  },
  {
   "cell_type": "code",
   "execution_count": 83,
   "metadata": {},
   "outputs": [],
   "source": [
    "import requests\n",
    "url = 'https://www.thsrc.com.tw/tw/TimeTable/Search'\n",
    "\n",
    "payload = {\n",
    "'StartStationName':  '台北站',\n",
    "'EndStationName':  '新竹站',\n",
    "'SearchType': 'S',\n",
    "'StartStation': '977abb69-413a-4ccf-a109-0272c24fd490',\n",
    "'EndStation': 'a7a04c89-900b-4798-95a3-c01c455622f4',\n",
    "'DepartueSearchDate': '2019/09/22',\n",
    "'DepartueSearchTime': '18:30'    \n",
    "}\n",
    "\n",
    "res = requests.post(url, data = payload)\n",
    "#res.text\n",
    "#res.json()"
   ]
  },
  {
   "cell_type": "markdown",
   "metadata": {},
   "source": [
    "## 小問題\n",
    "- 該使用 GET 或 POST存取哪個 URL 才能爬取台鐵時刻表資料\n",
    "- https://www.railway.gov.tw/tra-tip-web/tip/tip001/tip112/gobytime\n",
    "\n",
    "- 該使用 GET 或 POST存取哪個 URL 才能爬取PCHOME價格資料\n",
    "- https://24h.pchome.com.tw/prod/DYAJ95-A900A8XYY"
   ]
  },
  {
   "cell_type": "code",
   "execution_count": 84,
   "metadata": {},
   "outputs": [],
   "source": [
    "import requests\n",
    "url = 'https://www.railway.gov.tw/tra-tip-web/tip/tip001/tip112/querybytime'\n",
    "payload = {\n",
    "'startStation': '0900-基隆',\n",
    "'endStation': '0990-松山',\n",
    "'transfer': 'ONE',\n",
    "'rideDate': '2019/09/22',\n",
    "'startOrEndTime': 'true',\n",
    "'startTime': '00:00',\n",
    "'endTime': '23:59',\n",
    "'trainTypeList': 'ALL',\n",
    "'query': '查詢'    \n",
    "}\n",
    "res = requests.post(url, data = payload)"
   ]
  },
  {
   "cell_type": "code",
   "execution_count": 86,
   "metadata": {},
   "outputs": [],
   "source": [
    "#res.text"
   ]
  },
  {
   "cell_type": "code",
   "execution_count": 90,
   "metadata": {},
   "outputs": [
    {
     "data": {
      "text/plain": [
       "{'Seq': 23510630,\n",
       " 'Id': 'DYAJ95-A900A8XYY-000',\n",
       " 'Price': {'M': 0, 'P': 24900, 'Prime': ''},\n",
       " 'Qty': 1,\n",
       " 'ButtonType': 'ForSale',\n",
       " 'SaleStatus': 1,\n",
       " 'isPrimeOnly': 0,\n",
       " 'SpecialQty': 0}"
      ]
     },
     "execution_count": 90,
     "metadata": {},
     "output_type": "execute_result"
    }
   ],
   "source": [
    "import requests\n",
    "import json\n",
    "res = requests.get('https://24h.pchome.com.tw/ecapi/ecshop/prodapi/v2/prod/button&id=DYAJ95-A900A8XYY&fields=Seq,Id,Price,Qty,ButtonType,SaleStatus,isPrimeOnly,SpecialQty&_callback=jsonp_button&1569126420?_callback=jsonp_button')\n",
    "d = res.text.split('[')[1].split(']')[0]\n",
    "json.loads(d)"
   ]
  },
  {
   "cell_type": "code",
   "execution_count": null,
   "metadata": {},
   "outputs": [],
   "source": []
  }
 ],
 "metadata": {
  "kernelspec": {
   "display_name": "Python 3",
   "language": "python",
   "name": "python3"
  },
  "language_info": {
   "codemirror_mode": {
    "name": "ipython",
    "version": 3
   },
   "file_extension": ".py",
   "mimetype": "text/x-python",
   "name": "python",
   "nbconvert_exporter": "python",
   "pygments_lexer": "ipython3",
   "version": "3.7.3"
  }
 },
 "nbformat": 4,
 "nbformat_minor": 2
}
