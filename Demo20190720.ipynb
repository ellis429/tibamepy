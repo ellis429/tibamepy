{
 "cells": [
  {
   "cell_type": "markdown",
   "metadata": {},
   "source": [
    "## 將字詞向量化"
   ]
  },
  {
   "cell_type": "code",
   "execution_count": 1,
   "metadata": {},
   "outputs": [],
   "source": [
    "s = '柯文哲為了大巨蛋一事槓上遠雄'"
   ]
  },
  {
   "cell_type": "code",
   "execution_count": 4,
   "metadata": {},
   "outputs": [
    {
     "name": "stdout",
     "output_type": "stream",
     "text": [
      "柯文哲\n",
      "為\n",
      "了\n",
      "大巨蛋\n",
      "一事\n",
      "槓上\n",
      "遠雄\n"
     ]
    }
   ],
   "source": [
    "import jieba\n",
    "jieba.load_userdict('userdict.txt')\n",
    "for w in jieba.cut(s):\n",
    "    print(w)"
   ]
  },
  {
   "cell_type": "code",
   "execution_count": 5,
   "metadata": {},
   "outputs": [
    {
     "data": {
      "text/plain": [
       "['How to format my hard disk', ' Hard disk format problems ']"
      ]
     },
     "execution_count": 5,
     "metadata": {},
     "output_type": "execute_result"
    }
   ],
   "source": [
    "content = [\"How to format my hard disk\", \" Hard disk format problems \"]\n",
    "content"
   ]
  },
  {
   "cell_type": "code",
   "execution_count": 9,
   "metadata": {},
   "outputs": [],
   "source": [
    "a = content[0].lower().split()\n",
    "b = content[1].lower().split()"
   ]
  },
  {
   "cell_type": "code",
   "execution_count": 10,
   "metadata": {},
   "outputs": [
    {
     "data": {
      "text/plain": [
       "['how', 'to', 'format', 'my', 'hard', 'disk']"
      ]
     },
     "execution_count": 10,
     "metadata": {},
     "output_type": "execute_result"
    }
   ],
   "source": [
    "a"
   ]
  },
  {
   "cell_type": "code",
   "execution_count": 11,
   "metadata": {},
   "outputs": [
    {
     "data": {
      "text/plain": [
       "['hard', 'disk', 'format', 'problems']"
      ]
     },
     "execution_count": 11,
     "metadata": {},
     "output_type": "execute_result"
    }
   ],
   "source": [
    "b"
   ]
  },
  {
   "cell_type": "code",
   "execution_count": 13,
   "metadata": {},
   "outputs": [
    {
     "data": {
      "text/plain": [
       "{'disk', 'format', 'hard', 'how', 'my', 'problems', 'to'}"
      ]
     },
     "execution_count": 13,
     "metadata": {},
     "output_type": "execute_result"
    }
   ],
   "source": [
    "words_set = set(a) | set(b)\n",
    "words_set"
   ]
  },
  {
   "cell_type": "code",
   "execution_count": 16,
   "metadata": {},
   "outputs": [],
   "source": [
    "word_to_id = {}\n",
    "id_to_word = {}\n",
    "for i in enumerate(words_set):\n",
    "    #print(i)\n",
    "    word_to_id[i[1]] = i[0]\n",
    "    id_to_word[i[0]] = i[1]"
   ]
  },
  {
   "cell_type": "code",
   "execution_count": 18,
   "metadata": {},
   "outputs": [
    {
     "data": {
      "text/plain": [
       "{'how': 0, 'hard': 1, 'disk': 2, 'problems': 3, 'format': 4, 'to': 5, 'my': 6}"
      ]
     },
     "execution_count": 18,
     "metadata": {},
     "output_type": "execute_result"
    }
   ],
   "source": [
    "word_to_id"
   ]
  },
  {
   "cell_type": "code",
   "execution_count": 19,
   "metadata": {},
   "outputs": [
    {
     "data": {
      "text/plain": [
       "{0: 'how', 1: 'hard', 2: 'disk', 3: 'problems', 4: 'format', 5: 'to', 6: 'my'}"
      ]
     },
     "execution_count": 19,
     "metadata": {},
     "output_type": "execute_result"
    }
   ],
   "source": [
    "id_to_word"
   ]
  },
  {
   "cell_type": "code",
   "execution_count": 21,
   "metadata": {},
   "outputs": [],
   "source": [
    "a_ary = [word_to_id.get(w) for w in a]\n",
    "b_ary = [word_to_id.get(w) for w in b]"
   ]
  },
  {
   "cell_type": "code",
   "execution_count": 23,
   "metadata": {},
   "outputs": [
    {
     "data": {
      "text/plain": [
       "[0, 5, 4, 6, 1, 2]"
      ]
     },
     "execution_count": 23,
     "metadata": {},
     "output_type": "execute_result"
    }
   ],
   "source": [
    "a_ary"
   ]
  },
  {
   "cell_type": "code",
   "execution_count": 25,
   "metadata": {},
   "outputs": [
    {
     "data": {
      "text/plain": [
       "[1, 2, 4, 3]"
      ]
     },
     "execution_count": 25,
     "metadata": {},
     "output_type": "execute_result"
    }
   ],
   "source": [
    "b_ary"
   ]
  },
  {
   "cell_type": "code",
   "execution_count": 27,
   "metadata": {},
   "outputs": [],
   "source": [
    "import numpy as np\n",
    "m = np.zeros((2,7))"
   ]
  },
  {
   "cell_type": "code",
   "execution_count": 28,
   "metadata": {},
   "outputs": [],
   "source": [
    "for e in a_ary:\n",
    "    m[0,e] = 1\n",
    "for e in b_ary:\n",
    "    m[1,e] = 1"
   ]
  },
  {
   "cell_type": "code",
   "execution_count": 29,
   "metadata": {},
   "outputs": [
    {
     "data": {
      "text/plain": [
       "array([[1., 1., 1., 0., 1., 1., 1.],\n",
       "       [0., 1., 1., 1., 1., 0., 0.]])"
      ]
     },
     "execution_count": 29,
     "metadata": {},
     "output_type": "execute_result"
    }
   ],
   "source": [
    "m"
   ]
  },
  {
   "cell_type": "code",
   "execution_count": 33,
   "metadata": {},
   "outputs": [
    {
     "data": {
      "text/plain": [
       "2.0"
      ]
     },
     "execution_count": 33,
     "metadata": {},
     "output_type": "execute_result"
    }
   ],
   "source": [
    "import math\n",
    "math.sqrt(((m[0] - m[1])**2).sum())"
   ]
  },
  {
   "cell_type": "code",
   "execution_count": 34,
   "metadata": {},
   "outputs": [],
   "source": [
    "from sklearn.feature_extraction.text import CountVectorizer\n",
    "vectorizer = CountVectorizer()\n",
    "X = vectorizer.fit_transform(content)"
   ]
  },
  {
   "cell_type": "code",
   "execution_count": 35,
   "metadata": {},
   "outputs": [
    {
     "data": {
      "text/plain": [
       "<2x7 sparse matrix of type '<class 'numpy.int64'>'\n",
       "\twith 10 stored elements in Compressed Sparse Row format>"
      ]
     },
     "execution_count": 35,
     "metadata": {},
     "output_type": "execute_result"
    }
   ],
   "source": [
    "X"
   ]
  },
  {
   "cell_type": "code",
   "execution_count": 37,
   "metadata": {},
   "outputs": [
    {
     "name": "stdout",
     "output_type": "stream",
     "text": [
      "['disk', 'format', 'hard', 'how', 'my', 'problems', 'to']\n"
     ]
    }
   ],
   "source": [
    "print(vectorizer.get_feature_names())"
   ]
  },
  {
   "cell_type": "code",
   "execution_count": 36,
   "metadata": {},
   "outputs": [
    {
     "data": {
      "text/plain": [
       "array([[1, 1, 1, 1, 1, 0, 1],\n",
       "       [1, 1, 1, 0, 0, 1, 0]], dtype=int64)"
      ]
     },
     "execution_count": 36,
     "metadata": {},
     "output_type": "execute_result"
    }
   ],
   "source": [
    "X.toarray()"
   ]
  },
  {
   "cell_type": "markdown",
   "metadata": {},
   "source": [
    "## 計算文字對文字的距離"
   ]
  },
  {
   "cell_type": "code",
   "execution_count": 38,
   "metadata": {},
   "outputs": [],
   "source": [
    "posts = [\n",
    "'This is a toy post about machine learning. Actually, it contains not much interesting stuff.',\n",
    "'Imaging databases provide storage capabilities.' ,\n",
    "'Most imaging databases safe images permanently.',\n",
    "'Imaging databases store data.',\n",
    "'Imaging databases store data. Imaging databases store data. Imaging databases store data.',\n",
    "]"
   ]
  },
  {
   "cell_type": "code",
   "execution_count": 39,
   "metadata": {},
   "outputs": [],
   "source": [
    "from sklearn.feature_extraction.text import CountVectorizer\n",
    "vectorizer = CountVectorizer()\n",
    "X = vectorizer.fit_transform(posts)"
   ]
  },
  {
   "cell_type": "code",
   "execution_count": 40,
   "metadata": {},
   "outputs": [
    {
     "name": "stdout",
     "output_type": "stream",
     "text": [
      "['about', 'actually', 'capabilities', 'contains', 'data', 'databases', 'images', 'imaging', 'interesting', 'is', 'it', 'learning', 'machine', 'most', 'much', 'not', 'permanently', 'post', 'provide', 'safe', 'storage', 'store', 'stuff', 'this', 'toy']\n"
     ]
    }
   ],
   "source": [
    "print(vectorizer.get_feature_names())"
   ]
  },
  {
   "cell_type": "code",
   "execution_count": 41,
   "metadata": {},
   "outputs": [
    {
     "data": {
      "text/plain": [
       "<5x25 sparse matrix of type '<class 'numpy.int64'>'\n",
       "\twith 33 stored elements in Compressed Sparse Row format>"
      ]
     },
     "execution_count": 41,
     "metadata": {},
     "output_type": "execute_result"
    }
   ],
   "source": [
    "X"
   ]
  },
  {
   "cell_type": "code",
   "execution_count": 43,
   "metadata": {},
   "outputs": [],
   "source": [
    "#X.toarray()"
   ]
  },
  {
   "cell_type": "code",
   "execution_count": 46,
   "metadata": {},
   "outputs": [],
   "source": [
    "query = 'Imaging database'"
   ]
  },
  {
   "cell_type": "code",
   "execution_count": 48,
   "metadata": {},
   "outputs": [],
   "source": [
    "Y = vectorizer.transform([query])"
   ]
  },
  {
   "cell_type": "code",
   "execution_count": 49,
   "metadata": {},
   "outputs": [
    {
     "data": {
      "text/plain": [
       "<1x25 sparse matrix of type '<class 'numpy.int64'>'\n",
       "\twith 1 stored elements in Compressed Sparse Row format>"
      ]
     },
     "execution_count": 49,
     "metadata": {},
     "output_type": "execute_result"
    }
   ],
   "source": [
    "Y"
   ]
  },
  {
   "cell_type": "code",
   "execution_count": 52,
   "metadata": {},
   "outputs": [
    {
     "data": {
      "text/plain": [
       "array([[-1, -1,  0, -1,  0,  0,  0,  1, -1, -1, -1, -1, -1,  0, -1, -1,\n",
       "         0, -1,  0,  0,  0,  0, -1, -1, -1]], dtype=int64)"
      ]
     },
     "execution_count": 52,
     "metadata": {},
     "output_type": "execute_result"
    }
   ],
   "source": [
    "(Y - X[0]).toarray()"
   ]
  },
  {
   "cell_type": "markdown",
   "metadata": {},
   "source": [
    "## 使用Euclidean Distance 計算距離"
   ]
  },
  {
   "cell_type": "code",
   "execution_count": 61,
   "metadata": {},
   "outputs": [],
   "source": [
    "import scipy as sp\n",
    "\n",
    "def euclidean_dist_raw(v1, v2):\n",
    "    delta = v1-v2\n",
    "    return sp.linalg.norm(delta)"
   ]
  },
  {
   "cell_type": "code",
   "execution_count": 55,
   "metadata": {},
   "outputs": [],
   "source": [
    "?sp.linalg.norm"
   ]
  },
  {
   "cell_type": "code",
   "execution_count": 58,
   "metadata": {},
   "outputs": [
    {
     "data": {
      "text/plain": [
       "2.0"
      ]
     },
     "execution_count": 58,
     "metadata": {},
     "output_type": "execute_result"
    }
   ],
   "source": [
    "sp.linalg.norm(np.array([-1,1,-1,1]))"
   ]
  },
  {
   "cell_type": "code",
   "execution_count": 62,
   "metadata": {},
   "outputs": [
    {
     "name": "stdout",
     "output_type": "stream",
     "text": [
      "This is a toy post about machine learning. Actually, it contains not much interesting stuff. 3.872983346207417\n",
      "Imaging databases provide storage capabilities. 2.0\n",
      "Most imaging databases safe images permanently. 2.23606797749979\n",
      "Imaging databases store data. 1.7320508075688772\n",
      "Imaging databases store data. Imaging databases store data. Imaging databases store data. 5.5677643628300215\n"
     ]
    }
   ],
   "source": [
    "for i in range(5):\n",
    "    print(posts[i], euclidean_dist_raw(X[i].toarray(), Y.toarray()))"
   ]
  },
  {
   "cell_type": "code",
   "execution_count": 63,
   "metadata": {},
   "outputs": [
    {
     "data": {
      "text/plain": [
       "2.0"
      ]
     },
     "execution_count": 63,
     "metadata": {},
     "output_type": "execute_result"
    }
   ],
   "source": [
    "sp.linalg.norm(np.array([1,1,1,1]))"
   ]
  },
  {
   "cell_type": "code",
   "execution_count": 64,
   "metadata": {},
   "outputs": [
    {
     "data": {
      "text/plain": [
       "1.4142135623730951"
      ]
     },
     "execution_count": 64,
     "metadata": {},
     "output_type": "execute_result"
    }
   ],
   "source": [
    "sp.linalg.norm(np.array([0,0,1,1]))"
   ]
  },
  {
   "cell_type": "code",
   "execution_count": 65,
   "metadata": {},
   "outputs": [
    {
     "data": {
      "text/plain": [
       "3.4641016151377544"
      ]
     },
     "execution_count": 65,
     "metadata": {},
     "output_type": "execute_result"
    }
   ],
   "source": [
    "sp.linalg.norm(np.array([1,1,1,1,1,1,1,1,1,1,1,1]))"
   ]
  },
  {
   "cell_type": "markdown",
   "metadata": {},
   "source": [
    "## 將每個詞向量先做正規化後再計算距離"
   ]
  },
  {
   "cell_type": "code",
   "execution_count": 70,
   "metadata": {},
   "outputs": [],
   "source": [
    "def dist(v1, v2):\n",
    "    v1_normalized  = v1 / sp.linalg.norm(v1) \n",
    "    v2_normalized  = v2 / sp.linalg.norm(v2)\n",
    "    delta = v1_normalized - v2_normalized\n",
    "    return sp.linalg.norm(delta)"
   ]
  },
  {
   "cell_type": "code",
   "execution_count": 71,
   "metadata": {},
   "outputs": [
    {
     "name": "stdout",
     "output_type": "stream",
     "text": [
      "This is a toy post about machine learning. Actually, it contains not much interesting stuff. 1.4142135623730951\n",
      "Imaging databases provide storage capabilities. 1.0514622242382672\n",
      "Most imaging databases safe images permanently. 1.0878894332937856\n",
      "Imaging databases store data. 1.0\n",
      "Imaging databases store data. Imaging databases store data. Imaging databases store data. 1.0\n"
     ]
    }
   ],
   "source": [
    "for i in range(5):\n",
    "    print(posts[i], dist(X[i].toarray(), Y.toarray()))"
   ]
  },
  {
   "cell_type": "markdown",
   "metadata": {},
   "source": [
    "## 移除停用詞"
   ]
  },
  {
   "cell_type": "code",
   "execution_count": 72,
   "metadata": {},
   "outputs": [
    {
     "name": "stdout",
     "output_type": "stream",
     "text": [
      "['about', 'actually', 'capabilities', 'contains', 'data', 'databases', 'images', 'imaging', 'interesting', 'is', 'it', 'learning', 'machine', 'most', 'much', 'not', 'permanently', 'post', 'provide', 'safe', 'storage', 'store', 'stuff', 'this', 'toy']\n"
     ]
    }
   ],
   "source": [
    "print(vectorizer.get_feature_names())"
   ]
  },
  {
   "cell_type": "code",
   "execution_count": 73,
   "metadata": {},
   "outputs": [],
   "source": [
    "from sklearn.feature_extraction.text import CountVectorizer\n",
    "?CountVectorizer"
   ]
  },
  {
   "cell_type": "code",
   "execution_count": 74,
   "metadata": {},
   "outputs": [],
   "source": [
    "\n",
    "vectorizer = CountVectorizer(stop_words='english')\n",
    "X = vectorizer.fit_transform(posts)"
   ]
  },
  {
   "cell_type": "code",
   "execution_count": 75,
   "metadata": {},
   "outputs": [
    {
     "name": "stdout",
     "output_type": "stream",
     "text": [
      "['actually', 'capabilities', 'contains', 'data', 'databases', 'images', 'imaging', 'interesting', 'learning', 'machine', 'permanently', 'post', 'provide', 'safe', 'storage', 'store', 'stuff', 'toy']\n"
     ]
    }
   ],
   "source": [
    "print(vectorizer.get_feature_names())"
   ]
  },
  {
   "cell_type": "code",
   "execution_count": 77,
   "metadata": {},
   "outputs": [
    {
     "data": {
      "text/plain": [
       "<5x18 sparse matrix of type '<class 'numpy.int64'>'\n",
       "\twith 26 stored elements in Compressed Sparse Row format>"
      ]
     },
     "execution_count": 77,
     "metadata": {},
     "output_type": "execute_result"
    }
   ],
   "source": [
    "X"
   ]
  },
  {
   "cell_type": "code",
   "execution_count": 79,
   "metadata": {},
   "outputs": [],
   "source": [
    "Y = vectorizer.transform([query])"
   ]
  },
  {
   "cell_type": "code",
   "execution_count": 80,
   "metadata": {},
   "outputs": [
    {
     "name": "stdout",
     "output_type": "stream",
     "text": [
      "This is a toy post about machine learning. Actually, it contains not much interesting stuff. 1.414213562373095\n",
      "Imaging databases provide storage capabilities. 1.0514622242382672\n",
      "Most imaging databases safe images permanently. 1.0514622242382672\n",
      "Imaging databases store data. 1.0\n",
      "Imaging databases store data. Imaging databases store data. Imaging databases store data. 1.0\n"
     ]
    }
   ],
   "source": [
    "for i in range(5):\n",
    "    print(posts[i], dist(X[i].toarray(), Y.toarray()))"
   ]
  },
  {
   "cell_type": "markdown",
   "metadata": {},
   "source": [
    "## Stemming"
   ]
  },
  {
   "cell_type": "code",
   "execution_count": 81,
   "metadata": {},
   "outputs": [],
   "source": [
    "import nltk.stem\n",
    "s = nltk.stem.SnowballStemmer('english')"
   ]
  },
  {
   "cell_type": "code",
   "execution_count": 82,
   "metadata": {},
   "outputs": [
    {
     "data": {
      "text/plain": [
       "'graphic'"
      ]
     },
     "execution_count": 82,
     "metadata": {},
     "output_type": "execute_result"
    }
   ],
   "source": [
    "s.stem('graphics')"
   ]
  },
  {
   "cell_type": "code",
   "execution_count": 83,
   "metadata": {},
   "outputs": [
    {
     "name": "stdout",
     "output_type": "stream",
     "text": [
      "imag\n",
      "imag\n",
      "imagin\n",
      "imagin\n"
     ]
    }
   ],
   "source": [
    "print(s.stem(\"imaging\"))\n",
    "print(s.stem(\"image\"))\n",
    "\n",
    "print(s.stem(\"imagination\"))\n",
    "print(s.stem(\"imagine\"))"
   ]
  },
  {
   "cell_type": "code",
   "execution_count": 85,
   "metadata": {},
   "outputs": [
    {
     "name": "stdout",
     "output_type": "stream",
     "text": [
      "i am eating\n"
     ]
    }
   ],
   "source": [
    "class Dog():\n",
    "    def eat(self):\n",
    "        print('i am eating')\n",
    "        \n",
    "class Cat():\n",
    "    def eat(self):\n",
    "        print('i am eating')\n",
    "        \n",
    "a = Dog()\n",
    "a.eat()"
   ]
  },
  {
   "cell_type": "code",
   "execution_count": 86,
   "metadata": {},
   "outputs": [
    {
     "name": "stdout",
     "output_type": "stream",
     "text": [
      "i am eating\n"
     ]
    }
   ],
   "source": [
    "b = Cat()\n",
    "b.eat()"
   ]
  },
  {
   "cell_type": "code",
   "execution_count": 89,
   "metadata": {},
   "outputs": [
    {
     "name": "stdout",
     "output_type": "stream",
     "text": [
      "i am eating\n",
      "i am playing\n"
     ]
    },
    {
     "ename": "AttributeError",
     "evalue": "'Dog' object has no attribute 'sleep'",
     "output_type": "error",
     "traceback": [
      "\u001b[1;31m---------------------------------------------------------------------------\u001b[0m",
      "\u001b[1;31mAttributeError\u001b[0m                            Traceback (most recent call last)",
      "\u001b[1;32m<ipython-input-89-707f50151965>\u001b[0m in \u001b[0;36m<module>\u001b[1;34m\u001b[0m\n\u001b[0;32m     16\u001b[0m \u001b[0ma\u001b[0m\u001b[1;33m.\u001b[0m\u001b[0meat\u001b[0m\u001b[1;33m(\u001b[0m\u001b[1;33m)\u001b[0m\u001b[1;33m\u001b[0m\u001b[1;33m\u001b[0m\u001b[0m\n\u001b[0;32m     17\u001b[0m \u001b[0ma\u001b[0m\u001b[1;33m.\u001b[0m\u001b[0mplay\u001b[0m\u001b[1;33m(\u001b[0m\u001b[1;33m)\u001b[0m\u001b[1;33m\u001b[0m\u001b[1;33m\u001b[0m\u001b[0m\n\u001b[1;32m---> 18\u001b[1;33m \u001b[0ma\u001b[0m\u001b[1;33m.\u001b[0m\u001b[0msleep\u001b[0m\u001b[1;33m(\u001b[0m\u001b[1;33m)\u001b[0m\u001b[1;33m\u001b[0m\u001b[1;33m\u001b[0m\u001b[0m\n\u001b[0m",
      "\u001b[1;31mAttributeError\u001b[0m: 'Dog' object has no attribute 'sleep'"
     ]
    }
   ],
   "source": [
    "class Animal():\n",
    "    def eat(self):\n",
    "        print('i am eating')\n",
    "    def walk(self):\n",
    "        print('i am walking')\n",
    "        \n",
    "class Dog(Animal):\n",
    "    def play(self):\n",
    "        print('i am playing')\n",
    "        \n",
    "class Cat(Animal):\n",
    "    def sleep(self):\n",
    "        print('i am sleeping')\n",
    "\n",
    "a = Dog()\n",
    "a.eat()\n",
    "a.play()\n",
    "a.sleep()"
   ]
  },
  {
   "cell_type": "code",
   "execution_count": 92,
   "metadata": {},
   "outputs": [],
   "source": [
    "\n",
    "import nltk.stem\n",
    "english_stemmer = nltk.stem.SnowballStemmer('english')\n",
    "\n",
    "class StemmedCountVectorizer(CountVectorizer):\n",
    "    def build_analyzer(self):\n",
    "        analyzer = super(StemmedCountVectorizer, self).build_analyzer()\n",
    "        return lambda doc: (english_stemmer.stem(w) for w in analyzer(doc))"
   ]
  },
  {
   "cell_type": "code",
   "execution_count": 93,
   "metadata": {},
   "outputs": [],
   "source": [
    "vectorizer = StemmedCountVectorizer(stop_words='english')\n",
    "X = vectorizer.fit_transform(posts)\n",
    "Y = vectorizer.transform([query])"
   ]
  },
  {
   "cell_type": "code",
   "execution_count": 96,
   "metadata": {},
   "outputs": [
    {
     "name": "stdout",
     "output_type": "stream",
     "text": [
      "['actual', 'capabl', 'contain', 'data', 'databas', 'imag', 'interest', 'learn', 'machin', 'perman', 'post', 'provid', 'safe', 'storag', 'store', 'stuff', 'toy']\n"
     ]
    }
   ],
   "source": [
    "print(vectorizer.get_feature_names())"
   ]
  },
  {
   "cell_type": "code",
   "execution_count": 94,
   "metadata": {},
   "outputs": [
    {
     "name": "stdout",
     "output_type": "stream",
     "text": [
      "This is a toy post about machine learning. Actually, it contains not much interesting stuff. 1.414213562373095\n",
      "Imaging databases provide storage capabilities. 0.8573732768944039\n",
      "Most imaging databases safe images permanently. 0.6296288974669553\n",
      "Imaging databases store data. 0.7653668647301795\n",
      "Imaging databases store data. Imaging databases store data. Imaging databases store data. 0.7653668647301795\n"
     ]
    }
   ],
   "source": [
    "for i in range(5):\n",
    "    print(posts[i], dist(X[i].toarray(), Y.toarray()))"
   ]
  },
  {
   "cell_type": "markdown",
   "metadata": {},
   "source": [
    "## TFIDF 詞頻矩陣"
   ]
  },
  {
   "cell_type": "code",
   "execution_count": 98,
   "metadata": {},
   "outputs": [],
   "source": [
    "from sklearn.feature_extraction.text import TfidfVectorizer\n",
    "vectorizer = TfidfVectorizer()\n",
    "X = vectorizer.fit_transform(posts)\n",
    "Y = vectorizer.transform([query])"
   ]
  },
  {
   "cell_type": "code",
   "execution_count": 102,
   "metadata": {},
   "outputs": [
    {
     "data": {
      "text/plain": [
       "<5x25 sparse matrix of type '<class 'numpy.float64'>'\n",
       "\twith 33 stored elements in Compressed Sparse Row format>"
      ]
     },
     "execution_count": 102,
     "metadata": {},
     "output_type": "execute_result"
    }
   ],
   "source": [
    "X"
   ]
  },
  {
   "cell_type": "code",
   "execution_count": 103,
   "metadata": {},
   "outputs": [
    {
     "data": {
      "text/plain": [
       "array([[0.26726124, 0.26726124, 0.        , 0.26726124, 0.        ,\n",
       "        0.        , 0.        , 0.        , 0.26726124, 0.26726124,\n",
       "        0.26726124, 0.26726124, 0.26726124, 0.        , 0.26726124,\n",
       "        0.26726124, 0.        , 0.26726124, 0.        , 0.        ,\n",
       "        0.        , 0.        , 0.26726124, 0.26726124, 0.26726124],\n",
       "       [0.        , 0.        , 0.52451722, 0.        , 0.        ,\n",
       "        0.29550385, 0.        , 0.29550385, 0.        , 0.        ,\n",
       "        0.        , 0.        , 0.        , 0.        , 0.        ,\n",
       "        0.        , 0.        , 0.        , 0.52451722, 0.        ,\n",
       "        0.52451722, 0.        , 0.        , 0.        , 0.        ],\n",
       "       [0.        , 0.        , 0.        , 0.        , 0.        ,\n",
       "        0.26169047, 0.46449871, 0.26169047, 0.        , 0.        ,\n",
       "        0.        , 0.        , 0.        , 0.46449871, 0.        ,\n",
       "        0.        , 0.46449871, 0.        , 0.        , 0.46449871,\n",
       "        0.        , 0.        , 0.        , 0.        , 0.        ],\n",
       "       [0.        , 0.        , 0.        , 0.        , 0.57974759,\n",
       "        0.40483667, 0.        , 0.40483667, 0.        , 0.        ,\n",
       "        0.        , 0.        , 0.        , 0.        , 0.        ,\n",
       "        0.        , 0.        , 0.        , 0.        , 0.        ,\n",
       "        0.        , 0.57974759, 0.        , 0.        , 0.        ],\n",
       "       [0.        , 0.        , 0.        , 0.        , 0.57974759,\n",
       "        0.40483667, 0.        , 0.40483667, 0.        , 0.        ,\n",
       "        0.        , 0.        , 0.        , 0.        , 0.        ,\n",
       "        0.        , 0.        , 0.        , 0.        , 0.        ,\n",
       "        0.        , 0.57974759, 0.        , 0.        , 0.        ]])"
      ]
     },
     "execution_count": 103,
     "metadata": {},
     "output_type": "execute_result"
    }
   ],
   "source": [
    "X.toarray()"
   ]
  },
  {
   "cell_type": "code",
   "execution_count": 104,
   "metadata": {},
   "outputs": [],
   "source": [
    "\n",
    "import nltk.stem\n",
    "english_stemmer = nltk.stem.SnowballStemmer('english')\n",
    "\n",
    "class StemmedTfidfVectorizer(CountVectorizer):\n",
    "    def build_analyzer(self):\n",
    "        analyzer = super(StemmedTfidfVectorizer, self).build_analyzer()\n",
    "        return lambda doc: (english_stemmer.stem(w) for w in analyzer(doc))"
   ]
  },
  {
   "cell_type": "code",
   "execution_count": 105,
   "metadata": {},
   "outputs": [],
   "source": [
    "from sklearn.feature_extraction.text import TfidfVectorizer\n",
    "vectorizer = StemmedTfidfVectorizer(stop_words='english')\n",
    "X = vectorizer.fit_transform(posts)\n",
    "Y = vectorizer.transform([query])"
   ]
  },
  {
   "cell_type": "code",
   "execution_count": 106,
   "metadata": {},
   "outputs": [
    {
     "name": "stdout",
     "output_type": "stream",
     "text": [
      "This is a toy post about machine learning. Actually, it contains not much interesting stuff. 1.414213562373095\n",
      "Imaging databases provide storage capabilities. 0.8573732768944039\n",
      "Most imaging databases safe images permanently. 0.6296288974669553\n",
      "Imaging databases store data. 0.7653668647301795\n",
      "Imaging databases store data. Imaging databases store data. Imaging databases store data. 0.7653668647301795\n"
     ]
    }
   ],
   "source": [
    "for i in range(5):\n",
    "    print(posts[i], dist(X[i].toarray(), Y.toarray()))"
   ]
  },
  {
   "cell_type": "markdown",
   "metadata": {},
   "source": [
    "## 中文詞頻矩陣"
   ]
  },
  {
   "cell_type": "code",
   "execution_count": 107,
   "metadata": {},
   "outputs": [],
   "source": [
    "a = ['柯文哲為了大巨蛋一事找趙藤雄算帳', '柯P將不在大巨蛋舉辦世運會']"
   ]
  },
  {
   "cell_type": "code",
   "execution_count": 118,
   "metadata": {},
   "outputs": [],
   "source": [
    "import jieba\n",
    "jieba.load_userdict('userdict.txt')\n",
    "corpus = []\n",
    "for w in a:\n",
    "    corpus.append(' '.join(jieba.cut(w)))"
   ]
  },
  {
   "cell_type": "code",
   "execution_count": 119,
   "metadata": {},
   "outputs": [
    {
     "data": {
      "text/plain": [
       "['柯文哲 為 了 大巨蛋 一事 找 趙藤雄 算帳', '柯P 將 不 在 大巨蛋 舉辦 世運會']"
      ]
     },
     "execution_count": 119,
     "metadata": {},
     "output_type": "execute_result"
    }
   ],
   "source": [
    "corpus"
   ]
  },
  {
   "cell_type": "code",
   "execution_count": 120,
   "metadata": {},
   "outputs": [],
   "source": [
    "from sklearn.feature_extraction.text import CountVectorizer\n",
    "vectorizer = CountVectorizer()\n",
    "X = vectorizer.fit_transform(corpus)"
   ]
  },
  {
   "cell_type": "code",
   "execution_count": 121,
   "metadata": {},
   "outputs": [
    {
     "name": "stdout",
     "output_type": "stream",
     "text": [
      "['一事', '世運會', '大巨蛋', '柯p', '柯文哲', '算帳', '舉辦', '趙藤雄']\n"
     ]
    }
   ],
   "source": [
    "print(vectorizer.get_feature_names())"
   ]
  },
  {
   "cell_type": "code",
   "execution_count": 122,
   "metadata": {},
   "outputs": [
    {
     "data": {
      "text/plain": [
       "array([[0.       , 0.7763932],\n",
       "       [0.7763932, 0.       ]])"
      ]
     },
     "execution_count": 122,
     "metadata": {},
     "output_type": "execute_result"
    }
   ],
   "source": [
    "from sklearn.metrics.pairwise import cosine_distances\n",
    "cosine_distances(X)"
   ]
  },
  {
   "cell_type": "code",
   "execution_count": 123,
   "metadata": {},
   "outputs": [
    {
     "data": {
      "text/plain": [
       "array([[1.       , 0.2236068],\n",
       "       [0.2236068, 1.       ]])"
      ]
     },
     "execution_count": 123,
     "metadata": {},
     "output_type": "execute_result"
    }
   ],
   "source": [
    "from sklearn.metrics.pairwise import cosine_similarity\n",
    "cosine_similarity(X)"
   ]
  },
  {
   "cell_type": "markdown",
   "metadata": {},
   "source": [
    "## 同義詞爬蟲"
   ]
  },
  {
   "cell_type": "code",
   "execution_count": 133,
   "metadata": {},
   "outputs": [],
   "source": [
    "import requests\n",
    "from bs4 import BeautifulSoup\n",
    "res = requests.get('https://zh.wikipedia.org/wiki/%E6%9F%AF%E6%96%87%E5%93%B2')\n",
    "soup = BeautifulSoup(res.text, 'lxml')\n",
    "synonym = '/'.join([b.text for b in soup.select('.mw-parser-output p')[6].select('b')])"
   ]
  },
  {
   "cell_type": "code",
   "execution_count": 134,
   "metadata": {},
   "outputs": [],
   "source": [
    "with open('synonym.txt' , 'w') as f:\n",
    "    f.write(synonym)"
   ]
  },
  {
   "cell_type": "markdown",
   "metadata": {},
   "source": [
    "## 建立同義詞詞頻矩陣"
   ]
  },
  {
   "cell_type": "code",
   "execution_count": 135,
   "metadata": {},
   "outputs": [],
   "source": [
    "with open('synonym.txt' , 'r') as f:\n",
    "    data = f.read()"
   ]
  },
  {
   "cell_type": "code",
   "execution_count": 148,
   "metadata": {},
   "outputs": [
    {
     "data": {
      "text/plain": [
       "{'柯p': '柯文哲', 'kp': '柯文哲'}"
      ]
     },
     "execution_count": 148,
     "metadata": {},
     "output_type": "execute_result"
    }
   ],
   "source": [
    "words = data.split('/')\n",
    "synonym_dic = {}\n",
    "for w in words[1:]:\n",
    "    synonym_dic[w.lower()] = words[0]\n",
    "synonym_dic"
   ]
  },
  {
   "cell_type": "code",
   "execution_count": 149,
   "metadata": {},
   "outputs": [],
   "source": [
    "class SynonymCountVectorizer(CountVectorizer):\n",
    "    def build_analyzer(self):\n",
    "        analyzer = super(SynonymCountVectorizer, self).build_analyzer()\n",
    "        return lambda doc: (synonym_dic.get(w, w) for w in analyzer(doc))"
   ]
  },
  {
   "cell_type": "code",
   "execution_count": 150,
   "metadata": {},
   "outputs": [],
   "source": [
    "from sklearn.feature_extraction.text import CountVectorizer\n",
    "vectorizer = SynonymCountVectorizer()\n",
    "X = vectorizer.fit_transform(corpus)"
   ]
  },
  {
   "cell_type": "code",
   "execution_count": 151,
   "metadata": {},
   "outputs": [
    {
     "name": "stdout",
     "output_type": "stream",
     "text": [
      "['一事', '世運會', '大巨蛋', '柯文哲', '算帳', '舉辦', '趙藤雄']\n"
     ]
    }
   ],
   "source": [
    "print(vectorizer.get_feature_names())"
   ]
  },
  {
   "cell_type": "code",
   "execution_count": 152,
   "metadata": {},
   "outputs": [
    {
     "data": {
      "text/plain": [
       "array([[0.       , 0.5527864],\n",
       "       [0.5527864, 0.       ]])"
      ]
     },
     "execution_count": 152,
     "metadata": {},
     "output_type": "execute_result"
    }
   ],
   "source": [
    "from sklearn.metrics.pairwise import cosine_distances\n",
    "cosine_distances(X)"
   ]
  },
  {
   "cell_type": "markdown",
   "metadata": {},
   "source": [
    "## 加入停用詞"
   ]
  },
  {
   "cell_type": "code",
   "execution_count": 153,
   "metadata": {},
   "outputs": [],
   "source": [
    "from sklearn.feature_extraction.text import CountVectorizer\n",
    "vectorizer = SynonymCountVectorizer(stop_words=['一事'])\n",
    "X = vectorizer.fit_transform(corpus)"
   ]
  },
  {
   "cell_type": "code",
   "execution_count": 154,
   "metadata": {},
   "outputs": [
    {
     "data": {
      "text/plain": [
       "array([[0. , 0.5],\n",
       "       [0.5, 0. ]])"
      ]
     },
     "execution_count": 154,
     "metadata": {},
     "output_type": "execute_result"
    }
   ],
   "source": [
    "from sklearn.metrics.pairwise import cosine_distances\n",
    "cosine_distances(X)"
   ]
  },
  {
   "cell_type": "markdown",
   "metadata": {},
   "source": [
    "## 電信業客戶流失分析"
   ]
  },
  {
   "cell_type": "code",
   "execution_count": 155,
   "metadata": {},
   "outputs": [],
   "source": [
    "import pandas\n",
    "df = pandas.read_csv('https://raw.githubusercontent.com/ywchiu/tibamepy/master/data/customer_churn.csv', index_col=0)\n"
   ]
  },
  {
   "cell_type": "code",
   "execution_count": 157,
   "metadata": {},
   "outputs": [],
   "source": [
    "df = df.iloc[:,3:]"
   ]
  },
  {
   "cell_type": "code",
   "execution_count": 161,
   "metadata": {},
   "outputs": [],
   "source": [
    "object_columns = list(df.select_dtypes('object').columns)\n",
    "for c in object_columns:\n",
    "    df[c]  = df[c].replace({'yes':1, 'no':0})"
   ]
  },
  {
   "cell_type": "code",
   "execution_count": 165,
   "metadata": {},
   "outputs": [
    {
     "data": {
      "text/plain": [
       "0    2850\n",
       "1     483\n",
       "Name: churn, dtype: int64"
      ]
     },
     "execution_count": 165,
     "metadata": {},
     "output_type": "execute_result"
    }
   ],
   "source": [
    "df['churn'].value_counts()"
   ]
  },
  {
   "cell_type": "code",
   "execution_count": 180,
   "metadata": {},
   "outputs": [
    {
     "name": "stdout",
     "output_type": "stream",
     "text": [
      "Current shape of dataset : (800, 17)\n"
     ]
    },
    {
     "data": {
      "text/html": [
       "<div>\n",
       "<style scoped>\n",
       "    .dataframe tbody tr th:only-of-type {\n",
       "        vertical-align: middle;\n",
       "    }\n",
       "\n",
       "    .dataframe tbody tr th {\n",
       "        vertical-align: top;\n",
       "    }\n",
       "\n",
       "    .dataframe thead th {\n",
       "        text-align: right;\n",
       "    }\n",
       "</style>\n",
       "<table border=\"1\" class=\"dataframe\">\n",
       "  <thead>\n",
       "    <tr style=\"text-align: right;\">\n",
       "      <th></th>\n",
       "      <th>international_plan</th>\n",
       "      <th>voice_mail_plan</th>\n",
       "      <th>number_vmail_messages</th>\n",
       "      <th>total_day_minutes</th>\n",
       "      <th>total_day_calls</th>\n",
       "      <th>total_day_charge</th>\n",
       "      <th>total_eve_minutes</th>\n",
       "      <th>total_eve_calls</th>\n",
       "      <th>total_eve_charge</th>\n",
       "      <th>total_night_minutes</th>\n",
       "      <th>total_night_calls</th>\n",
       "      <th>total_night_charge</th>\n",
       "      <th>total_intl_minutes</th>\n",
       "      <th>total_intl_calls</th>\n",
       "      <th>total_intl_charge</th>\n",
       "      <th>number_customer_service_calls</th>\n",
       "      <th>churn</th>\n",
       "    </tr>\n",
       "  </thead>\n",
       "  <tbody>\n",
       "    <tr>\n",
       "      <th>0</th>\n",
       "      <td>0</td>\n",
       "      <td>0</td>\n",
       "      <td>0</td>\n",
       "      <td>175.7</td>\n",
       "      <td>120</td>\n",
       "      <td>29.87</td>\n",
       "      <td>168.6</td>\n",
       "      <td>90</td>\n",
       "      <td>14.33</td>\n",
       "      <td>198.9</td>\n",
       "      <td>110</td>\n",
       "      <td>8.95</td>\n",
       "      <td>14.6</td>\n",
       "      <td>4</td>\n",
       "      <td>3.94</td>\n",
       "      <td>1</td>\n",
       "      <td>0</td>\n",
       "    </tr>\n",
       "    <tr>\n",
       "      <th>1</th>\n",
       "      <td>0</td>\n",
       "      <td>1</td>\n",
       "      <td>33</td>\n",
       "      <td>143.0</td>\n",
       "      <td>101</td>\n",
       "      <td>24.31</td>\n",
       "      <td>212.2</td>\n",
       "      <td>102</td>\n",
       "      <td>18.04</td>\n",
       "      <td>104.9</td>\n",
       "      <td>120</td>\n",
       "      <td>4.72</td>\n",
       "      <td>15.3</td>\n",
       "      <td>4</td>\n",
       "      <td>4.13</td>\n",
       "      <td>5</td>\n",
       "      <td>1</td>\n",
       "    </tr>\n",
       "    <tr>\n",
       "      <th>2</th>\n",
       "      <td>1</td>\n",
       "      <td>0</td>\n",
       "      <td>0</td>\n",
       "      <td>47.7</td>\n",
       "      <td>89</td>\n",
       "      <td>8.11</td>\n",
       "      <td>264.4</td>\n",
       "      <td>95</td>\n",
       "      <td>22.47</td>\n",
       "      <td>235.2</td>\n",
       "      <td>97</td>\n",
       "      <td>10.58</td>\n",
       "      <td>13.2</td>\n",
       "      <td>3</td>\n",
       "      <td>3.56</td>\n",
       "      <td>0</td>\n",
       "      <td>1</td>\n",
       "    </tr>\n",
       "    <tr>\n",
       "      <th>3</th>\n",
       "      <td>1</td>\n",
       "      <td>0</td>\n",
       "      <td>0</td>\n",
       "      <td>146.3</td>\n",
       "      <td>117</td>\n",
       "      <td>24.87</td>\n",
       "      <td>218.7</td>\n",
       "      <td>93</td>\n",
       "      <td>18.59</td>\n",
       "      <td>236.0</td>\n",
       "      <td>97</td>\n",
       "      <td>10.62</td>\n",
       "      <td>11.5</td>\n",
       "      <td>5</td>\n",
       "      <td>3.11</td>\n",
       "      <td>1</td>\n",
       "      <td>0</td>\n",
       "    </tr>\n",
       "    <tr>\n",
       "      <th>4</th>\n",
       "      <td>1</td>\n",
       "      <td>0</td>\n",
       "      <td>0</td>\n",
       "      <td>165.4</td>\n",
       "      <td>107</td>\n",
       "      <td>28.12</td>\n",
       "      <td>196.0</td>\n",
       "      <td>126</td>\n",
       "      <td>16.66</td>\n",
       "      <td>349.2</td>\n",
       "      <td>110</td>\n",
       "      <td>15.71</td>\n",
       "      <td>9.6</td>\n",
       "      <td>7</td>\n",
       "      <td>2.59</td>\n",
       "      <td>2</td>\n",
       "      <td>0</td>\n",
       "    </tr>\n",
       "  </tbody>\n",
       "</table>\n",
       "</div>"
      ],
      "text/plain": [
       "   international_plan  voice_mail_plan  number_vmail_messages  \\\n",
       "0                   0                0                      0   \n",
       "1                   0                1                     33   \n",
       "2                   1                0                      0   \n",
       "3                   1                0                      0   \n",
       "4                   1                0                      0   \n",
       "\n",
       "   total_day_minutes  total_day_calls  total_day_charge  total_eve_minutes  \\\n",
       "0              175.7              120             29.87              168.6   \n",
       "1              143.0              101             24.31              212.2   \n",
       "2               47.7               89              8.11              264.4   \n",
       "3              146.3              117             24.87              218.7   \n",
       "4              165.4              107             28.12              196.0   \n",
       "\n",
       "   total_eve_calls  total_eve_charge  total_night_minutes  total_night_calls  \\\n",
       "0               90             14.33                198.9                110   \n",
       "1              102             18.04                104.9                120   \n",
       "2               95             22.47                235.2                 97   \n",
       "3               93             18.59                236.0                 97   \n",
       "4              126             16.66                349.2                110   \n",
       "\n",
       "   total_night_charge  total_intl_minutes  total_intl_calls  \\\n",
       "0                8.95                14.6                 4   \n",
       "1                4.72                15.3                 4   \n",
       "2               10.58                13.2                 3   \n",
       "3               10.62                11.5                 5   \n",
       "4               15.71                 9.6                 7   \n",
       "\n",
       "   total_intl_charge  number_customer_service_calls  churn  \n",
       "0               3.94                              1      0  \n",
       "1               4.13                              5      1  \n",
       "2               3.56                              0      1  \n",
       "3               3.11                              1      0  \n",
       "4               2.59                              2      0  "
      ]
     },
     "execution_count": 180,
     "metadata": {},
     "output_type": "execute_result"
    }
   ],
   "source": [
    "churn_0 = df[df[\"churn\"]==0]\n",
    "churn_1 = df[df[\"churn\"]==1]\n",
    "subset_of_churn_0 = churn_0.sample(n=400)\n",
    "subset_of_churn_1 = churn_1.sample(n=400)\n",
    "data_clean = pandas.concat([subset_of_churn_0, subset_of_churn_1])\n",
    "data_clean = data_clean.sample(frac=1).reset_index(drop=True)\n",
    "print(\"Current shape of dataset :\",data_clean.shape)\n",
    "data_clean.head()"
   ]
  },
  {
   "cell_type": "code",
   "execution_count": 181,
   "metadata": {},
   "outputs": [
    {
     "name": "stdout",
     "output_type": "stream",
     "text": [
      "Populating the interactive namespace from numpy and matplotlib\n"
     ]
    },
    {
     "data": {
      "image/png": "[encoded data removed]",
      "text/plain": [
       "<Figure size 432x288 with 1 Axes>"
      ]
     },
     "metadata": {
      "needs_background": "light"
     },
     "output_type": "display_data"
    }
   ],
   "source": [
    "%pylab inline\n",
    "import numpy as np\n",
    "from matplotlib import pyplot as plt\n",
    "from sklearn.linear_model import LogisticRegression\n",
    "from sklearn.model_selection import learning_curve\n",
    "from sklearn.model_selection import ShuffleSplit\n",
    "\n",
    "\n",
    "def plot_learning_curve(estimator, title, X, y, ylim=None, cv=None,\n",
    "                        n_jobs=1, train_sizes=np.linspace(.1, 1.0, 5)):\n",
    "    plt.figure()\n",
    "    plt.title(title)\n",
    "    if ylim is not None:\n",
    "        plt.ylim(*ylim)\n",
    "    plt.xlabel(\"Training examples\")\n",
    "    plt.ylabel(\"Score\")\n",
    "    \n",
    "    train_sizes, train_scores, test_scores = learning_curve(\n",
    "        estimator, X, y, cv=cv, n_jobs=n_jobs, train_sizes=train_sizes)\n",
    "    train_scores_mean = np.mean(train_scores, axis=1)\n",
    "    train_scores_std = np.std(train_scores, axis=1)\n",
    "    test_scores_mean = np.mean(test_scores, axis=1)\n",
    "    test_scores_std = np.std(test_scores, axis=1)\n",
    "    \n",
    "    plt.grid()\n",
    "    \n",
    "    plt.fill_between(train_sizes, train_scores_mean - train_scores_std,\n",
    "                     train_scores_mean + train_scores_std, alpha=0.1,\n",
    "                     color=\"r\")\n",
    "    plt.fill_between(train_sizes, test_scores_mean - test_scores_std,\n",
    "                     test_scores_mean + test_scores_std, alpha=0.1, color=\"g\")\n",
    "    plt.plot(train_sizes, train_scores_mean, 'o-', color=\"r\",\n",
    "             label=\"Training score\")\n",
    "    plt.plot(train_sizes, test_scores_mean, 'o-', color=\"g\",\n",
    "             label=\"Cross-validation score\")\n",
    "    plt.legend(loc=\"best\")\n",
    "    return plt\n",
    "\n",
    "X, y = data_clean.iloc[:,:-1].values, data_clean.iloc[:,-1].values\n",
    "\n",
    "title = \"Learning Curves (Logistic Regression)\"\n",
    "cv = ShuffleSplit(n_splits=20, test_size=0.2, random_state=0)\n",
    "estimator = LogisticRegression()\n",
    "plot_learning_curve(estimator, title, X, y, ylim=(0.5, 0.90), cv=cv, n_jobs=4)\n",
    "plt.show()"
   ]
  },
  {
   "cell_type": "markdown",
   "metadata": {},
   "source": [
    "## 爬取蘋果新聞"
   ]
  },
  {
   "cell_type": "code",
   "execution_count": 192,
   "metadata": {},
   "outputs": [],
   "source": [
    "def parseArticle(url):\n",
    "    res = requests.get(url)\n",
    "    soup = BeautifulSoup(res.text, 'lxml' )\n",
    "    title = soup.select_one('h1').text\n",
    "    content = soup.select_one('.ndArticle_margin p').text\n",
    "    return {'title':title, 'content': content}"
   ]
  },
  {
   "cell_type": "code",
   "execution_count": 195,
   "metadata": {},
   "outputs": [
    {
     "data": {
      "text/plain": [
       "{'title': '休旅車變身毛小孩旅館\\u3000猴硐「貓咪守護神」有你真好',\n",
       " 'content': '新北市瑞芳區猴硐「貓村」遠近馳名，曾獲CNN推薦為全球六大賞貓景點，其實當地貓群在地逐漸聚集已有九年，在民間貓友社及其他志工團體自動自發照顧下，如排班餵食、訂製小木屋、協助結紮送醫等，讓毛小孩們獲得安居溫飽，被譽為「貓咪守護神」，甚至還有人熱心捐出休旅車，後車箱門永遠敞開，以當作貓咪的汽車旅館，為濕冷山區帶來一處溫暖。\\xa0猴硐地名的由來，早期是因北37鄉道猴牡公路4.7k附近棲息大量台灣獼猴，後來經人類開採煤炭，導致猴群漸漸搬遷消失，2010年開始，漸漸有貓咪聚集於此地，形成一個大群落，當時民間團體貓友社及其他志工團體自發性的開始照顧貓咪，新北市政府動保處於2012年加入協助志工，雙方通力合作，漸漸讓猴硐貓村聲名遠播，更於2013年入選CNN推薦世界六大賞貓點之一。\\xa02014年11月，觀光局翻修臺鐵員工宿舍，變身成為猴硐貓咪衛教宣導資訊站，該資訊站不僅提供貓咪衛教宣導、通報轉介醫療、暫時收容及中途服務，也每月定期環境消毒、配合獸醫、志工協助注射狂犬病、貓三合一疫苗來預防各類貓咪疾病。\\xa0而其中愛貓志工Jenny所帶領的貓友社，在貓村扮演非常重要角色，在物質、金錢、人力、時間上無怨無悔的付出，對貓咪的照顧更無微不至。\\xa0眾人除了每天排班巡迴餵食外，貓友社志工們擔心錯過放飯時間的貓咪餓肚子，貼心設置定點供食箱隨時補充飼料，又怕貓咪日曬雨淋，更訂製專屬小木屋、升級版混合供吃住兩用套房式複合屋，把牠們照顧得無微不至。同時持續協助進行捕捉、結紮、送養或原放、將病貓送動物醫院檢查等流程，可說是猴硐「貓咪的守護神」。\\xa0另外，在猴硐第三停車場長期停放著一台九人座休旅車長，後車廂半開，是人稱「甜甜號街貓汽車旅館」，是個貓咪在天冷或雨天，便會進去避寒的地方。\\xa0動保處指出，「甜甜號街貓汽車旅館」源起於2016年1月23日北部氣象異常下起冰霰、霸王寒流侵襲，一位人稱「美國姨」的貓友社志工，因為愛貓且長期照顧當地貓咪，對貓咪們已產生了極深的感情，就怕貓咪受苦受凍而特別捐贈。至今，甜甜號汽車旅館仍風雨無阻地在停車場中服務，為這個濕冷的山區帶來溫暖。\\xa0農業局長李玟表示，猴硐貓村是新北市動保資產，吸引中外遊客參訪學習，但貓兒族群密度增加，造成動物群體間緊迫，較容易有疾病爆發，提醒民眾前往貓村遊玩務必注意「勿觸摸、勿餵食」，並加強自身清潔消毒，請勿將家中寵物帶往貓村，更勿棄養貓咪至貓村。\\xa0李玟提醒，民眾如有發現棄養行為，可提供相關事證，可依《動物保護法》第5條第3項惡意棄養進行開罰，可處以新臺幣3萬至15萬罰鍰，並呼籲民眾共同維護猴硐貓咪健康福祉，讓新北市是友善動物城市。（突發中心曾佳俊／新北報導）'}"
      ]
     },
     "execution_count": 195,
     "metadata": {},
     "output_type": "execute_result"
    }
   ],
   "source": [
    "parseArticle('https://tw.news.appledaily.com/life/realtime/20190720/1603155/')"
   ]
  },
  {
   "cell_type": "code",
   "execution_count": 196,
   "metadata": {},
   "outputs": [
    {
     "name": "stdout",
     "output_type": "stream",
     "text": [
      "1\n",
      "2\n",
      "3\n",
      "4\n",
      "5\n",
      "6\n",
      "7\n",
      "8\n",
      "9\n",
      "10\n",
      "11\n",
      "12\n",
      "13\n",
      "14\n",
      "15\n",
      "16\n",
      "17\n",
      "18\n",
      "19\n",
      "20\n",
      "21\n",
      "22\n",
      "23\n",
      "24\n",
      "25\n",
      "26\n",
      "27\n",
      "28\n",
      "29\n",
      "30\n",
      "31\n",
      "32\n",
      "33\n",
      "34\n",
      "35\n",
      "36\n",
      "37\n",
      "38\n",
      "39\n",
      "40\n",
      "41\n",
      "42\n",
      "43\n",
      "44\n",
      "45\n",
      "46\n",
      "47\n",
      "48\n",
      "49\n",
      "50\n",
      "51\n",
      "52\n",
      "53\n",
      "54\n"
     ]
    }
   ],
   "source": [
    "import requests\n",
    "from bs4 import BeautifulSoup\n",
    "news = []\n",
    "for i in range(1, 55):\n",
    "    res = requests.get(f'https://tw.appledaily.com/new/realtime/{i}')\n",
    "    soup = BeautifulSoup(res.text, 'lxml' )\n",
    "    for alink in soup.select('.rtddt a'):\n",
    "        news.append(parseArticle(alink.get('href')))\n",
    "    print(i)"
   ]
  },
  {
   "cell_type": "code",
   "execution_count": 197,
   "metadata": {},
   "outputs": [],
   "source": [
    "import pandas\n",
    "df = pandas.DataFrame(news)"
   ]
  },
  {
   "cell_type": "code",
   "execution_count": 199,
   "metadata": {},
   "outputs": [],
   "source": [
    "df.to_excel('20190720appledaily.xlsx')"
   ]
  },
  {
   "cell_type": "markdown",
   "metadata": {},
   "source": [
    "## 產生推薦新聞"
   ]
  },
  {
   "cell_type": "code",
   "execution_count": 202,
   "metadata": {},
   "outputs": [],
   "source": [
    "df = pandas.read_excel('https://raw.githubusercontent.com/ywchiu/tibamepy/master/data/20190720appledaily.xlsx', index_col=0)"
   ]
  },
  {
   "cell_type": "code",
   "execution_count": 205,
   "metadata": {},
   "outputs": [
    {
     "data": {
      "text/html": [
       "<div>\n",
       "<style scoped>\n",
       "    .dataframe tbody tr th:only-of-type {\n",
       "        vertical-align: middle;\n",
       "    }\n",
       "\n",
       "    .dataframe tbody tr th {\n",
       "        vertical-align: top;\n",
       "    }\n",
       "\n",
       "    .dataframe thead th {\n",
       "        text-align: right;\n",
       "    }\n",
       "</style>\n",
       "<table border=\"1\" class=\"dataframe\">\n",
       "  <thead>\n",
       "    <tr style=\"text-align: right;\">\n",
       "      <th></th>\n",
       "      <th>content</th>\n",
       "      <th>title</th>\n",
       "    </tr>\n",
       "  </thead>\n",
       "  <tbody>\n",
       "    <tr>\n",
       "      <th>0</th>\n",
       "      <td>(更新:新增影片)韓國瑜夫妻昨遭專欄作家曾韋禎指控，除違建農舍外另擁房產多處，其中在雲林斗六...</td>\n",
       "      <td>【蘋果查真相】找到了！　韓國瑜家族千萬電梯豪墅是這兩棟</td>\n",
       "    </tr>\n",
       "    <tr>\n",
       "      <th>1</th>\n",
       "      <td>清華大學日前發布公告表示為維護校園安全，原定今起試辦「送餐飲機車僅能於用餐時段入校執行送餐飲...</td>\n",
       "      <td>非用餐時段外送機車禁入校引熱議　清大生當記者拍專題探討</td>\n",
       "    </tr>\n",
       "    <tr>\n",
       "      <th>2</th>\n",
       "      <td>內政部長徐國勇昨赴高雄市警局，了解明年大選的查賄制暴工作，指高雄是重中之重；高雄市長韓國瑜質...</td>\n",
       "      <td>槓上韓國瑜　徐國勇：應專心市政及防災</td>\n",
       "    </tr>\n",
       "    <tr>\n",
       "      <th>3</th>\n",
       "      <td>總統蔡英文出訪加勒比海友邦，回程過境美國丹佛，抵達下榻飯店後，先後與在地選區的參議員賈德納（...</td>\n",
       "      <td>【過境丹佛】蔡英文過境丹佛　參議員賈德納讚美台關係史上最好</td>\n",
       "    </tr>\n",
       "    <tr>\n",
       "      <th>4</th>\n",
       "      <td>日本動畫製作公司「京都動畫」遭人縱火釀34死35傷慘劇，41歲犯嫌青葉真司曾向警方表示，因小...</td>\n",
       "      <td>縱火犯指控盜用小說　京都動畫社長澄清未收過投稿</td>\n",
       "    </tr>\n",
       "  </tbody>\n",
       "</table>\n",
       "</div>"
      ],
      "text/plain": [
       "                                             content  \\\n",
       "0  (更新:新增影片)韓國瑜夫妻昨遭專欄作家曾韋禎指控，除違建農舍外另擁房產多處，其中在雲林斗六...   \n",
       "1  清華大學日前發布公告表示為維護校園安全，原定今起試辦「送餐飲機車僅能於用餐時段入校執行送餐飲...   \n",
       "2  內政部長徐國勇昨赴高雄市警局，了解明年大選的查賄制暴工作，指高雄是重中之重；高雄市長韓國瑜質...   \n",
       "3  總統蔡英文出訪加勒比海友邦，回程過境美國丹佛，抵達下榻飯店後，先後與在地選區的參議員賈德納（...   \n",
       "4  日本動畫製作公司「京都動畫」遭人縱火釀34死35傷慘劇，41歲犯嫌青葉真司曾向警方表示，因小...   \n",
       "\n",
       "                           title  \n",
       "0    【蘋果查真相】找到了！　韓國瑜家族千萬電梯豪墅是這兩棟  \n",
       "1    非用餐時段外送機車禁入校引熱議　清大生當記者拍專題探討  \n",
       "2             槓上韓國瑜　徐國勇：應專心市政及防災  \n",
       "3  【過境丹佛】蔡英文過境丹佛　參議員賈德納讚美台關係史上最好  \n",
       "4        縱火犯指控盜用小說　京都動畫社長澄清未收過投稿  "
      ]
     },
     "execution_count": 205,
     "metadata": {},
     "output_type": "execute_result"
    }
   ],
   "source": [
    "df.head()"
   ]
  },
  {
   "cell_type": "code",
   "execution_count": 209,
   "metadata": {},
   "outputs": [],
   "source": [
    "df.dropna(inplace=True)"
   ]
  },
  {
   "cell_type": "code",
   "execution_count": 210,
   "metadata": {},
   "outputs": [],
   "source": [
    "corpus = []\n",
    "titles = []\n",
    "for rec in df.iterrows():\n",
    "    corpus.append(' '.join(jieba.cut(rec[1]['content'])))\n",
    "    titles.append(rec[1]['title'])"
   ]
  },
  {
   "cell_type": "code",
   "execution_count": 211,
   "metadata": {},
   "outputs": [],
   "source": [
    "from sklearn.feature_extraction.text import CountVectorizer\n",
    "vectorizer = CountVectorizer()\n",
    "X= vectorizer.fit_transform(corpus)"
   ]
  },
  {
   "cell_type": "code",
   "execution_count": 212,
   "metadata": {},
   "outputs": [
    {
     "data": {
      "text/plain": [
       "<1566x57678 sparse matrix of type '<class 'numpy.int64'>'\n",
       "\twith 241376 stored elements in Compressed Sparse Row format>"
      ]
     },
     "execution_count": 212,
     "metadata": {},
     "output_type": "execute_result"
    }
   ],
   "source": [
    "X"
   ]
  },
  {
   "cell_type": "code",
   "execution_count": 213,
   "metadata": {},
   "outputs": [],
   "source": [
    "from sklearn.metrics.pairwise import cosine_distances\n",
    "cs = cosine_distances(X)"
   ]
  },
  {
   "cell_type": "code",
   "execution_count": 215,
   "metadata": {},
   "outputs": [
    {
     "data": {
      "text/plain": [
       "(1566, 1566)"
      ]
     },
     "execution_count": 215,
     "metadata": {},
     "output_type": "execute_result"
    }
   ],
   "source": [
    "cs.shape"
   ]
  },
  {
   "cell_type": "code",
   "execution_count": 217,
   "metadata": {},
   "outputs": [
    {
     "data": {
      "text/plain": [
       "'【蘋果查真相】找到了！\\u3000韓國瑜家族千萬電梯豪墅是這兩棟'"
      ]
     },
     "execution_count": 217,
     "metadata": {},
     "output_type": "execute_result"
    }
   ],
   "source": [
    "titles[0]"
   ]
  },
  {
   "cell_type": "code",
   "execution_count": 220,
   "metadata": {},
   "outputs": [
    {
     "data": {
      "text/plain": [
       "array([203, 278, 451,  94, 509, 257, 939, 387,  78, 302], dtype=int64)"
      ]
     },
     "execution_count": 220,
     "metadata": {},
     "output_type": "execute_result"
    }
   ],
   "source": [
    "cs[0].argsort()[1:11]"
   ]
  },
  {
   "cell_type": "code",
   "execution_count": 222,
   "metadata": {},
   "outputs": [
    {
     "name": "stdout",
     "output_type": "stream",
     "text": [
      "韓國瑜被爆「墅民」非庶民！擁千萬電梯豪宅　投資建設公司 0.28450079833108954\n",
      "韓國瑜被爆擁五車位電梯別墅　作家揭密：建商還是李佳芬姊弟 0.49567736545389773\n",
      "韓國瑜財產看這邊！存款4599萬、別墅143坪 0.5703030821222577\n",
      "【枕邊權貴】韓國瑜岳家縱橫雲林政壇33年　家族議員9連霸無縫接軌 0.70058350359488\n",
      "20萬筆個資遭洩　1111人力銀行稱有幫會員投保 0.8273647776711528\n",
      "【韓國瑜違建】古坑公所會勘「聲東擊西」　屋內人撐傘潑水擋拍攝 0.847183621929438\n",
      "名譽是第二生命！翁啟惠浩鼎案無罪卻被判申誡　提再審遭駁回 0.8524482074617618\n",
      "1111人力銀行20萬筆個資遭洩　《蘋果》電話實測「個資是真的」 0.8528185036379354\n",
      "【一周蘋選10大新聞】藍總統初選韓國瑜出線　蕭亞軒恍惚喊「我想我小孩」 0.8541929707868066\n",
      "​韓國瑜競逐總統大位的兩個關鍵 0.8615351138655611\n"
     ]
    }
   ],
   "source": [
    "for idx in cs[0].argsort()[1:11]:\n",
    "    print(titles[idx], cs[0][idx])"
   ]
  },
  {
   "cell_type": "code",
   "execution_count": 234,
   "metadata": {},
   "outputs": [
    {
     "name": "stdout",
     "output_type": "stream",
     "text": [
      "查詢文章: 英卡那西歐轉隊首發滿貫　洋基8比2宰落磯\n",
      "相關文章: 【MLB報馬仔】田中將大先發主場猛　推洋基過關 0.6477365062021191\n",
      "相關文章: 【MLB】烏謝拉開轟　洋基賀曼12勝並列勝投王 0.6770939878495186\n",
      "相關文章: 大谷翔平2安帶勝利打點　天使宰太空人5連勝 0.7450615107977215\n",
      "相關文章: 馬林魚的奇蹟　山本喬登奪4勝保持不敗 0.7578389475810737\n"
     ]
    }
   ],
   "source": [
    "def getSimiliarArticle(idx, threshold):\n",
    "    print('查詢文章:', titles[idx])\n",
    "    \n",
    "    for postid in cs[idx].argsort()[1:]:\n",
    "        if  cs[idx][postid] < threshold:\n",
    "            print('相關文章:',titles[postid], cs[idx][postid])\n",
    "\n",
    "getSimiliarArticle(7,0.8)"
   ]
  },
  {
   "cell_type": "code",
   "execution_count": 237,
   "metadata": {},
   "outputs": [],
   "source": [
    "q = '颱風最新動態'\n",
    "query = ' '.join(jieba.cut(q))"
   ]
  },
  {
   "cell_type": "code",
   "execution_count": 238,
   "metadata": {},
   "outputs": [],
   "source": [
    "Y = vectorizer.transform([query])"
   ]
  },
  {
   "cell_type": "code",
   "execution_count": 243,
   "metadata": {},
   "outputs": [
    {
     "data": {
      "text/plain": [
       "array([1261, 1562, 1472, ...,  540,  551, 1565], dtype=int64)"
      ]
     },
     "execution_count": 243,
     "metadata": {},
     "output_type": "execute_result"
    }
   ],
   "source": [
    "cosine_distances(Y, X).argsort()[0]"
   ]
  },
  {
   "cell_type": "code",
   "execution_count": 244,
   "metadata": {},
   "outputs": [
    {
     "data": {
      "text/plain": [
       "'憂雙颱侵台\\u3000專家：災害不見得比較嚴重'"
      ]
     },
     "execution_count": 244,
     "metadata": {},
     "output_type": "execute_result"
    }
   ],
   "source": [
    "titles[1261]"
   ]
  },
  {
   "cell_type": "code",
   "execution_count": 263,
   "metadata": {},
   "outputs": [],
   "source": [
    "def getQueryArticle(q, threshold):\n",
    "    query = ' '.join(jieba.cut(q))\n",
    "    Y = vectorizer.transform([query])\n",
    "    cs2 = cosine_distances(Y, X)\n",
    "    #print(cs2.shape)\n",
    "  \n",
    "    for postid in cs2.argsort()[0][1:]:\n",
    "        if  cs2[0][postid] < threshold:\n",
    "            print('相關文章:',titles[postid], cs2[0][postid])"
   ]
  },
  {
   "cell_type": "code",
   "execution_count": 264,
   "metadata": {},
   "outputs": [
    {
     "name": "stdout",
     "output_type": "stream",
     "text": [
      "相關文章: 馬英九願協助整合郭台銘　「能幫上忙會全力以赴」 0.4723551469889137\n",
      "相關文章: 【獨家】韓國瑜陷整合焦慮　求連戰出面溝通郭台銘、王金平 0.6287679811154452\n",
      "相關文章: 郭台銘將宣布參選？幕僚急澄清　但競選團隊未解散 0.647667868291178\n",
      "相關文章: 「謝謝郭董，我們需要你」　學者籲韓粉別忘這句話 0.683772233983162\n",
      "相關文章: 郭台銘臉書自稱最強外掛　周錫瑋：郭絕對不會脫黨 0.7339239579049043\n",
      "相關文章: 林伯豐祝福韓國瑜選總統　暗嗆「郭台銘不要搞分裂」 0.7534015190419641\n",
      "相關文章: 最強外掛復活！郭台銘赴日再提0-6歲國家養　充滿想像 0.7752667125122527\n",
      "相關文章: 董念台警告韓國瑜　「強人郭董不是馬英九！」未見敵人輸到脫褲不罷休 0.7972787864801543\n",
      "相關文章: 郭台銘散心行不單純　頭戴國旗帽拜會日本臺灣交流協會談合作 0.7972787864801543\n",
      "相關文章: ​夏普擬提高堺工廠持股　法人：郭董可套利再另投資 0.8001598082556421\n",
      "相關文章: 郭董戳中！國台辦「無中生有」駁介入台灣選舉　外媒打臉 0.8279381995970787\n",
      "相關文章: 吳敦義溫情喊話郭台銘　「不要脫黨」 0.8315032131094808\n"
     ]
    }
   ],
   "source": [
    "getQueryArticle('郭台銘赴日', 0.85)"
   ]
  },
  {
   "cell_type": "markdown",
   "metadata": {},
   "source": [
    "## 新聞分群"
   ]
  },
  {
   "cell_type": "code",
   "execution_count": 266,
   "metadata": {},
   "outputs": [],
   "source": [
    "import requests\n",
    "res = requests.get('https://raw.githubusercontent.com/ywchiu/pytextmining/master/data/1435449602.xml')\n",
    "with open('1435449602.xml' , 'w', encoding='utf-8') as f:\n",
    "    f.write(res.text)"
   ]
  },
  {
   "cell_type": "code",
   "execution_count": 267,
   "metadata": {},
   "outputs": [],
   "source": [
    "from xml.dom import minidom\n",
    "from xml.etree import ElementTree\n",
    "import jieba.analyse\n",
    "with open('1435449602.xml', 'r', encoding='utf-8') as f:\n",
    "    events=ElementTree.fromstring(f.read())"
   ]
  },
  {
   "cell_type": "code",
   "execution_count": 270,
   "metadata": {},
   "outputs": [],
   "source": [
    "titles = []\n",
    "corpus = []\n",
    "for elem in events.findall('./channel/item'):\n",
    "    title = elem.find('title').text\n",
    "    description = elem.find('description').text\n",
    "    #print(title, description)\n",
    "    corpus.append(' '.join(jieba.cut(description)))\n",
    "    titles.append(title)\n",
    "    "
   ]
  },
  {
   "cell_type": "code",
   "execution_count": 272,
   "metadata": {},
   "outputs": [],
   "source": [
    "from sklearn.feature_extraction.text import CountVectorizer\n",
    "vectorizer = CountVectorizer()\n",
    "X = vectorizer.fit_transform(corpus)"
   ]
  },
  {
   "cell_type": "code",
   "execution_count": 273,
   "metadata": {},
   "outputs": [
    {
     "data": {
      "text/plain": [
       "<147x12233 sparse matrix of type '<class 'numpy.int64'>'\n",
       "\twith 23139 stored elements in Compressed Sparse Row format>"
      ]
     },
     "execution_count": 273,
     "metadata": {},
     "output_type": "execute_result"
    }
   ],
   "source": [
    "X"
   ]
  },
  {
   "cell_type": "code",
   "execution_count": 274,
   "metadata": {},
   "outputs": [],
   "source": [
    "from sklearn.metrics.pairwise import cosine_distances\n",
    "cs = cosine_distances(X)"
   ]
  },
  {
   "cell_type": "code",
   "execution_count": 310,
   "metadata": {},
   "outputs": [],
   "source": [
    "from sklearn import cluster\n",
    "c = cluster.KMeans(n_clusters=5, init='k-means++', random_state=123)\n",
    "k_data = c.fit_predict(cs)"
   ]
  },
  {
   "cell_type": "code",
   "execution_count": 311,
   "metadata": {},
   "outputs": [
    {
     "data": {
      "text/plain": [
       "array([1, 1, 0, 0, 1, 2, 1, 2, 2, 0, 0, 1, 3, 2, 4, 0, 1, 2, 2, 0, 0, 1,\n",
       "       0, 2, 3, 1, 0, 0, 0, 0, 0, 2, 2, 2, 2, 2, 2, 3, 4, 3, 2, 1, 3, 2,\n",
       "       2, 2, 2, 2, 2, 2, 2, 2, 2, 2, 2, 2, 2, 2, 2, 2, 2, 2, 2, 2, 2, 2,\n",
       "       2, 2, 2, 2, 2, 2, 2, 2, 2, 2, 2, 2, 0, 2, 2, 2, 3, 2, 3, 0, 2, 1,\n",
       "       1, 1, 0, 1, 3, 1, 2, 1, 1, 1, 1, 2, 1, 1, 1, 0, 1, 1, 1, 2, 2, 2,\n",
       "       4, 4, 1, 0, 3, 2, 4, 1, 1, 4, 1, 4, 2, 1, 4, 4, 4, 1, 4, 2, 2, 2,\n",
       "       2, 2, 2, 2, 2, 0, 2, 2, 2, 2, 4, 1, 1, 4, 4])"
      ]
     },
     "execution_count": 311,
     "metadata": {},
     "output_type": "execute_result"
    }
   ],
   "source": [
    "k_data"
   ]
  },
  {
   "cell_type": "code",
   "execution_count": 312,
   "metadata": {},
   "outputs": [],
   "source": [
    "np_titles = np.array(titles)"
   ]
  },
  {
   "cell_type": "code",
   "execution_count": 318,
   "metadata": {},
   "outputs": [
    {
     "name": "stdout",
     "output_type": "stream",
     "text": [
      "蔡依林淚奪金曲 錦榮傳訊恭喜\n",
      "陳奕迅、莫文蔚伴侶均不知阿娜答金曲獲獎\n",
      "金曲26／蔡依林擒３獎大勝　淚崩再挺婚姻平權\n",
      "金曲26／張惠妹奪歌后卻失落　要世界感受彩虹力量\n",
      "金曲26／蔡依林淚奪最佳專輯＋完整得獎名單\n",
      "僅次Jolin！徐佳瑩入圍6獎全槓被封遺珠\n",
      "金曲最風光！蔡依林紅毯全勝又獲3獎成大贏家\n",
      "張惠妹3度封后  想破江蕙紀錄\n",
      "金曲26／陳奕迅稱王謝台灣　張惠妹封后秒噴淚\n",
      "蔡依林呸大贏家  金曲最佳專輯獎\n",
      "陳奕迅二度打敗歌神  金曲歌王好嗨\n",
      "第26屆金曲獎 陳奕迅奪歌王、阿妹封歌后\n",
      "金曲最佳國語專輯：呸\n",
      "《金曲26》2015金曲獎得獎名單 線上直播懶人包\n"
     ]
    }
   ],
   "source": [
    "for rec in np_titles[k_data == 4]:\n",
    "    print(rec)"
   ]
  },
  {
   "cell_type": "code",
   "execution_count": 304,
   "metadata": {},
   "outputs": [],
   "source": [
    "from sklearn.metrics import silhouette_score\n",
    "from sklearn import cluster\n",
    "\n",
    "sil = []\n",
    "for i in range(2,10):\n",
    "    c = cluster.KMeans(n_clusters=i, init='k-means++', random_state=123)\n",
    "    k_data = c.fit_predict(cs)\n",
    "    sil.append(silhouette_score(cs, k_data))"
   ]
  },
  {
   "cell_type": "code",
   "execution_count": 309,
   "metadata": {},
   "outputs": [
    {
     "data": {
      "image/png": "[encoded data removed]",
      "text/plain": [
       "<Figure size 432x288 with 1 Axes>"
      ]
     },
     "metadata": {
      "needs_background": "light"
     },
     "output_type": "display_data"
    }
   ],
   "source": [
    "plt.plot(range(2, 10), sil)\n",
    "plt.title('Silhouett')\n",
    "plt.xlabel('Number of clusters')\n",
    "plt.ylabel('Silhouett')\n",
    "plt.show()"
   ]
  },
  {
   "cell_type": "markdown",
   "metadata": {},
   "source": [
    "## 文章分群(二)"
   ]
  },
  {
   "cell_type": "code",
   "execution_count": 319,
   "metadata": {},
   "outputs": [],
   "source": [
    "df = pandas.read_excel('https://raw.githubusercontent.com/ywchiu/tibamepy/master/data/20190720appledaily.xlsx', index_col=0)"
   ]
  },
  {
   "cell_type": "code",
   "execution_count": 321,
   "metadata": {},
   "outputs": [],
   "source": [
    "df.dropna(inplace=True)\n",
    "df.drop_duplicates(inplace=True)"
   ]
  },
  {
   "cell_type": "code",
   "execution_count": 322,
   "metadata": {},
   "outputs": [],
   "source": [
    "titles = []\n",
    "corpus = []\n",
    "for rec in df.iterrows():    \n",
    "    corpus.append(' '.join(jieba.cut(rec[1].content)))\n",
    "    titles.append(rec[1].title)"
   ]
  },
  {
   "cell_type": "code",
   "execution_count": 323,
   "metadata": {},
   "outputs": [],
   "source": [
    "from sklearn.feature_extraction.text import CountVectorizer\n",
    "vectorizer = CountVectorizer()\n",
    "X = vectorizer.fit_transform(corpus)"
   ]
  },
  {
   "cell_type": "code",
   "execution_count": 324,
   "metadata": {},
   "outputs": [
    {
     "data": {
      "text/plain": [
       "(1529, 57678)"
      ]
     },
     "execution_count": 324,
     "metadata": {},
     "output_type": "execute_result"
    }
   ],
   "source": [
    "X.shape"
   ]
  },
  {
   "cell_type": "code",
   "execution_count": 325,
   "metadata": {},
   "outputs": [],
   "source": [
    "from sklearn.metrics.pairwise import cosine_distances\n",
    "cs = cosine_distances(X)"
   ]
  },
  {
   "cell_type": "code",
   "execution_count": 326,
   "metadata": {},
   "outputs": [],
   "source": [
    "from sklearn import cluster\n",
    "c = cluster.KMeans(n_clusters=5, init='k-means++', random_state=123)\n",
    "k_data = c.fit_predict(cs)"
   ]
  },
  {
   "cell_type": "code",
   "execution_count": 327,
   "metadata": {},
   "outputs": [],
   "source": [
    "np_titles = np.array(titles)"
   ]
  },
  {
   "cell_type": "code",
   "execution_count": 332,
   "metadata": {},
   "outputs": [
    {
     "name": "stdout",
     "output_type": "stream",
     "text": [
      "豪大雨狂襲南部　國軍兩千人次助防災\n",
      "豪雨不斷　曾文水庫等6處水利設施放水中\n",
      "降雨稍緩南台灣仍須防豪雨　大台北高溫上看36℃\n",
      "雨勢逐漸增大！　鄭明典：中南部還有一波大雨\n",
      "網友PO高雄災情遭韓國瑜「黑名單」？　小編急發文澄清\n",
      "中南9縣市豪、大雨！早上趨緩　午後防雷陣雨\n",
      "輕颱丹娜絲遠離　2019新月水道節今起重新開放\n",
      "【韓國瑜清淤大考驗】雨區往北擴大　苗栗以南今夜到明晨防強降雨\n",
      "韓國瑜才說清淤成功　高雄豪雨機車滅頂4萬停電\n",
      "豪雨狂炸高屏　2處省公路路段傳出淹水災情\n",
      "【獨家】海委會貼文「我可能不會救你」GG惹　民眾委任律師喊告\n",
      "台灣鴨王雅加達開唱憂心颱風　作陪受封好風光\n",
      "​原民團體抗議北市府搬走物資　要求道歉歸還\n",
      "台南將軍連續降雨3小時　水深及膝！累積雨量百毫米\n",
      "遊日注意！丹娜絲朝日韓前進　日本明日大規模降雨\n",
      "颱風季居家防護　逾30年老屋特別留意\n",
      "台東往返蘭嶼交通船明恢復　航空一切正常\n",
      "中南部防豪大雨　南迴公路等7公路重點警戒\n",
      "丹娜絲颱風走了　幾米飛天小火車重新升空\n",
      "低壓北抬！中南部「雨下整天」防豪雨　北部熱到35℃\n",
      "南投嘉義以南5縣市大雨特報　周五防南海低壓帶來豪大雨\n",
      "【交通異動】蘇花公路等7路段警戒　國內外航班取消101架次\n",
      "颱風外圍環流影響　嘉市週六日熱氣球活動延期\n",
      "丹娜絲颱風東偏　台東海水浴場辣妹踏浪\n",
      "丹娜絲遠離豪大雨接棒　明天中南部山區公路列重點監控\n",
      "屏東山川琉璃吊橋封橋　沿岸防颱風環流致大雨\n",
      "​丹娜絲暴風圈預計傍晚脫離　明中南部慎防豪大雨\n",
      "丹娜絲偏東遠颺　宜蘭飛天小火車明升空\n",
      "不顧颱風警報出遊　大叔瀑布拍照滑倒摔斷腿\n",
      "丹娜絲海警未解除　岸巡勸離外澳海灘衝浪客\n",
      "【獨家】國軍新型救災裝曝光　具抗UV、排汗、通風功能\n",
      "新竹大樓外牆剝落2車遭殃　瓦斯表遭紅磚雨砸毀外洩\n",
      "「丹娜絲留下的眼淚」　蘭嶼迄今降下破百毫米雨量\n",
      "丹娜絲閃邊去菜價一天回穩　農糧署：預期漲價心理減緩\n",
      "丹娜絲遠颺離島交通今仍取消　明天僅剩空運\n",
      "丹娜絲遠離解除警報　花蓮活動如期舉行\n",
      "​丹娜絲東偏遠離　海警預計明凌晨零時解除\n",
      "北歐考察急喊卡　侯友宜返台坐鎮防颱\n",
      "閃過輕颱丹娜絲　高雄放晴！獼猴跳鋼管好心情\n",
      "丹娜絲遠離墾丁天氣晴　海域拉封鎖線警示\n",
      "15縣市豪、大雨！怪颱丹娜絲本尊快閃、分身增強　今晚雨襲中南\n",
      "「我可能不會救你」Kuso過頭？　海委會發文引爭議\n",
      "【颱風更新】丹娜絲陸警20：30解除　新北宜蘭嚴防大雨\n",
      "丹娜絲解除陸警　太平山間歇風雨明休園一天\n",
      "​【不斷更新】龜山島封島、幾米人偶被蓋布袋　全台活動取消一覽\n",
      "上任半年遇首颱！韓國瑜要求「零災害」　陳其邁：防災工作做好較重要\n",
      "韓國瑜指示「三箭齊發對症下藥」　災防目標「零損害」\n",
      "【交通異動】輕颱丹娜絲逼近　陸海空資訊看這裡\n",
      "憂雙颱侵台　專家：災害不見得比較嚴重\n",
      "「請自備塔位」颱風示警文挨轟　海委會：不認為失當\n",
      "颱風路徑偏東　屏東明天正常上班上課　\n",
      "內政部搭上「暗黑料理」風潮　引來政壇眾怒\n",
      "颱風來！墾丁掀遊客退房潮　東琉線明停駛\n",
      "阿里山森林遊樂區正常開園　林鐵正常營運\n",
      "丹娜絲來襲　高雄市明日正常上班上課\n",
      "未列丹娜絲警戒區　台北市：明正常上班上課\n",
      "丹娜絲風雨影響低　宜花東僅蘭嶼綠島今晚停班課\n",
      "因應颱風來襲　保險業啟動緊急應變措施\n",
      "丹娜絲玩擦邊球　北市：未來2天蔬果供應無虞\n",
      "去年823嘉義大淹水　​翁章梁要求最高規格面對丹娜絲\n",
      "丹娜絲來襲！　童玩節明正常開園星光場暫停\n",
      "颱風捲起瘋狗浪　馬祖岸巡勸導民眾勿觀浪\n",
      "因應丹娜絲來襲　新北防汛備戰\n",
      "防丹娜絲直撲釀災　南部國軍預置209兵力待命\n",
      "丹妮絲颱風來襲　北市府：河川將啟動「只出不進」措施\n",
      "丹娜絲逼近台灣　菜價上揚11%、水果漲6.7%\n",
      "台灣NO.1！高鐵苗栗站區飆38.7度　全國最火燙\n",
      "丹娜絲颱風來了　金管會促保險業加強保戶服務\n",
      "輕颱丹娜絲來勢洶洶　海巡勸導七星潭遊客遠離\n",
      "​颱風停班時　勞部：僱主不得強迫勞工出勤\n",
      "丹娜絲逼近忽晴忽雨　桃園天空乍現彩虹\n",
      "丹娜絲颱風逼近　竹科管理局應變中心成立\n",
      "出門戴口罩！颱風影響中部空污亮紅燈　明持續\n",
      "丹娜絲恐從宜蘭登陸　童玩節已展開防颱\n",
      "丹娜絲來襲！飛天火車卸除　幾米廣場人偶套袋防災\n",
      "丹娜絲來襲　五河局放空雲嘉20座滯洪池\n",
      "交長林佳龍上任首遇颱風　下午連跑2攤視察防災準備\n",
      "丹娜絲輕颱來襲　馬祖漁船吊上岸防碰撞  \n",
      "輕颱丹娜絲來襲　國軍AAV7兩棲突擊車進駐蘇澳\n",
      "​ 丹娜絲逼近　台馬之星今明停航、台馬輪短程取消\n",
      "蘭嶼綠島風浪漸強　海巡拉封鎖線警戒\n",
      "丹娜絲逼近！明4處國家森林遊樂區休園\n",
      "丹娜絲襲台蔥價漲　三星蔥農淡定「剛好接雨水」\n",
      "丹娜絲來襲　龜山島封島2天\n",
      "丹娜絲逼近　立委緊盯嘉義44億治水工程進度\n",
      "台電成立緊急應變中心　遇停電可撥打1911通報\n",
      "​丹娜絲來襲　新北市副市長視察華江抽水站 \n",
      "備戰丹娜絲　經濟部開設風災二級災害緊急應變小組\n",
      "丹娜絲明後天影響最劇　災變中心提醒慎防豪大雨\n",
      "丹娜絲颱風影響　國軍暑期戰鬥營提前結訓\n",
      "丹娜絲颱風侵台　桃園消防局呼籲做好七項準備\n",
      "丹娜絲陸警發布　花蓮知卡宣親水公園明暫時關閉\n",
      "丹娜絲影響　北橫探險節周六、日活動延至8月初\n",
      "中元檔期遇「丹娜絲」　量販：人潮多1倍、備貨增2成\n",
      "輕颱丹娜絲逼近　海軍AAV7兩棲突擊車完成部署  \n",
      "丹娜絲颱風切二團　專家：「分身」水汽更多襲南台\n",
      "輕颱丹娜絲逼近　新北新月水道節今起休園\n",
      "馬祖娛樂船直闖碼頭浮動平台　撞兩船損失近百萬\n",
      "​颱風未到樹先倒　板橋4樓高行道樹遭蟻蛀傾倒\n",
      "「丹娜絲」沒穿衣服　小心掃到颱風尾\n",
      "無時差接收災害資訊　災變中心首採手語同步翻譯\n",
      "丹娜絲外圍環流影響　綠島蘭嶼「大撤退」\n",
      "丹娜絲陸警發布　花蓮鯉魚潭水舞活動暫停\n",
      "花蓮海邊湧長浪　海巡拉封鎖線禁止觀浪\n",
      "民眾批氣象局網站出現去年颱風資訊　氣象局：重新整理就好\n",
      "丹娜絲颱風朝台前進　石門水庫完成防汛整備\n",
      "輕颱「丹娜絲」步步逼近　蘇貞昌三招教防颱\n"
     ]
    }
   ],
   "source": [
    "for rec in np_titles[k_data == 4]:\n",
    "    print(rec)"
   ]
  },
  {
   "cell_type": "code",
   "execution_count": 333,
   "metadata": {},
   "outputs": [],
   "source": [
    "from sklearn.metrics import silhouette_score\n",
    "from sklearn import cluster\n",
    "\n",
    "sil = []\n",
    "for i in range(2,30):\n",
    "    c = cluster.KMeans(n_clusters=i, init='k-means++', random_state=123)\n",
    "    k_data = c.fit_predict(cs)\n",
    "    sil.append(silhouette_score(cs, k_data))"
   ]
  },
  {
   "cell_type": "code",
   "execution_count": 334,
   "metadata": {},
   "outputs": [
    {
     "data": {
      "image/png": "[encoded data removed]",
      "text/plain": [
       "<Figure size 432x288 with 1 Axes>"
      ]
     },
     "metadata": {
      "needs_background": "light"
     },
     "output_type": "display_data"
    }
   ],
   "source": [
    "plt.plot(range(2, 30), sil)\n",
    "plt.title('Silhouett')\n",
    "plt.xlabel('Number of clusters')\n",
    "plt.ylabel('Silhouett')\n",
    "plt.show()"
   ]
  },
  {
   "cell_type": "code",
   "execution_count": 336,
   "metadata": {},
   "outputs": [],
   "source": [
    "#sil"
   ]
  },
  {
   "cell_type": "markdown",
   "metadata": {},
   "source": [
    "## 數學圖論"
   ]
  },
  {
   "cell_type": "code",
   "execution_count": 338,
   "metadata": {},
   "outputs": [],
   "source": [
    "import networkx as nx\n",
    "G = nx.Graph()"
   ]
  },
  {
   "cell_type": "code",
   "execution_count": 341,
   "metadata": {},
   "outputs": [],
   "source": [
    "G.add_node('A')\n",
    "G.add_node('B')\n",
    "G.add_node('C')\n",
    "G.add_node('D')\n",
    "G.add_node('E')\n",
    "G.add_node('F')\n",
    "G.add_node('G')"
   ]
  },
  {
   "cell_type": "code",
   "execution_count": 349,
   "metadata": {},
   "outputs": [],
   "source": [
    "G.add_edge('A','B')\n",
    "G.add_edge('A','C')\n",
    "G.add_edge('B','C')\n",
    "G.add_edge('A','G')\n",
    "G.add_edge('B','G')\n",
    "G.add_edge('C','G')\n",
    "G.add_edge('C','D')\n",
    "G.add_edge('D','E')\n",
    "G.add_edge('D','F')\n",
    "G.add_edge('E','F')"
   ]
  },
  {
   "cell_type": "code",
   "execution_count": 350,
   "metadata": {},
   "outputs": [
    {
     "data": {
      "image/png": "[encoded data removed]",
      "text/plain": [
       "<Figure size 432x288 with 1 Axes>"
      ]
     },
     "metadata": {},
     "output_type": "display_data"
    }
   ],
   "source": [
    "nx.draw(G)"
   ]
  },
  {
   "cell_type": "code",
   "execution_count": 351,
   "metadata": {},
   "outputs": [
    {
     "data": {
      "text/plain": [
       "matrix([[0., 1., 1., 0., 0., 0., 1.],\n",
       "        [1., 0., 1., 0., 0., 0., 1.],\n",
       "        [1., 1., 0., 1., 0., 0., 1.],\n",
       "        [0., 0., 1., 0., 1., 1., 0.],\n",
       "        [0., 0., 0., 1., 0., 1., 0.],\n",
       "        [0., 0., 0., 1., 1., 0., 0.],\n",
       "        [1., 1., 1., 0., 0., 0., 0.]])"
      ]
     },
     "execution_count": 351,
     "metadata": {},
     "output_type": "execute_result"
    }
   ],
   "source": [
    "nx.to_numpy_matrix(G)"
   ]
  },
  {
   "cell_type": "markdown",
   "metadata": {},
   "source": [
    "## 將文章變成數學圖論"
   ]
  },
  {
   "cell_type": "code",
   "execution_count": 353,
   "metadata": {},
   "outputs": [
    {
     "data": {
      "text/plain": [
       "(1529, 1529)"
      ]
     },
     "execution_count": 353,
     "metadata": {},
     "output_type": "execute_result"
    }
   ],
   "source": [
    "cs.shape"
   ]
  },
  {
   "cell_type": "code",
   "execution_count": 381,
   "metadata": {},
   "outputs": [],
   "source": [
    "m = (cs < 0.7).astype(int)"
   ]
  },
  {
   "cell_type": "code",
   "execution_count": 382,
   "metadata": {},
   "outputs": [
    {
     "data": {
      "text/plain": [
       "4815"
      ]
     },
     "execution_count": 382,
     "metadata": {},
     "output_type": "execute_result"
    }
   ],
   "source": [
    "m.sum()"
   ]
  },
  {
   "cell_type": "code",
   "execution_count": 383,
   "metadata": {},
   "outputs": [],
   "source": [
    "G = nx.from_numpy_matrix(m)"
   ]
  },
  {
   "cell_type": "markdown",
   "metadata": {},
   "source": [
    "## Python Louvain\n",
    "- pip install python-louvain"
   ]
  },
  {
   "cell_type": "code",
   "execution_count": 384,
   "metadata": {},
   "outputs": [
    {
     "name": "stdout",
     "output_type": "stream",
     "text": [
      "Requirement already satisfied: python-louvain in c:\\programdata\\anaconda3\\lib\\site-packages (0.13)\n",
      "Requirement already satisfied: networkx in c:\\programdata\\anaconda3\\lib\\site-packages (from python-louvain) (2.2)\n",
      "Requirement already satisfied: decorator>=4.3.0 in c:\\programdata\\anaconda3\\lib\\site-packages (from networkx->python-louvain) (4.4.0)\n"
     ]
    }
   ],
   "source": [
    "! pip install python-louvain"
   ]
  },
  {
   "cell_type": "code",
   "execution_count": 385,
   "metadata": {},
   "outputs": [],
   "source": [
    "import community\n",
    "partition = community.best_partition(G)"
   ]
  },
  {
   "cell_type": "code",
   "execution_count": 386,
   "metadata": {},
   "outputs": [],
   "source": [
    "from collections import Counter\n",
    "c = Counter(partition.values())"
   ]
  },
  {
   "cell_type": "code",
   "execution_count": 387,
   "metadata": {},
   "outputs": [
    {
     "data": {
      "text/plain": [
       "[(2, 81),\n",
       " (22, 53),\n",
       " (27, 40),\n",
       " (87, 36),\n",
       " (4, 35),\n",
       " (15, 35),\n",
       " (94, 34),\n",
       " (17, 25),\n",
       " (3, 23),\n",
       " (117, 18)]"
      ]
     },
     "execution_count": 387,
     "metadata": {},
     "output_type": "execute_result"
    }
   ],
   "source": [
    "c.most_common(10)"
   ]
  },
  {
   "cell_type": "code",
   "execution_count": 388,
   "metadata": {},
   "outputs": [
    {
     "data": {
      "text/plain": [
       "902"
      ]
     },
     "execution_count": 388,
     "metadata": {},
     "output_type": "execute_result"
    }
   ],
   "source": [
    "len(c)"
   ]
  },
  {
   "cell_type": "code",
   "execution_count": 389,
   "metadata": {},
   "outputs": [],
   "source": [
    "cluster_group = np.array(list(partition.values()))"
   ]
  },
  {
   "cell_type": "code",
   "execution_count": 395,
   "metadata": {},
   "outputs": [
    {
     "name": "stdout",
     "output_type": "stream",
     "text": [
      "縱火犯指控盜用小說　京都動畫社長澄清未收過投稿\n",
      "京都動畫社長懊悔門禁鬆懈奪34命　名作資料全毀\n",
      "「煙囪效應」加速火煙蔓延　釀京都動畫34死慘劇\n",
      "【獨家】兩唇之間一指寬！話說不清　腫瘤悄悄找上他\n",
      "京都縱火嫌犯身分曝光　死者增至34人\n",
      "京都動畫嫌犯十惡不赦　縱火還無差別砍人奪33命（動畫）\n",
      "香菸盒上是我的斷腿照片！法國男怒控被盜用\n",
      "京都動畫嫌犯被逮時大喊　「偷我小說所以才縱火」\n",
      "疑不滿日二戰強徵勞工　日駐首爾使館外男駕車自焚亡\n",
      "京都市長只拚選舉不管慘案　開33命玩笑被罵翻\n",
      "一把火燒死京都動畫33人　只差一步！19人堆疊樓梯間慘死\n",
      "疑涉及賭場糾紛　台男在菲律賓遭中國人拘禁\n",
      "京都動畫遭縱火33死　蘋果CEO庫克發文哀悼\n",
      "動漫界痛失多位優秀畫師　粉絲傷心發起集資\n",
      "「京都動畫無可取代」　網友：看到火災時都哭了\n",
      "動漫界最黑暗一日　京都動畫遭縱火 33死\n",
      "【恐怖縱火16】總統蔡英文發推文祈福　　為事件震驚與心痛\n",
      "【恐怖縱火1】日本「京都動畫」縱火案證實33死　嫌犯疑不滿「抄襲」\n",
      "【恐怖縱火15】外交部：已聯繫伏見警察署　無台灣人受傷或死亡\n",
      "【恐怖縱火14】京都動畫曾收到殺人預告　社長：任一人都不能傷亡\n",
      "【恐怖縱火11】京都動畫遭縱火　新海誠推文：盼眾人平安\n",
      "【恐怖縱火13】美國動漫商募資援助京都動畫　6小時逾932萬元\n",
      "【恐怖縱火12】京都動畫知名作品多　聲優讚製作十分認真\n",
      "【恐怖縱火10】京都動畫大火　中國網友：二次元巴黎聖母院被燒毀\n",
      "【恐怖縱火8】京都動畫遭縱火　台代理商嘆：作品細緻、有口皆碑\n",
      "【恐怖縱火9】京都動畫遭縱火　動漫迷怒：嫌犯如恐怖份子\n",
      "【恐怖縱火7】京都動畫工作室大火女員工燒傷赤腳求救　受困者從3樓逃生\n",
      "【恐怖縱火6】日本曾發生多起縱火死傷事件　東京歌舞伎町大樓火災奪44命\n",
      "【恐怖縱火5】痛心！台灣漫迷「用日幣下架京阿尼產品」\n",
      "情侶靠窗做愛直墜9樓　女慘死男「復活」續攤轟趴\n",
      "【恐怖縱火4】京都動畫製作公司大火　《涼宮春日》作者谷川流留言祝福\n",
      "【恐怖縱火3】動漫工廠變人間煉獄　警：2樓躺著一堆不會動的人\n",
      "男患痔瘡17年沒治療　暴斃車內屎血噴濺\n",
      "【恐怖縱火2】「京阿尼」動畫品質高　《涼宮春日》、《K-ON》都是成名作\n",
      "男吸毒逆轉判無罪　因為警脫他褲子露GG\n"
     ]
    }
   ],
   "source": [
    "for rec in np_titles[cluster_group == 4]:\n",
    "    print(rec)"
   ]
  },
  {
   "cell_type": "code",
   "execution_count": 397,
   "metadata": {},
   "outputs": [
    {
     "data": {
      "text/plain": [
       "(1529, 57678)"
      ]
     },
     "execution_count": 397,
     "metadata": {},
     "output_type": "execute_result"
    }
   ],
   "source": [
    "X.shape"
   ]
  },
  {
   "cell_type": "code",
   "execution_count": 419,
   "metadata": {},
   "outputs": [
    {
     "data": {
      "text/plain": [
       "(1, 57678)"
      ]
     },
     "execution_count": 419,
     "metadata": {},
     "output_type": "execute_result"
    }
   ],
   "source": [
    "X[cluster_group == 4].sum(axis = 0).shape"
   ]
  },
  {
   "cell_type": "code",
   "execution_count": 426,
   "metadata": {},
   "outputs": [
    {
     "data": {
      "text/plain": [
       "matrix([[    0, 37986, 37988, ..., 37978,  6339, 11797]], dtype=int64)"
      ]
     },
     "execution_count": 426,
     "metadata": {},
     "output_type": "execute_result"
    }
   ],
   "source": [
    "X[cluster_group == 4].sum(axis = 0).argsort()"
   ]
  },
  {
   "cell_type": "code",
   "execution_count": 429,
   "metadata": {},
   "outputs": [],
   "source": [
    "mat = X[cluster_group == 4].sum(axis = 0)\n",
    "indices = np.squeeze(np.asarray(mat))"
   ]
  },
  {
   "cell_type": "code",
   "execution_count": 430,
   "metadata": {},
   "outputs": [],
   "source": [
    "term_name = np.array(vectorizer.get_feature_names())"
   ]
  },
  {
   "cell_type": "code",
   "execution_count": 431,
   "metadata": {},
   "outputs": [
    {
     "data": {
      "text/plain": [
       "array(['動畫', '京都', '男子', '日本', '警方', '公司', '縱火', '報導', '表示', '工作室'],\n",
       "      dtype='<U17')"
      ]
     },
     "execution_count": 431,
     "metadata": {},
     "output_type": "execute_result"
    }
   ],
   "source": [
    "term_name[indices.argsort()[::-1][0:10]]"
   ]
  },
  {
   "cell_type": "code",
   "execution_count": 435,
   "metadata": {},
   "outputs": [
    {
     "name": "stdout",
     "output_type": "stream",
     "text": [
      "議題文章標題: 槓上韓國瑜　徐國勇：應專心市政及防災\n",
      "相關字詞 ['颱風' '影響' '氣象' '丹娜絲' '地區' '可能' '發布' '警報' '民眾' '表示']\n",
      "相關聲量 81\n",
      "============================================\n",
      "議題文章標題: 昨批兩黨候選人「菜包、草包」　柯文哲就是不說自己是什麼包\n",
      "相關字詞 ['自己' '柯文哲' '總統' '民進黨' '民調' '國瑜' '媒體' '英文' '不是' '就是']\n",
      "相關聲量 53\n",
      "============================================\n",
      "議題文章標題: 兩岸論述遭《德國之聲》質疑　周錫瑋：外媒受獨派影響\n",
      "相關字詞 ['中國' '台灣' '美國' '經濟' '成長' '貿易' '出口' '報導' '國家' '表示']\n",
      "相關聲量 40\n",
      "============================================\n",
      "議題文章標題: 旺中大動作提告　學者羅承宗：新聞自由不是遮羞布\n",
      "相關字詞 ['媒體' '報導' '新聞' '時報' '金融' '中國' '台灣' '集團' '旺中' '自由']\n",
      "相關聲量 36\n",
      "============================================\n",
      "議題文章標題: 縱火犯指控盜用小說　京都動畫社長澄清未收過投稿\n",
      "相關字詞 ['動畫' '京都' '男子' '日本' '警方' '公司' '縱火' '報導' '表示' '工作室']\n",
      "相關聲量 35\n",
      "============================================\n",
      "議題文章標題: 【綠委布局3】不分區席次搶破頭　資深綠委動作很多「很離譜」\n",
      "相關字詞 ['國瑜' '立委' '國民黨' '總統' '民進黨' '參選' '台銘' '初選' '主席' '分區']\n",
      "相關聲量 35\n",
      "============================================\n",
      "議題文章標題: 謝長廷投稿朝日新聞： 台灣力挺香港反送中\n",
      "相關字詞 ['香港' '警方' '示威者' '台灣' '政府' '遊行' '立法' '市民' '條例' '表示']\n",
      "相關聲量 34\n",
      "============================================\n",
      "議題文章標題: 轎車左轉遭機車撞擊　騎士頭部重創不治\n",
      "相關字詞 ['警方' '駕駛' '轎車' '車禍' '車輛' '發生' '調查' '男子' '時間' '現場']\n",
      "相關聲量 25\n",
      "============================================\n",
      "議題文章標題: 【過境丹佛】蔡英文過境丹佛　參議員賈德納讚美台關係史上最好\n",
      "相關字詞 ['台灣' '英文' '美國' '總統' '露西' '露國' '水扁' '表示' '報導' '政府']\n",
      "相關聲量 23\n",
      "============================================\n",
      "議題文章標題: 【別被6.66%沖昏頭】銀行推美元高利率定存　專家：注意3大陷阱\n",
      "相關字詞 ['美元' '5g' '積電' '手機' '預期' '台幣' '營收' '今年' '產品' '富智康']\n",
      "相關聲量 18\n",
      "============================================\n"
     ]
    }
   ],
   "source": [
    "for k, v in c.most_common(10):\n",
    "    print('議題文章標題:',np_titles[cluster_group == k][0])\n",
    "    mat = X[cluster_group == k].sum(axis = 0)\n",
    "    indices = np.squeeze(np.asarray(mat))\n",
    "    print('相關字詞',term_name[indices.argsort()[::-1][0:10]])\n",
    "    print('相關聲量',len(np_titles[cluster_group == k]))\n",
    "    print('============================================')"
   ]
  },
  {
   "cell_type": "markdown",
   "metadata": {},
   "source": [
    "## 利用圖論與tfidf 分群"
   ]
  },
  {
   "cell_type": "code",
   "execution_count": 436,
   "metadata": {},
   "outputs": [],
   "source": [
    "from sklearn.feature_extraction.text import TfidfVectorizer\n",
    "vectorizer = TfidfVectorizer()\n",
    "X = vectorizer.fit_transform(corpus)"
   ]
  },
  {
   "cell_type": "code",
   "execution_count": 437,
   "metadata": {},
   "outputs": [],
   "source": [
    "from sklearn.metrics.pairwise import cosine_distances\n",
    "cs = cosine_distances(X)"
   ]
  },
  {
   "cell_type": "code",
   "execution_count": 438,
   "metadata": {},
   "outputs": [],
   "source": [
    "m = (cs < 0.7).astype(int)"
   ]
  },
  {
   "cell_type": "code",
   "execution_count": 439,
   "metadata": {},
   "outputs": [],
   "source": [
    "G = nx.from_numpy_matrix(m)"
   ]
  },
  {
   "cell_type": "code",
   "execution_count": 440,
   "metadata": {},
   "outputs": [],
   "source": [
    "import community\n",
    "partition = community.best_partition(G)"
   ]
  },
  {
   "cell_type": "code",
   "execution_count": 441,
   "metadata": {},
   "outputs": [],
   "source": [
    "from collections import Counter\n",
    "c = Counter(partition.values())"
   ]
  },
  {
   "cell_type": "code",
   "execution_count": 442,
   "metadata": {},
   "outputs": [
    {
     "data": {
      "text/plain": [
       "[(14, 40),\n",
       " (22, 30),\n",
       " (4, 23),\n",
       " (105, 14),\n",
       " (362, 11),\n",
       " (145, 10),\n",
       " (292, 9),\n",
       " (97, 7),\n",
       " (199, 7),\n",
       " (25, 6)]"
      ]
     },
     "execution_count": 442,
     "metadata": {},
     "output_type": "execute_result"
    }
   ],
   "source": [
    "c.most_common(10)"
   ]
  },
  {
   "cell_type": "code",
   "execution_count": 443,
   "metadata": {},
   "outputs": [],
   "source": [
    "cluster_group = np.array(list(partition.values()))"
   ]
  },
  {
   "cell_type": "code",
   "execution_count": 444,
   "metadata": {},
   "outputs": [
    {
     "name": "stdout",
     "output_type": "stream",
     "text": [
      "議題文章標題: 豪大雨狂襲南部　國軍兩千人次助防災\n",
      "相關字詞 ['颱風' '氣象' '丹娜絲' '公路' '地區' '大雨' '中南部' '發布' '影響' '警報']\n",
      "相關聲量 40\n",
      "============================================\n",
      "議題文章標題: 【綠委布局1】不滿時代力量「背骨」　基層要民進黨全面開戰「選區提好提滿」\n",
      "相關字詞 ['時報' '媒體' '旺中' '金融' '集團' '國昌' '中國' '新聞' '立委' '中時']\n",
      "相關聲量 30\n",
      "============================================\n",
      "議題文章標題: 縱火犯指控盜用小說　京都動畫社長澄清未收過投稿\n",
      "相關字詞 ['動畫' '京都' '縱火' '京阿尼' '日本' '公司' '工作室' '男子' '作品' '警方']\n",
      "相關聲量 23\n",
      "============================================\n",
      "議題文章標題: 謝長廷投稿朝日新聞： 台灣力挺香港反送中\n",
      "相關字詞 ['香港' '示威者' '中國' '庇護' '台灣' '尋求' '立法' '條例' '相關' '逃犯']\n",
      "相關聲量 14\n",
      "============================================\n",
      "議題文章標題: 華為雄心5G加快裝置倍增！外資欽點台廠6猛將\n",
      "相關字詞 ['5g' '積電' '外資' '預期' '營收' '台積' '奈米' '應用' '美元' '手機']\n",
      "相關聲量 11\n",
      "============================================\n",
      "議題文章標題: 11萬人升級壹會員　《蘋果》尊榮權益獻給您\n",
      "相關字詞 ['會員' '蘋果' '升級' '聞網' '訂閱' '付費' 'ans' '獨享' 'app' '服務']\n",
      "相關聲量 10\n",
      "============================================\n",
      "議題文章標題: 全球吹降息風　中研院提3大優勢估台央行不跟進降息\n",
      "相關字詞 ['降息' '央行' '南韓' '利率' '市場' '經濟' '貨幣' '投資' '新興' '印尼']\n",
      "相關聲量 9\n",
      "============================================\n",
      "議題文章標題: 南韓人拒買日貨　蜘蛛人也被帶衰\n",
      "相關字詞 ['南韓' '日本' '三星' '原料' '管制' '供應' 'dram' '導體' '晶片' '出口']\n",
      "相關聲量 7\n",
      "============================================\n",
      "議題文章標題: 柯P連三天噴「金句」　王世堅酸：被丟包症候群\n",
      "相關字詞 ['柯文哲' '民進黨' '總統' '王世堅' '英文' '媒體' '不要' '成性' '連任' '台北市']\n",
      "相關聲量 7\n",
      "============================================\n",
      "議題文章標題: 「非常多人討厭她」　妖西預言：蔡英文2020的票會很難看\n",
      "相關字詞 ['喜樂島' '立委' '組黨' '喜樂' '島聯' '盟黨' '聯盟' '獨派' '創黨' '妖西']\n",
      "相關聲量 6\n",
      "============================================\n"
     ]
    }
   ],
   "source": [
    "for k, v in c.most_common(10):\n",
    "    print('議題文章標題:',np_titles[cluster_group == k][0])\n",
    "    mat = X[cluster_group == k].sum(axis = 0)\n",
    "    indices = np.squeeze(np.asarray(mat))\n",
    "    print('相關字詞',term_name[indices.argsort()[::-1][0:10]])\n",
    "    print('相關聲量',len(np_titles[cluster_group == k]))\n",
    "    print('============================================')"
   ]
  },
  {
   "cell_type": "code",
   "execution_count": null,
   "metadata": {},
   "outputs": [],
   "source": []
  }
 ],
 "metadata": {
  "kernelspec": {
   "display_name": "Python 3",
   "language": "python",
   "name": "python3"
  },
  "language_info": {
   "codemirror_mode": {
    "name": "ipython",
    "version": 3
   },
   "file_extension": ".py",
   "mimetype": "text/x-python",
   "name": "python",
   "nbconvert_exporter": "python",
   "pygments_lexer": "ipython3",
   "version": "3.7.3"
  }
 },
 "nbformat": 4,
 "nbformat_minor": 2
}
