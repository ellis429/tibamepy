{
 "cells": [
  {
   "cell_type": "markdown",
   "metadata": {},
   "source": [
    "## 結構化資料處理\n",
    "- https://raw.githubusercontent.com/ywchiu/tibamepy/master/data/eps.xlsx"
   ]
  },
  {
   "cell_type": "code",
   "execution_count": 3,
   "metadata": {},
   "outputs": [],
   "source": [
    "import pandas\n",
    "eps = pandas.read_excel('C:/Users/user/Downloads/eps.xlsx', index_col = 0)"
   ]
  },
  {
   "cell_type": "code",
   "execution_count": 4,
   "metadata": {},
   "outputs": [
    {
     "data": {
      "text/html": [
       "<div>\n",
       "<style scoped>\n",
       "    .dataframe tbody tr th:only-of-type {\n",
       "        vertical-align: middle;\n",
       "    }\n",
       "\n",
       "    .dataframe tbody tr th {\n",
       "        vertical-align: top;\n",
       "    }\n",
       "\n",
       "    .dataframe thead th {\n",
       "        text-align: right;\n",
       "    }\n",
       "</style>\n",
       "<table border=\"1\" class=\"dataframe\">\n",
       "  <thead>\n",
       "    <tr style=\"text-align: right;\">\n",
       "      <th></th>\n",
       "      <th>公司代號</th>\n",
       "      <th>公司名稱</th>\n",
       "      <th>產業別</th>\n",
       "      <th>基本每股盈餘(元)</th>\n",
       "      <th>普通股每股面額</th>\n",
       "      <th>營業收入</th>\n",
       "      <th>營業利益</th>\n",
       "      <th>營業外收入及支出</th>\n",
       "      <th>稅後淨利</th>\n",
       "      <th>Year</th>\n",
       "      <th>Season</th>\n",
       "    </tr>\n",
       "  </thead>\n",
       "  <tbody>\n",
       "    <tr>\n",
       "      <th>0</th>\n",
       "      <td>1102</td>\n",
       "      <td>亞洲水泥股份有限公司</td>\n",
       "      <td>水泥工業</td>\n",
       "      <td>0.40</td>\n",
       "      <td>新台幣 10.0000元</td>\n",
       "      <td>13931550</td>\n",
       "      <td>339801</td>\n",
       "      <td>1250044</td>\n",
       "      <td>1371559</td>\n",
       "      <td>102</td>\n",
       "      <td>1</td>\n",
       "    </tr>\n",
       "    <tr>\n",
       "      <th>1</th>\n",
       "      <td>1101</td>\n",
       "      <td>台灣水泥股份有限公司</td>\n",
       "      <td>水泥工業</td>\n",
       "      <td>0.38</td>\n",
       "      <td>新台幣 10.0000元</td>\n",
       "      <td>24114047</td>\n",
       "      <td>2026729</td>\n",
       "      <td>314060</td>\n",
       "      <td>1999624</td>\n",
       "      <td>102</td>\n",
       "      <td>1</td>\n",
       "    </tr>\n",
       "    <tr>\n",
       "      <th>2</th>\n",
       "      <td>1104</td>\n",
       "      <td>環球水泥股份有限公司</td>\n",
       "      <td>水泥工業</td>\n",
       "      <td>0.30</td>\n",
       "      <td>新台幣 10.0000元</td>\n",
       "      <td>1248072</td>\n",
       "      <td>30247</td>\n",
       "      <td>156012</td>\n",
       "      <td>183441</td>\n",
       "      <td>102</td>\n",
       "      <td>1</td>\n",
       "    </tr>\n",
       "    <tr>\n",
       "      <th>3</th>\n",
       "      <td>1108</td>\n",
       "      <td>幸福水泥股份有限公司</td>\n",
       "      <td>水泥工業</td>\n",
       "      <td>0.17</td>\n",
       "      <td>新台幣 10.0000元</td>\n",
       "      <td>1203671</td>\n",
       "      <td>98223</td>\n",
       "      <td>-13612</td>\n",
       "      <td>63869</td>\n",
       "      <td>102</td>\n",
       "      <td>1</td>\n",
       "    </tr>\n",
       "    <tr>\n",
       "      <th>4</th>\n",
       "      <td>1103</td>\n",
       "      <td>嘉新水泥股份有限公司</td>\n",
       "      <td>水泥工業</td>\n",
       "      <td>0.13</td>\n",
       "      <td>新台幣 10.0000元</td>\n",
       "      <td>741189</td>\n",
       "      <td>-149811</td>\n",
       "      <td>183613</td>\n",
       "      <td>59637</td>\n",
       "      <td>102</td>\n",
       "      <td>1</td>\n",
       "    </tr>\n",
       "  </tbody>\n",
       "</table>\n",
       "</div>"
      ],
      "text/plain": [
       "   公司代號        公司名稱   產業別  基本每股盈餘(元)       普通股每股面額      營業收入     營業利益  \\\n",
       "0  1102  亞洲水泥股份有限公司  水泥工業       0.40  新台幣 10.0000元  13931550   339801   \n",
       "1  1101  台灣水泥股份有限公司  水泥工業       0.38  新台幣 10.0000元  24114047  2026729   \n",
       "2  1104  環球水泥股份有限公司  水泥工業       0.30  新台幣 10.0000元   1248072    30247   \n",
       "3  1108  幸福水泥股份有限公司  水泥工業       0.17  新台幣 10.0000元   1203671    98223   \n",
       "4  1103  嘉新水泥股份有限公司  水泥工業       0.13  新台幣 10.0000元    741189  -149811   \n",
       "\n",
       "  營業外收入及支出     稅後淨利  Year  Season  \n",
       "0  1250044  1371559   102       1  \n",
       "1   314060  1999624   102       1  \n",
       "2   156012   183441   102       1  \n",
       "3   -13612    63869   102       1  \n",
       "4   183613    59637   102       1  "
      ]
     },
     "execution_count": 4,
     "metadata": {},
     "output_type": "execute_result"
    }
   ],
   "source": [
    "eps.head()"
   ]
  },
  {
   "cell_type": "code",
   "execution_count": 6,
   "metadata": {},
   "outputs": [
    {
     "data": {
      "text/html": [
       "<div>\n",
       "<style scoped>\n",
       "    .dataframe tbody tr th:only-of-type {\n",
       "        vertical-align: middle;\n",
       "    }\n",
       "\n",
       "    .dataframe tbody tr th {\n",
       "        vertical-align: top;\n",
       "    }\n",
       "\n",
       "    .dataframe thead th {\n",
       "        text-align: right;\n",
       "    }\n",
       "</style>\n",
       "<table border=\"1\" class=\"dataframe\">\n",
       "  <thead>\n",
       "    <tr style=\"text-align: right;\">\n",
       "      <th></th>\n",
       "      <th>Date</th>\n",
       "      <th>Open</th>\n",
       "      <th>High</th>\n",
       "      <th>Low</th>\n",
       "      <th>Close</th>\n",
       "      <th>Adj Close</th>\n",
       "      <th>Volume</th>\n",
       "    </tr>\n",
       "  </thead>\n",
       "  <tbody>\n",
       "    <tr>\n",
       "      <th>0</th>\n",
       "      <td>2013-03-04</td>\n",
       "      <td>7966.220215</td>\n",
       "      <td>7966.220215</td>\n",
       "      <td>7849.520020</td>\n",
       "      <td>7867.339844</td>\n",
       "      <td>7867.339844</td>\n",
       "      <td>2278000.0</td>\n",
       "    </tr>\n",
       "    <tr>\n",
       "      <th>1</th>\n",
       "      <td>2013-03-05</td>\n",
       "      <td>7910.439941</td>\n",
       "      <td>7939.850098</td>\n",
       "      <td>7882.560059</td>\n",
       "      <td>7932.709961</td>\n",
       "      <td>7932.709961</td>\n",
       "      <td>2246200.0</td>\n",
       "    </tr>\n",
       "    <tr>\n",
       "      <th>2</th>\n",
       "      <td>2013-03-06</td>\n",
       "      <td>7958.109863</td>\n",
       "      <td>7982.390137</td>\n",
       "      <td>7936.859863</td>\n",
       "      <td>7950.299805</td>\n",
       "      <td>7950.299805</td>\n",
       "      <td>2329600.0</td>\n",
       "    </tr>\n",
       "    <tr>\n",
       "      <th>3</th>\n",
       "      <td>2013-03-07</td>\n",
       "      <td>7950.899902</td>\n",
       "      <td>7984.290039</td>\n",
       "      <td>7942.370117</td>\n",
       "      <td>7960.509766</td>\n",
       "      <td>7960.509766</td>\n",
       "      <td>2261400.0</td>\n",
       "    </tr>\n",
       "    <tr>\n",
       "      <th>4</th>\n",
       "      <td>2013-03-08</td>\n",
       "      <td>7981.000000</td>\n",
       "      <td>8029.140137</td>\n",
       "      <td>7981.000000</td>\n",
       "      <td>8015.140137</td>\n",
       "      <td>8015.140137</td>\n",
       "      <td>2719000.0</td>\n",
       "    </tr>\n",
       "  </tbody>\n",
       "</table>\n",
       "</div>"
      ],
      "text/plain": [
       "         Date         Open         High          Low        Close  \\\n",
       "0  2013-03-04  7966.220215  7966.220215  7849.520020  7867.339844   \n",
       "1  2013-03-05  7910.439941  7939.850098  7882.560059  7932.709961   \n",
       "2  2013-03-06  7958.109863  7982.390137  7936.859863  7950.299805   \n",
       "3  2013-03-07  7950.899902  7984.290039  7942.370117  7960.509766   \n",
       "4  2013-03-08  7981.000000  8029.140137  7981.000000  8015.140137   \n",
       "\n",
       "     Adj Close     Volume  \n",
       "0  7867.339844  2278000.0  \n",
       "1  7932.709961  2246200.0  \n",
       "2  7950.299805  2329600.0  \n",
       "3  7960.509766  2261400.0  \n",
       "4  8015.140137  2719000.0  "
      ]
     },
     "execution_count": 6,
     "metadata": {},
     "output_type": "execute_result"
    }
   ],
   "source": [
    "import pandas\n",
    "stock = pandas.read_csv('https://raw.githubusercontent.com/ywchiu/tibamepy/master/data/TWII.csv')\n",
    "stock.head()"
   ]
  },
  {
   "cell_type": "markdown",
   "metadata": {},
   "source": [
    "## 半結構化資料處理"
   ]
  },
  {
   "cell_type": "code",
   "execution_count": 7,
   "metadata": {},
   "outputs": [
    {
     "data": {
      "text/html": [
       "<div>\n",
       "<style scoped>\n",
       "    .dataframe tbody tr th:only-of-type {\n",
       "        vertical-align: middle;\n",
       "    }\n",
       "\n",
       "    .dataframe tbody tr th {\n",
       "        vertical-align: top;\n",
       "    }\n",
       "\n",
       "    .dataframe thead th {\n",
       "        text-align: right;\n",
       "    }\n",
       "</style>\n",
       "<table border=\"1\" class=\"dataframe\">\n",
       "  <thead>\n",
       "    <tr style=\"text-align: right;\">\n",
       "      <th></th>\n",
       "      <th>Date</th>\n",
       "      <th>Open</th>\n",
       "      <th>High</th>\n",
       "      <th>Low</th>\n",
       "      <th>Close</th>\n",
       "      <th>Volume</th>\n",
       "      <th>Adj Close</th>\n",
       "    </tr>\n",
       "  </thead>\n",
       "  <tbody>\n",
       "    <tr>\n",
       "      <th>0</th>\n",
       "      <td>2016-07-21</td>\n",
       "      <td>171.0</td>\n",
       "      <td>172.0</td>\n",
       "      <td>170.0</td>\n",
       "      <td>172.0</td>\n",
       "      <td>33130000</td>\n",
       "      <td>172.0</td>\n",
       "    </tr>\n",
       "    <tr>\n",
       "      <th>1</th>\n",
       "      <td>2016-07-20</td>\n",
       "      <td>170.0</td>\n",
       "      <td>170.5</td>\n",
       "      <td>169.0</td>\n",
       "      <td>170.0</td>\n",
       "      <td>38053000</td>\n",
       "      <td>170.0</td>\n",
       "    </tr>\n",
       "    <tr>\n",
       "      <th>2</th>\n",
       "      <td>2016-07-19</td>\n",
       "      <td>170.5</td>\n",
       "      <td>170.5</td>\n",
       "      <td>169.0</td>\n",
       "      <td>170.5</td>\n",
       "      <td>42456000</td>\n",
       "      <td>170.5</td>\n",
       "    </tr>\n",
       "    <tr>\n",
       "      <th>3</th>\n",
       "      <td>2016-07-18</td>\n",
       "      <td>168.0</td>\n",
       "      <td>170.0</td>\n",
       "      <td>168.0</td>\n",
       "      <td>169.5</td>\n",
       "      <td>24749000</td>\n",
       "      <td>169.5</td>\n",
       "    </tr>\n",
       "    <tr>\n",
       "      <th>4</th>\n",
       "      <td>2016-07-15</td>\n",
       "      <td>169.5</td>\n",
       "      <td>169.5</td>\n",
       "      <td>169.5</td>\n",
       "      <td>169.5</td>\n",
       "      <td>41000</td>\n",
       "      <td>169.5</td>\n",
       "    </tr>\n",
       "  </tbody>\n",
       "</table>\n",
       "</div>"
      ],
      "text/plain": [
       "        Date   Open   High    Low  Close    Volume  Adj Close\n",
       "0 2016-07-21  171.0  172.0  170.0  172.0  33130000      172.0\n",
       "1 2016-07-20  170.0  170.5  169.0  170.0  38053000      170.0\n",
       "2 2016-07-19  170.5  170.5  169.0  170.5  42456000      170.5\n",
       "3 2016-07-18  168.0  170.0  168.0  169.5  24749000      169.5\n",
       "4 2016-07-15  169.5  169.5  169.5  169.5     41000      169.5"
      ]
     },
     "execution_count": 7,
     "metadata": {},
     "output_type": "execute_result"
    }
   ],
   "source": [
    "import pandas\n",
    "tw2330 = pandas.read_json('https://raw.githubusercontent.com/ywchiu/tibamepy/master/data/2330.json')\n",
    "tw2330"
   ]
  },
  {
   "cell_type": "code",
   "execution_count": 12,
   "metadata": {},
   "outputs": [],
   "source": [
    "from xml.dom import minidom\n",
    "from xml.etree import ElementTree\n",
    "\n",
    "f = open('C:/Users/user/Downloads/1435449602.xml', 'r', encoding='utf-8')\n",
    "events=ElementTree.fromstring(f.read())\n",
    "f.close()"
   ]
  },
  {
   "cell_type": "code",
   "execution_count": 13,
   "metadata": {},
   "outputs": [
    {
     "name": "stdout",
     "output_type": "stream",
     "text": [
      "八仙塵爆  五相關人依公共危險重傷害法辦\n"
     ]
    }
   ],
   "source": [
    "for elem in events.findall('./channel/item'):\n",
    "    guid        = elem.find('guid').text\n",
    "    title       = elem.find('title').text\n",
    "    description = elem.find('description').text\n",
    "    pubDate     = elem.find('pubDate').text\n",
    "    source      = elem.find('source').text\n",
    "    print(title)\n",
    "    break\n",
    "    "
   ]
  },
  {
   "cell_type": "markdown",
   "metadata": {},
   "source": [
    "## PDF 處理\n",
    "- https://github.com/ywchiu/cdc_course/blob/master/PDF%20Decrypt.ipynb"
   ]
  },
  {
   "cell_type": "markdown",
   "metadata": {},
   "source": [
    "## GET"
   ]
  },
  {
   "cell_type": "code",
   "execution_count": 14,
   "metadata": {},
   "outputs": [
    {
     "data": {
      "text/plain": [
       "<Response [200]>"
      ]
     },
     "execution_count": 14,
     "metadata": {},
     "output_type": "execute_result"
    }
   ],
   "source": [
    "import requests\n",
    "res = requests.get('https://tw.appledaily.com/new/realtime')\n",
    "res"
   ]
  },
  {
   "cell_type": "code",
   "execution_count": 16,
   "metadata": {},
   "outputs": [],
   "source": [
    "#res.text"
   ]
  },
  {
   "cell_type": "code",
   "execution_count": 17,
   "metadata": {},
   "outputs": [
    {
     "data": {
      "text/plain": [
       "requests.models.Response"
      ]
     },
     "execution_count": 17,
     "metadata": {},
     "output_type": "execute_result"
    }
   ],
   "source": [
    "type(res)"
   ]
  },
  {
   "cell_type": "code",
   "execution_count": 18,
   "metadata": {},
   "outputs": [
    {
     "name": "stdout",
     "output_type": "stream",
     "text": [
      "['__attrs__', '__bool__', '__class__', '__delattr__', '__dict__', '__dir__', '__doc__', '__enter__', '__eq__', '__exit__', '__format__', '__ge__', '__getattribute__', '__getstate__', '__gt__', '__hash__', '__init__', '__init_subclass__', '__iter__', '__le__', '__lt__', '__module__', '__ne__', '__new__', '__nonzero__', '__reduce__', '__reduce_ex__', '__repr__', '__setattr__', '__setstate__', '__sizeof__', '__str__', '__subclasshook__', '__weakref__', '_content', '_content_consumed', '_next', 'apparent_encoding', 'close', 'connection', 'content', 'cookies', 'elapsed', 'encoding', 'headers', 'history', 'is_permanent_redirect', 'is_redirect', 'iter_content', 'iter_lines', 'json', 'links', 'next', 'ok', 'raise_for_status', 'raw', 'reason', 'request', 'status_code', 'text', 'url']\n"
     ]
    }
   ],
   "source": [
    "print(dir(res))"
   ]
  },
  {
   "cell_type": "markdown",
   "metadata": {},
   "source": [
    "## HTTP Status\n",
    "- https://zh.wikipedia.org/wiki/HTTP%E7%8A%B6%E6%80%81%E7%A0%81"
   ]
  },
  {
   "cell_type": "markdown",
   "metadata": {},
   "source": [
    "## POST"
   ]
  },
  {
   "cell_type": "code",
   "execution_count": 19,
   "metadata": {},
   "outputs": [
    {
     "data": {
      "text/plain": [
       "<Response [200]>"
      ]
     },
     "execution_count": 19,
     "metadata": {},
     "output_type": "execute_result"
    }
   ],
   "source": [
    "import requests\n",
    "url = 'http://www.thsrc.com.tw/tw/TimeTable/Search'\n",
    "\n",
    "payload = {\n",
    "'StartStationName'  :  '台北站',\n",
    "'EndStationName'    :  '新竹站',\n",
    "'SearchType'        :  'S',\n",
    "'StartStation'      :  '977abb69-413a-4ccf-a109-0272c24fd490',\n",
    "'EndStation'        :  'a7a04c89-900b-4798-95a3-c01c455622f4',\n",
    "'DepartueSearchDate':  '2019/06/02',\n",
    "'DepartueSearchTime':  '21:00'  \n",
    "}\n",
    "\n",
    "res = requests.post(url, data = payload)\n",
    "res"
   ]
  },
  {
   "cell_type": "code",
   "execution_count": 23,
   "metadata": {},
   "outputs": [],
   "source": [
    "#res.json()['data']"
   ]
  },
  {
   "cell_type": "markdown",
   "metadata": {},
   "source": [
    "## 台灣證交所\n",
    "- http://www.twse.com.tw/zh/page/trading/exchange/MI_INDEX.html"
   ]
  },
  {
   "cell_type": "code",
   "execution_count": null,
   "metadata": {},
   "outputs": [],
   "source": []
  }
 ],
 "metadata": {
  "kernelspec": {
   "display_name": "Python 3",
   "language": "python",
   "name": "python3"
  },
  "language_info": {
   "codemirror_mode": {
    "name": "ipython",
    "version": 3
   },
   "file_extension": ".py",
   "mimetype": "text/x-python",
   "name": "python",
   "nbconvert_exporter": "python",
   "pygments_lexer": "ipython3",
   "version": "3.7.3"
  }
 },
 "nbformat": 4,
 "nbformat_minor": 2
}
