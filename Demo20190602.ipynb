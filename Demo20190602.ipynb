{
 "cells": [
  {
   "cell_type": "markdown",
   "metadata": {},
   "source": [
    "## 結構化資料處理\n",
    "- https://raw.githubusercontent.com/ywchiu/tibamepy/master/data/eps.xlsx"
   ]
  },
  {
   "cell_type": "code",
   "execution_count": 3,
   "metadata": {},
   "outputs": [],
   "source": [
    "import pandas\n",
    "eps = pandas.read_excel('C:/Users/user/Downloads/eps.xlsx', index_col = 0)"
   ]
  },
  {
   "cell_type": "code",
   "execution_count": 4,
   "metadata": {},
   "outputs": [
    {
     "data": {
      "text/html": [
       "<div>\n",
       "<style scoped>\n",
       "    .dataframe tbody tr th:only-of-type {\n",
       "        vertical-align: middle;\n",
       "    }\n",
       "\n",
       "    .dataframe tbody tr th {\n",
       "        vertical-align: top;\n",
       "    }\n",
       "\n",
       "    .dataframe thead th {\n",
       "        text-align: right;\n",
       "    }\n",
       "</style>\n",
       "<table border=\"1\" class=\"dataframe\">\n",
       "  <thead>\n",
       "    <tr style=\"text-align: right;\">\n",
       "      <th></th>\n",
       "      <th>公司代號</th>\n",
       "      <th>公司名稱</th>\n",
       "      <th>產業別</th>\n",
       "      <th>基本每股盈餘(元)</th>\n",
       "      <th>普通股每股面額</th>\n",
       "      <th>營業收入</th>\n",
       "      <th>營業利益</th>\n",
       "      <th>營業外收入及支出</th>\n",
       "      <th>稅後淨利</th>\n",
       "      <th>Year</th>\n",
       "      <th>Season</th>\n",
       "    </tr>\n",
       "  </thead>\n",
       "  <tbody>\n",
       "    <tr>\n",
       "      <th>0</th>\n",
       "      <td>1102</td>\n",
       "      <td>亞洲水泥股份有限公司</td>\n",
       "      <td>水泥工業</td>\n",
       "      <td>0.40</td>\n",
       "      <td>新台幣 10.0000元</td>\n",
       "      <td>13931550</td>\n",
       "      <td>339801</td>\n",
       "      <td>1250044</td>\n",
       "      <td>1371559</td>\n",
       "      <td>102</td>\n",
       "      <td>1</td>\n",
       "    </tr>\n",
       "    <tr>\n",
       "      <th>1</th>\n",
       "      <td>1101</td>\n",
       "      <td>台灣水泥股份有限公司</td>\n",
       "      <td>水泥工業</td>\n",
       "      <td>0.38</td>\n",
       "      <td>新台幣 10.0000元</td>\n",
       "      <td>24114047</td>\n",
       "      <td>2026729</td>\n",
       "      <td>314060</td>\n",
       "      <td>1999624</td>\n",
       "      <td>102</td>\n",
       "      <td>1</td>\n",
       "    </tr>\n",
       "    <tr>\n",
       "      <th>2</th>\n",
       "      <td>1104</td>\n",
       "      <td>環球水泥股份有限公司</td>\n",
       "      <td>水泥工業</td>\n",
       "      <td>0.30</td>\n",
       "      <td>新台幣 10.0000元</td>\n",
       "      <td>1248072</td>\n",
       "      <td>30247</td>\n",
       "      <td>156012</td>\n",
       "      <td>183441</td>\n",
       "      <td>102</td>\n",
       "      <td>1</td>\n",
       "    </tr>\n",
       "    <tr>\n",
       "      <th>3</th>\n",
       "      <td>1108</td>\n",
       "      <td>幸福水泥股份有限公司</td>\n",
       "      <td>水泥工業</td>\n",
       "      <td>0.17</td>\n",
       "      <td>新台幣 10.0000元</td>\n",
       "      <td>1203671</td>\n",
       "      <td>98223</td>\n",
       "      <td>-13612</td>\n",
       "      <td>63869</td>\n",
       "      <td>102</td>\n",
       "      <td>1</td>\n",
       "    </tr>\n",
       "    <tr>\n",
       "      <th>4</th>\n",
       "      <td>1103</td>\n",
       "      <td>嘉新水泥股份有限公司</td>\n",
       "      <td>水泥工業</td>\n",
       "      <td>0.13</td>\n",
       "      <td>新台幣 10.0000元</td>\n",
       "      <td>741189</td>\n",
       "      <td>-149811</td>\n",
       "      <td>183613</td>\n",
       "      <td>59637</td>\n",
       "      <td>102</td>\n",
       "      <td>1</td>\n",
       "    </tr>\n",
       "  </tbody>\n",
       "</table>\n",
       "</div>"
      ],
      "text/plain": [
       "   公司代號        公司名稱   產業別  基本每股盈餘(元)       普通股每股面額      營業收入     營業利益  \\\n",
       "0  1102  亞洲水泥股份有限公司  水泥工業       0.40  新台幣 10.0000元  13931550   339801   \n",
       "1  1101  台灣水泥股份有限公司  水泥工業       0.38  新台幣 10.0000元  24114047  2026729   \n",
       "2  1104  環球水泥股份有限公司  水泥工業       0.30  新台幣 10.0000元   1248072    30247   \n",
       "3  1108  幸福水泥股份有限公司  水泥工業       0.17  新台幣 10.0000元   1203671    98223   \n",
       "4  1103  嘉新水泥股份有限公司  水泥工業       0.13  新台幣 10.0000元    741189  -149811   \n",
       "\n",
       "  營業外收入及支出     稅後淨利  Year  Season  \n",
       "0  1250044  1371559   102       1  \n",
       "1   314060  1999624   102       1  \n",
       "2   156012   183441   102       1  \n",
       "3   -13612    63869   102       1  \n",
       "4   183613    59637   102       1  "
      ]
     },
     "execution_count": 4,
     "metadata": {},
     "output_type": "execute_result"
    }
   ],
   "source": [
    "eps.head()"
   ]
  },
  {
   "cell_type": "code",
   "execution_count": 6,
   "metadata": {},
   "outputs": [
    {
     "data": {
      "text/html": [
       "<div>\n",
       "<style scoped>\n",
       "    .dataframe tbody tr th:only-of-type {\n",
       "        vertical-align: middle;\n",
       "    }\n",
       "\n",
       "    .dataframe tbody tr th {\n",
       "        vertical-align: top;\n",
       "    }\n",
       "\n",
       "    .dataframe thead th {\n",
       "        text-align: right;\n",
       "    }\n",
       "</style>\n",
       "<table border=\"1\" class=\"dataframe\">\n",
       "  <thead>\n",
       "    <tr style=\"text-align: right;\">\n",
       "      <th></th>\n",
       "      <th>Date</th>\n",
       "      <th>Open</th>\n",
       "      <th>High</th>\n",
       "      <th>Low</th>\n",
       "      <th>Close</th>\n",
       "      <th>Adj Close</th>\n",
       "      <th>Volume</th>\n",
       "    </tr>\n",
       "  </thead>\n",
       "  <tbody>\n",
       "    <tr>\n",
       "      <th>0</th>\n",
       "      <td>2013-03-04</td>\n",
       "      <td>7966.220215</td>\n",
       "      <td>7966.220215</td>\n",
       "      <td>7849.520020</td>\n",
       "      <td>7867.339844</td>\n",
       "      <td>7867.339844</td>\n",
       "      <td>2278000.0</td>\n",
       "    </tr>\n",
       "    <tr>\n",
       "      <th>1</th>\n",
       "      <td>2013-03-05</td>\n",
       "      <td>7910.439941</td>\n",
       "      <td>7939.850098</td>\n",
       "      <td>7882.560059</td>\n",
       "      <td>7932.709961</td>\n",
       "      <td>7932.709961</td>\n",
       "      <td>2246200.0</td>\n",
       "    </tr>\n",
       "    <tr>\n",
       "      <th>2</th>\n",
       "      <td>2013-03-06</td>\n",
       "      <td>7958.109863</td>\n",
       "      <td>7982.390137</td>\n",
       "      <td>7936.859863</td>\n",
       "      <td>7950.299805</td>\n",
       "      <td>7950.299805</td>\n",
       "      <td>2329600.0</td>\n",
       "    </tr>\n",
       "    <tr>\n",
       "      <th>3</th>\n",
       "      <td>2013-03-07</td>\n",
       "      <td>7950.899902</td>\n",
       "      <td>7984.290039</td>\n",
       "      <td>7942.370117</td>\n",
       "      <td>7960.509766</td>\n",
       "      <td>7960.509766</td>\n",
       "      <td>2261400.0</td>\n",
       "    </tr>\n",
       "    <tr>\n",
       "      <th>4</th>\n",
       "      <td>2013-03-08</td>\n",
       "      <td>7981.000000</td>\n",
       "      <td>8029.140137</td>\n",
       "      <td>7981.000000</td>\n",
       "      <td>8015.140137</td>\n",
       "      <td>8015.140137</td>\n",
       "      <td>2719000.0</td>\n",
       "    </tr>\n",
       "  </tbody>\n",
       "</table>\n",
       "</div>"
      ],
      "text/plain": [
       "         Date         Open         High          Low        Close  \\\n",
       "0  2013-03-04  7966.220215  7966.220215  7849.520020  7867.339844   \n",
       "1  2013-03-05  7910.439941  7939.850098  7882.560059  7932.709961   \n",
       "2  2013-03-06  7958.109863  7982.390137  7936.859863  7950.299805   \n",
       "3  2013-03-07  7950.899902  7984.290039  7942.370117  7960.509766   \n",
       "4  2013-03-08  7981.000000  8029.140137  7981.000000  8015.140137   \n",
       "\n",
       "     Adj Close     Volume  \n",
       "0  7867.339844  2278000.0  \n",
       "1  7932.709961  2246200.0  \n",
       "2  7950.299805  2329600.0  \n",
       "3  7960.509766  2261400.0  \n",
       "4  8015.140137  2719000.0  "
      ]
     },
     "execution_count": 6,
     "metadata": {},
     "output_type": "execute_result"
    }
   ],
   "source": [
    "import pandas\n",
    "stock = pandas.read_csv('https://raw.githubusercontent.com/ywchiu/tibamepy/master/data/TWII.csv')\n",
    "stock.head()"
   ]
  },
  {
   "cell_type": "markdown",
   "metadata": {},
   "source": [
    "## 半結構化資料處理"
   ]
  },
  {
   "cell_type": "code",
   "execution_count": 7,
   "metadata": {},
   "outputs": [
    {
     "data": {
      "text/html": [
       "<div>\n",
       "<style scoped>\n",
       "    .dataframe tbody tr th:only-of-type {\n",
       "        vertical-align: middle;\n",
       "    }\n",
       "\n",
       "    .dataframe tbody tr th {\n",
       "        vertical-align: top;\n",
       "    }\n",
       "\n",
       "    .dataframe thead th {\n",
       "        text-align: right;\n",
       "    }\n",
       "</style>\n",
       "<table border=\"1\" class=\"dataframe\">\n",
       "  <thead>\n",
       "    <tr style=\"text-align: right;\">\n",
       "      <th></th>\n",
       "      <th>Date</th>\n",
       "      <th>Open</th>\n",
       "      <th>High</th>\n",
       "      <th>Low</th>\n",
       "      <th>Close</th>\n",
       "      <th>Volume</th>\n",
       "      <th>Adj Close</th>\n",
       "    </tr>\n",
       "  </thead>\n",
       "  <tbody>\n",
       "    <tr>\n",
       "      <th>0</th>\n",
       "      <td>2016-07-21</td>\n",
       "      <td>171.0</td>\n",
       "      <td>172.0</td>\n",
       "      <td>170.0</td>\n",
       "      <td>172.0</td>\n",
       "      <td>33130000</td>\n",
       "      <td>172.0</td>\n",
       "    </tr>\n",
       "    <tr>\n",
       "      <th>1</th>\n",
       "      <td>2016-07-20</td>\n",
       "      <td>170.0</td>\n",
       "      <td>170.5</td>\n",
       "      <td>169.0</td>\n",
       "      <td>170.0</td>\n",
       "      <td>38053000</td>\n",
       "      <td>170.0</td>\n",
       "    </tr>\n",
       "    <tr>\n",
       "      <th>2</th>\n",
       "      <td>2016-07-19</td>\n",
       "      <td>170.5</td>\n",
       "      <td>170.5</td>\n",
       "      <td>169.0</td>\n",
       "      <td>170.5</td>\n",
       "      <td>42456000</td>\n",
       "      <td>170.5</td>\n",
       "    </tr>\n",
       "    <tr>\n",
       "      <th>3</th>\n",
       "      <td>2016-07-18</td>\n",
       "      <td>168.0</td>\n",
       "      <td>170.0</td>\n",
       "      <td>168.0</td>\n",
       "      <td>169.5</td>\n",
       "      <td>24749000</td>\n",
       "      <td>169.5</td>\n",
       "    </tr>\n",
       "    <tr>\n",
       "      <th>4</th>\n",
       "      <td>2016-07-15</td>\n",
       "      <td>169.5</td>\n",
       "      <td>169.5</td>\n",
       "      <td>169.5</td>\n",
       "      <td>169.5</td>\n",
       "      <td>41000</td>\n",
       "      <td>169.5</td>\n",
       "    </tr>\n",
       "  </tbody>\n",
       "</table>\n",
       "</div>"
      ],
      "text/plain": [
       "        Date   Open   High    Low  Close    Volume  Adj Close\n",
       "0 2016-07-21  171.0  172.0  170.0  172.0  33130000      172.0\n",
       "1 2016-07-20  170.0  170.5  169.0  170.0  38053000      170.0\n",
       "2 2016-07-19  170.5  170.5  169.0  170.5  42456000      170.5\n",
       "3 2016-07-18  168.0  170.0  168.0  169.5  24749000      169.5\n",
       "4 2016-07-15  169.5  169.5  169.5  169.5     41000      169.5"
      ]
     },
     "execution_count": 7,
     "metadata": {},
     "output_type": "execute_result"
    }
   ],
   "source": [
    "import pandas\n",
    "tw2330 = pandas.read_json('https://raw.githubusercontent.com/ywchiu/tibamepy/master/data/2330.json')\n",
    "tw2330"
   ]
  },
  {
   "cell_type": "code",
   "execution_count": 12,
   "metadata": {},
   "outputs": [],
   "source": [
    "from xml.dom import minidom\n",
    "from xml.etree import ElementTree\n",
    "\n",
    "f = open('C:/Users/user/Downloads/1435449602.xml', 'r', encoding='utf-8')\n",
    "events=ElementTree.fromstring(f.read())\n",
    "f.close()"
   ]
  },
  {
   "cell_type": "code",
   "execution_count": 13,
   "metadata": {},
   "outputs": [
    {
     "name": "stdout",
     "output_type": "stream",
     "text": [
      "八仙塵爆  五相關人依公共危險重傷害法辦\n"
     ]
    }
   ],
   "source": [
    "for elem in events.findall('./channel/item'):\n",
    "    guid        = elem.find('guid').text\n",
    "    title       = elem.find('title').text\n",
    "    description = elem.find('description').text\n",
    "    pubDate     = elem.find('pubDate').text\n",
    "    source      = elem.find('source').text\n",
    "    print(title)\n",
    "    break\n",
    "    "
   ]
  },
  {
   "cell_type": "markdown",
   "metadata": {},
   "source": [
    "## PDF 處理\n",
    "- https://github.com/ywchiu/cdc_course/blob/master/PDF%20Decrypt.ipynb"
   ]
  },
  {
   "cell_type": "markdown",
   "metadata": {},
   "source": [
    "## GET"
   ]
  },
  {
   "cell_type": "code",
   "execution_count": 14,
   "metadata": {},
   "outputs": [
    {
     "data": {
      "text/plain": [
       "<Response [200]>"
      ]
     },
     "execution_count": 14,
     "metadata": {},
     "output_type": "execute_result"
    }
   ],
   "source": [
    "import requests\n",
    "res = requests.get('https://tw.appledaily.com/new/realtime')\n",
    "res"
   ]
  },
  {
   "cell_type": "code",
   "execution_count": 16,
   "metadata": {},
   "outputs": [],
   "source": [
    "#res.text"
   ]
  },
  {
   "cell_type": "code",
   "execution_count": 17,
   "metadata": {},
   "outputs": [
    {
     "data": {
      "text/plain": [
       "requests.models.Response"
      ]
     },
     "execution_count": 17,
     "metadata": {},
     "output_type": "execute_result"
    }
   ],
   "source": [
    "type(res)"
   ]
  },
  {
   "cell_type": "code",
   "execution_count": 18,
   "metadata": {},
   "outputs": [
    {
     "name": "stdout",
     "output_type": "stream",
     "text": [
      "['__attrs__', '__bool__', '__class__', '__delattr__', '__dict__', '__dir__', '__doc__', '__enter__', '__eq__', '__exit__', '__format__', '__ge__', '__getattribute__', '__getstate__', '__gt__', '__hash__', '__init__', '__init_subclass__', '__iter__', '__le__', '__lt__', '__module__', '__ne__', '__new__', '__nonzero__', '__reduce__', '__reduce_ex__', '__repr__', '__setattr__', '__setstate__', '__sizeof__', '__str__', '__subclasshook__', '__weakref__', '_content', '_content_consumed', '_next', 'apparent_encoding', 'close', 'connection', 'content', 'cookies', 'elapsed', 'encoding', 'headers', 'history', 'is_permanent_redirect', 'is_redirect', 'iter_content', 'iter_lines', 'json', 'links', 'next', 'ok', 'raise_for_status', 'raw', 'reason', 'request', 'status_code', 'text', 'url']\n"
     ]
    }
   ],
   "source": [
    "print(dir(res))"
   ]
  },
  {
   "cell_type": "markdown",
   "metadata": {},
   "source": [
    "## HTTP Status\n",
    "- https://zh.wikipedia.org/wiki/HTTP%E7%8A%B6%E6%80%81%E7%A0%81"
   ]
  },
  {
   "cell_type": "markdown",
   "metadata": {},
   "source": [
    "## POST"
   ]
  },
  {
   "cell_type": "code",
   "execution_count": 19,
   "metadata": {},
   "outputs": [
    {
     "data": {
      "text/plain": [
       "<Response [200]>"
      ]
     },
     "execution_count": 19,
     "metadata": {},
     "output_type": "execute_result"
    }
   ],
   "source": [
    "import requests\n",
    "url = 'http://www.thsrc.com.tw/tw/TimeTable/Search'\n",
    "\n",
    "payload = {\n",
    "'StartStationName'  :  '台北站',\n",
    "'EndStationName'    :  '新竹站',\n",
    "'SearchType'        :  'S',\n",
    "'StartStation'      :  '977abb69-413a-4ccf-a109-0272c24fd490',\n",
    "'EndStation'        :  'a7a04c89-900b-4798-95a3-c01c455622f4',\n",
    "'DepartueSearchDate':  '2019/06/02',\n",
    "'DepartueSearchTime':  '21:00'  \n",
    "}\n",
    "\n",
    "res = requests.post(url, data = payload)\n",
    "res"
   ]
  },
  {
   "cell_type": "code",
   "execution_count": 23,
   "metadata": {},
   "outputs": [],
   "source": [
    "#res.json()['data']"
   ]
  },
  {
   "cell_type": "markdown",
   "metadata": {},
   "source": [
    "## 台灣證交所\n",
    "- http://www.twse.com.tw/zh/page/trading/exchange/MI_INDEX.html"
   ]
  },
  {
   "cell_type": "code",
   "execution_count": 24,
   "metadata": {},
   "outputs": [
    {
     "data": {
      "text/plain": [
       "<Response [200]>"
      ]
     },
     "execution_count": 24,
     "metadata": {},
     "output_type": "execute_result"
    }
   ],
   "source": [
    "import requests\n",
    "res = requests.get('http://www.twse.com.tw/exchangeReport/MI_INDEX?response=json&date=&type=&_=1559447273004')\n",
    "res"
   ]
  },
  {
   "cell_type": "code",
   "execution_count": 27,
   "metadata": {},
   "outputs": [],
   "source": [
    "#res.json()"
   ]
  },
  {
   "cell_type": "code",
   "execution_count": 29,
   "metadata": {},
   "outputs": [
    {
     "data": {
      "text/plain": [
       "[['寶島股價報酬指數', '14,435.06', \"<p style ='color:red'>+</p>\", '161.08', '1.13'],\n",
       " ['發行量加權股價報酬指數', '18,730.94', \"<p style ='color:red'>+</p>\", '206.16', '1.11'],\n",
       " ['臺灣公司治理100報酬指數', '7,021.47', \"<p style ='color:red'>+</p>\", '86.88', '1.25'],\n",
       " ['臺灣50報酬指數', '14,138.53', \"<p style ='color:red'>+</p>\", '195.03', '1.40'],\n",
       " ['臺灣中型100報酬指數', '12,740.81', \"<p style ='color:red'>+</p>\", '140.56', '1.12'],\n",
       " ['臺灣資訊科技報酬指數', '17,008.37', \"<p style ='color:red'>+</p>\", '338.22', '2.03'],\n",
       " ['臺灣發達報酬指數', '13,314.88', \"<p style ='color:red'>+</p>\", '111.46', '0.84'],\n",
       " ['臺灣高股息報酬指數', '12,715.32', \"<p style ='color:red'>+</p>\", '195.09', '1.56'],\n",
       " ['臺灣永續報酬指數', '5,501.20', \"<p style ='color:red'>+</p>\", '67.38', '1.24'],\n",
       " ['臺灣就業99報酬指數', '8,154.94', \"<p style ='color:red'>+</p>\", '99.31', '1.23'],\n",
       " ['臺灣高薪100報酬指數', '7,049.32', \"<p style ='color:red'>+</p>\", '79.65', '1.14'],\n",
       " ['未含金融電子報酬指數', '23,161.92', \"<p style ='color:red'>+</p>\", '109.66', '0.48'],\n",
       " ['小型股300報酬指數', '7,105.35', \"<p style ='color:red'>+</p>\", '40.54', '0.57'],\n",
       " ['漲升股利150報酬指數', '6,766.18', \"<p style ='color:red'>+</p>\", '75.95', '1.14'],\n",
       " ['漲升股利100報酬指數', '6,801.33', \"<p style ='color:red'>+</p>\", '75.39', '1.12'],\n",
       " ['藍籌30報酬指數', '6,080.48', \"<p style ='color:red'>+</p>\", '86.08', '1.44'],\n",
       " ['工業菁英30報酬指數', '6,411.00', \"<p style ='color:red'>+</p>\", '110.00', '1.75'],\n",
       " ['電子菁英30報酬指數', '5,914.58', \"<p style ='color:red'>+</p>\", '94.08', '1.62'],\n",
       " ['低波動股利精選30報酬指數', '6,573.43', \"<p style ='color:red'>+</p>\", '52.49', '0.80'],\n",
       " ['低貝塔100報酬指數', '6,461.71', \"<p style ='color:red'>+</p>\", '35.03', '0.55'],\n",
       " ['中小型精選50報酬指數', '6,182.47', \"<p style ='color:red'>+</p>\", '51.88', '0.85'],\n",
       " ['中小型A級動能50報酬指數', '6,139.68', \"<p style ='color:red'>+</p>\", '35.78', '0.59'],\n",
       " ['特選高息低波報酬指數', '5,653.50', \"<p style ='color:red'>+</p>\", '44.76', '0.80'],\n",
       " ['臺灣生技報酬指數', '4,981.05', \"<p style ='color:green'>-</p>\", '3.80', '-0.08'],\n",
       " ['特選內需高收益報酬指數', '6,115.63', \"<p style ='color:red'>+</p>\", '21.78', '0.36'],\n",
       " ['臺灣中小型公司治理報酬指數', '5,628.10', \"<p style ='color:red'>+</p>\", '42.17', '0.75'],\n",
       " ['臺灣IPO報酬指數', '5,257.47', \"<p style ='color:green'>-</p>\", '18.91', '-0.36'],\n",
       " ['價值投資報酬指數', '5,850.34', \"<p style ='color:red'>+</p>\", '44.92', '0.77'],\n",
       " ['存股雙十等權重報酬指數', '5,061.01', \"<p style ='color:red'>+</p>\", '60.99', '1.22'],\n",
       " ['特選大蘋果報酬指數', '4,908.80', \"<p style ='color:red'>+</p>\", '85.43', '1.77'],\n",
       " ['中小型300報酬指數', '5,479.01', \"<p style ='color:red'>+</p>\", '47.04', '0.87'],\n",
       " ['特股高息20報酬指數', '5,220.03', \"<p style ='color:red'>+</p>\", '18.19', '0.35'],\n",
       " ['臺灣500報酬指數', '5,383.15', \"<p style ='color:red'>+</p>\", '61.62', '1.16'],\n",
       " ['臺灣勞工權益報酬指數', '5,074.73', \"<p style ='color:red'>+</p>\", '52.99', '1.06'],\n",
       " ['水泥類報酬指數', '250.24', \"<p style ='color:red'>+</p>\", '0.54', '0.22'],\n",
       " ['食品類報酬指數', '2,530.50', \"<p style ='color:red'>+</p>\", '20.04', '0.80'],\n",
       " ['塑膠類報酬指數', '435.66', \"<p style ='color:red'>+</p>\", '2.48', '0.57'],\n",
       " ['紡織纖維類報酬指數', '821.50', \"<p style ='color:red'>+</p>\", '5.26', '0.64'],\n",
       " ['電機機械類報酬指數', '228.31', \"<p style ='color:red'>+</p>\", '2.58', '1.14'],\n",
       " ['電器電纜類報酬指數', '61.05', \"<p style ='color:red'>+</p>\", '0.67', '1.11'],\n",
       " ['化學生技醫療類報酬指數', '139.32', \"<p style ='color:red'>+</p>\", '0.37', '0.27'],\n",
       " ['化學類報酬指數', '158.59', \"<p style ='color:red'>+</p>\", '0.95', '0.60'],\n",
       " ['生技醫療類報酬指數', '81.01', \"<p style ='color:green'>-</p>\", '0.12', '-0.15'],\n",
       " ['玻璃陶瓷類報酬指數', '37.45', \"<p style ='color:green'>-</p>\", '0.02', '-0.05'],\n",
       " ['造紙類報酬指數', '250.43', \"<p style ='color:green'>-</p>\", '1.29', '-0.51'],\n",
       " ['鋼鐵類報酬指數', '152.00', \"<p style ='color:red'>+</p>\", '1.03', '0.68'],\n",
       " ['橡膠類報酬指數', '357.07', \"<p style ='color:red'>+</p>\", '0.87', '0.24'],\n",
       " ['汽車類報酬指數', '424.84', \"<p style ='color:red'>+</p>\", '0.59', '0.14'],\n",
       " ['電子工業類報酬指數', '673.80', \"<p style ='color:red'>+</p>\", '10.55', '1.59'],\n",
       " ['半導體類報酬指數', '250.10', \"<p style ='color:red'>+</p>\", '5.17', '2.11'],\n",
       " ['電腦及週邊設備類報酬指數', '160.85', \"<p style ='color:red'>+</p>\", '1.37', '0.86'],\n",
       " ['光電類報酬指數', '45.68', \"<p style ='color:red'>+</p>\", '1.35', '3.05'],\n",
       " ['通信網路類報酬指數', '231.42', \"<p style ='color:red'>+</p>\", '0.68', '0.29'],\n",
       " ['電子零組件類報酬指數', '148.65', \"<p style ='color:red'>+</p>\", '1.79', '1.22'],\n",
       " ['電子通路類報酬指數', '213.97', \"<p style ='color:red'>+</p>\", '2.20', '1.04'],\n",
       " ['資訊服務類報酬指數', '204.30', \"<p style ='color:red'>+</p>\", '1.76', '0.87'],\n",
       " ['其他電子類報酬指數', '98.48', \"<p style ='color:red'>+</p>\", '0.62', '0.63'],\n",
       " ['建材營造類報酬指數', '481.40', \"<p style ='color:red'>+</p>\", '2.67', '0.56'],\n",
       " ['航運類報酬指數', '89.86', \"<p style ='color:red'>+</p>\", '0.68', '0.76'],\n",
       " ['觀光類報酬指數', '127.06', \"<p style ='color:red'>+</p>\", '0.50', '0.40'],\n",
       " ['金融保險類報酬指數', '1,887.59', \"<p style ='color:red'>+</p>\", '17.32', '0.93'],\n",
       " ['貿易百貨類報酬指數', '330.60', \"<p style ='color:green'>-</p>\", '1.20', '-0.36'],\n",
       " ['油電燃氣類報酬指數', '205.13', \"<p style ='color:red'>+</p>\", '1.75', '0.86'],\n",
       " ['其他類報酬指數', '404.20', \"<p style ='color:green'>-</p>\", '0.70', '-0.17']]"
      ]
     },
     "execution_count": 29,
     "metadata": {},
     "output_type": "execute_result"
    }
   ],
   "source": [
    "jd = res.json()\n",
    "jd['data2']"
   ]
  },
  {
   "cell_type": "code",
   "execution_count": 30,
   "metadata": {},
   "outputs": [],
   "source": [
    "import pandas\n",
    "df = pandas.DataFrame(jd['data2'])"
   ]
  },
  {
   "cell_type": "code",
   "execution_count": 32,
   "metadata": {},
   "outputs": [
    {
     "data": {
      "text/html": [
       "<div>\n",
       "<style scoped>\n",
       "    .dataframe tbody tr th:only-of-type {\n",
       "        vertical-align: middle;\n",
       "    }\n",
       "\n",
       "    .dataframe tbody tr th {\n",
       "        vertical-align: top;\n",
       "    }\n",
       "\n",
       "    .dataframe thead th {\n",
       "        text-align: right;\n",
       "    }\n",
       "</style>\n",
       "<table border=\"1\" class=\"dataframe\">\n",
       "  <thead>\n",
       "    <tr style=\"text-align: right;\">\n",
       "      <th></th>\n",
       "      <th>0</th>\n",
       "      <th>1</th>\n",
       "      <th>2</th>\n",
       "      <th>3</th>\n",
       "      <th>4</th>\n",
       "    </tr>\n",
       "  </thead>\n",
       "  <tbody>\n",
       "    <tr>\n",
       "      <th>0</th>\n",
       "      <td>寶島股價報酬指數</td>\n",
       "      <td>14,435.06</td>\n",
       "      <td>&lt;p style ='color:red'&gt;+&lt;/p&gt;</td>\n",
       "      <td>161.08</td>\n",
       "      <td>1.13</td>\n",
       "    </tr>\n",
       "    <tr>\n",
       "      <th>1</th>\n",
       "      <td>發行量加權股價報酬指數</td>\n",
       "      <td>18,730.94</td>\n",
       "      <td>&lt;p style ='color:red'&gt;+&lt;/p&gt;</td>\n",
       "      <td>206.16</td>\n",
       "      <td>1.11</td>\n",
       "    </tr>\n",
       "    <tr>\n",
       "      <th>2</th>\n",
       "      <td>臺灣公司治理100報酬指數</td>\n",
       "      <td>7,021.47</td>\n",
       "      <td>&lt;p style ='color:red'&gt;+&lt;/p&gt;</td>\n",
       "      <td>86.88</td>\n",
       "      <td>1.25</td>\n",
       "    </tr>\n",
       "    <tr>\n",
       "      <th>3</th>\n",
       "      <td>臺灣50報酬指數</td>\n",
       "      <td>14,138.53</td>\n",
       "      <td>&lt;p style ='color:red'&gt;+&lt;/p&gt;</td>\n",
       "      <td>195.03</td>\n",
       "      <td>1.40</td>\n",
       "    </tr>\n",
       "    <tr>\n",
       "      <th>4</th>\n",
       "      <td>臺灣中型100報酬指數</td>\n",
       "      <td>12,740.81</td>\n",
       "      <td>&lt;p style ='color:red'&gt;+&lt;/p&gt;</td>\n",
       "      <td>140.56</td>\n",
       "      <td>1.12</td>\n",
       "    </tr>\n",
       "  </tbody>\n",
       "</table>\n",
       "</div>"
      ],
      "text/plain": [
       "               0          1                            2       3     4\n",
       "0       寶島股價報酬指數  14,435.06  <p style ='color:red'>+</p>  161.08  1.13\n",
       "1    發行量加權股價報酬指數  18,730.94  <p style ='color:red'>+</p>  206.16  1.11\n",
       "2  臺灣公司治理100報酬指數   7,021.47  <p style ='color:red'>+</p>   86.88  1.25\n",
       "3       臺灣50報酬指數  14,138.53  <p style ='color:red'>+</p>  195.03  1.40\n",
       "4    臺灣中型100報酬指數  12,740.81  <p style ='color:red'>+</p>  140.56  1.12"
      ]
     },
     "execution_count": 32,
     "metadata": {},
     "output_type": "execute_result"
    }
   ],
   "source": [
    "df.head()"
   ]
  },
  {
   "cell_type": "code",
   "execution_count": null,
   "metadata": {},
   "outputs": [],
   "source": [
    "import time\n",
    "for i in range(1,10):\n",
    "    res = requests.get('http://www.twse.com.tw/exchangeReport/MI_INDEX?response=json&date=20190530&type=MS&_=1559447273009')\n",
    "    time.sleep(3)  "
   ]
  },
  {
   "cell_type": "code",
   "execution_count": 37,
   "metadata": {},
   "outputs": [
    {
     "data": {
      "text/plain": [
       "'I know Mary very well'"
      ]
     },
     "execution_count": 37,
     "metadata": {},
     "output_type": "execute_result"
    }
   ],
   "source": [
    "s = 'I know {} very well'\n",
    "s.format('Mary')"
   ]
  },
  {
   "cell_type": "code",
   "execution_count": 39,
   "metadata": {},
   "outputs": [
    {
     "name": "stdout",
     "output_type": "stream",
     "text": [
      "20190601\n",
      "20190531\n",
      "20190530\n",
      "20190529\n",
      "20190528\n",
      "20190527\n",
      "20190526\n",
      "20190525\n",
      "20190524\n"
     ]
    }
   ],
   "source": [
    "import time\n",
    "from datetime import datetime, timedelta\n",
    "current_time = datetime.now()\n",
    "dataary = []\n",
    "for i in range(1,10):\n",
    "    dt = (current_time - timedelta(days = i)).strftime('%Y%m%d')\n",
    "    print(dt)\n",
    "    res = requests.get('http://www.twse.com.tw/exchangeReport/MI_INDEX?response=json&date={}&type=MS&_=1559447273009'.format(dt))\n",
    "    df = pandas.DataFrame(jd['data2'])\n",
    "    df['date'] = dt\n",
    "    dataary.append(df)\n",
    "    time.sleep(3)\n"
   ]
  },
  {
   "cell_type": "code",
   "execution_count": 41,
   "metadata": {
    "scrolled": true
   },
   "outputs": [
    {
     "data": {
      "text/html": [
       "<div>\n",
       "<style scoped>\n",
       "    .dataframe tbody tr th:only-of-type {\n",
       "        vertical-align: middle;\n",
       "    }\n",
       "\n",
       "    .dataframe tbody tr th {\n",
       "        vertical-align: top;\n",
       "    }\n",
       "\n",
       "    .dataframe thead th {\n",
       "        text-align: right;\n",
       "    }\n",
       "</style>\n",
       "<table border=\"1\" class=\"dataframe\">\n",
       "  <thead>\n",
       "    <tr style=\"text-align: right;\">\n",
       "      <th></th>\n",
       "      <th>0</th>\n",
       "      <th>1</th>\n",
       "      <th>2</th>\n",
       "      <th>3</th>\n",
       "      <th>4</th>\n",
       "      <th>date</th>\n",
       "    </tr>\n",
       "  </thead>\n",
       "  <tbody>\n",
       "    <tr>\n",
       "      <th>0</th>\n",
       "      <td>寶島股價報酬指數</td>\n",
       "      <td>14,435.06</td>\n",
       "      <td>&lt;p style ='color:red'&gt;+&lt;/p&gt;</td>\n",
       "      <td>161.08</td>\n",
       "      <td>1.13</td>\n",
       "      <td>20190601</td>\n",
       "    </tr>\n",
       "    <tr>\n",
       "      <th>1</th>\n",
       "      <td>發行量加權股價報酬指數</td>\n",
       "      <td>18,730.94</td>\n",
       "      <td>&lt;p style ='color:red'&gt;+&lt;/p&gt;</td>\n",
       "      <td>206.16</td>\n",
       "      <td>1.11</td>\n",
       "      <td>20190601</td>\n",
       "    </tr>\n",
       "    <tr>\n",
       "      <th>2</th>\n",
       "      <td>臺灣公司治理100報酬指數</td>\n",
       "      <td>7,021.47</td>\n",
       "      <td>&lt;p style ='color:red'&gt;+&lt;/p&gt;</td>\n",
       "      <td>86.88</td>\n",
       "      <td>1.25</td>\n",
       "      <td>20190601</td>\n",
       "    </tr>\n",
       "    <tr>\n",
       "      <th>3</th>\n",
       "      <td>臺灣50報酬指數</td>\n",
       "      <td>14,138.53</td>\n",
       "      <td>&lt;p style ='color:red'&gt;+&lt;/p&gt;</td>\n",
       "      <td>195.03</td>\n",
       "      <td>1.40</td>\n",
       "      <td>20190601</td>\n",
       "    </tr>\n",
       "    <tr>\n",
       "      <th>4</th>\n",
       "      <td>臺灣中型100報酬指數</td>\n",
       "      <td>12,740.81</td>\n",
       "      <td>&lt;p style ='color:red'&gt;+&lt;/p&gt;</td>\n",
       "      <td>140.56</td>\n",
       "      <td>1.12</td>\n",
       "      <td>20190601</td>\n",
       "    </tr>\n",
       "  </tbody>\n",
       "</table>\n",
       "</div>"
      ],
      "text/plain": [
       "               0          1                            2       3     4  \\\n",
       "0       寶島股價報酬指數  14,435.06  <p style ='color:red'>+</p>  161.08  1.13   \n",
       "1    發行量加權股價報酬指數  18,730.94  <p style ='color:red'>+</p>  206.16  1.11   \n",
       "2  臺灣公司治理100報酬指數   7,021.47  <p style ='color:red'>+</p>   86.88  1.25   \n",
       "3       臺灣50報酬指數  14,138.53  <p style ='color:red'>+</p>  195.03  1.40   \n",
       "4    臺灣中型100報酬指數  12,740.81  <p style ='color:red'>+</p>  140.56  1.12   \n",
       "\n",
       "       date  \n",
       "0  20190601  \n",
       "1  20190601  \n",
       "2  20190601  \n",
       "3  20190601  \n",
       "4  20190601  "
      ]
     },
     "execution_count": 41,
     "metadata": {},
     "output_type": "execute_result"
    }
   ],
   "source": [
    "dfall = pandas.concat(dataary)\n",
    "dfall.head()"
   ]
  },
  {
   "cell_type": "markdown",
   "metadata": {},
   "source": [
    "## 資料剖析"
   ]
  },
  {
   "cell_type": "code",
   "execution_count": 43,
   "metadata": {},
   "outputs": [],
   "source": [
    "import requests\n",
    "res = requests.get('https://tw.appledaily.com/new/realtime')\n",
    "#res.text"
   ]
  },
  {
   "cell_type": "code",
   "execution_count": 44,
   "metadata": {},
   "outputs": [],
   "source": [
    "from bs4 import BeautifulSoup\n",
    "html_sample = '''\n",
    "<html>\n",
    "<body>\n",
    "<h1 id=\"title\">Hello World</h1>\n",
    "<a href=\"#\" class=\"link\">This is link1</a>\n",
    "<a href=\"# link2\" class=\"link\">This is link2</a>\n",
    "</body>\n",
    "</html>'''\n",
    "\n",
    "\n",
    "soup = BeautifulSoup(html_sample, 'lxml')"
   ]
  },
  {
   "cell_type": "code",
   "execution_count": 46,
   "metadata": {},
   "outputs": [
    {
     "data": {
      "text/plain": [
       "bs4.BeautifulSoup"
      ]
     },
     "execution_count": 46,
     "metadata": {},
     "output_type": "execute_result"
    }
   ],
   "source": [
    "type(soup)"
   ]
  },
  {
   "cell_type": "code",
   "execution_count": 49,
   "metadata": {},
   "outputs": [
    {
     "name": "stdout",
     "output_type": "stream",
     "text": [
      "\n",
      "\n",
      "Hello World\n",
      "This is link1\n",
      "This is link2\n",
      "\n",
      "\n"
     ]
    }
   ],
   "source": [
    "print(soup.text)"
   ]
  },
  {
   "cell_type": "code",
   "execution_count": 51,
   "metadata": {},
   "outputs": [
    {
     "data": {
      "text/plain": [
       "<h1 id=\"title\">Hello World</h1>"
      ]
     },
     "execution_count": 51,
     "metadata": {},
     "output_type": "execute_result"
    }
   ],
   "source": [
    "soup.select_one('h1')"
   ]
  },
  {
   "cell_type": "code",
   "execution_count": 53,
   "metadata": {},
   "outputs": [
    {
     "data": {
      "text/plain": [
       "bs4.element.Tag"
      ]
     },
     "execution_count": 53,
     "metadata": {},
     "output_type": "execute_result"
    }
   ],
   "source": [
    "type(soup.select_one('h1'))"
   ]
  },
  {
   "cell_type": "code",
   "execution_count": 55,
   "metadata": {},
   "outputs": [
    {
     "data": {
      "text/plain": [
       "'Hello World'"
      ]
     },
     "execution_count": 55,
     "metadata": {},
     "output_type": "execute_result"
    }
   ],
   "source": [
    "soup.select_one('h1').text"
   ]
  },
  {
   "cell_type": "code",
   "execution_count": 56,
   "metadata": {},
   "outputs": [
    {
     "data": {
      "text/plain": [
       "<a class=\"link\" href=\"#\">This is link1</a>"
      ]
     },
     "execution_count": 56,
     "metadata": {},
     "output_type": "execute_result"
    }
   ],
   "source": [
    "soup.select_one('a')"
   ]
  },
  {
   "cell_type": "code",
   "execution_count": 58,
   "metadata": {},
   "outputs": [
    {
     "data": {
      "text/plain": [
       "bs4.element.Tag"
      ]
     },
     "execution_count": 58,
     "metadata": {},
     "output_type": "execute_result"
    }
   ],
   "source": [
    "type(soup.select_one('a'))"
   ]
  },
  {
   "cell_type": "code",
   "execution_count": 57,
   "metadata": {},
   "outputs": [
    {
     "data": {
      "text/plain": [
       "[<a class=\"link\" href=\"#\">This is link1</a>,\n",
       " <a class=\"link\" href=\"# link2\">This is link2</a>]"
      ]
     },
     "execution_count": 57,
     "metadata": {},
     "output_type": "execute_result"
    }
   ],
   "source": [
    "soup.select('a')"
   ]
  },
  {
   "cell_type": "code",
   "execution_count": 60,
   "metadata": {},
   "outputs": [
    {
     "data": {
      "text/plain": [
       "list"
      ]
     },
     "execution_count": 60,
     "metadata": {},
     "output_type": "execute_result"
    }
   ],
   "source": [
    "type(soup.select('a'))"
   ]
  },
  {
   "cell_type": "code",
   "execution_count": 62,
   "metadata": {},
   "outputs": [
    {
     "data": {
      "text/plain": [
       "bs4.element.Tag"
      ]
     },
     "execution_count": 62,
     "metadata": {},
     "output_type": "execute_result"
    }
   ],
   "source": [
    "type(soup.select('a')[0])"
   ]
  },
  {
   "cell_type": "code",
   "execution_count": 63,
   "metadata": {},
   "outputs": [
    {
     "data": {
      "text/plain": [
       "<a class=\"link\" href=\"# link2\">This is link2</a>"
      ]
     },
     "execution_count": 63,
     "metadata": {},
     "output_type": "execute_result"
    }
   ],
   "source": [
    "soup.select('a')[1]"
   ]
  },
  {
   "cell_type": "code",
   "execution_count": 65,
   "metadata": {},
   "outputs": [
    {
     "data": {
      "text/plain": [
       "'This is link2'"
      ]
     },
     "execution_count": 65,
     "metadata": {},
     "output_type": "execute_result"
    }
   ],
   "source": [
    "soup.select('a')[1].text"
   ]
  },
  {
   "cell_type": "code",
   "execution_count": 66,
   "metadata": {},
   "outputs": [
    {
     "data": {
      "text/plain": [
       "[<h1 id=\"title\">Hello World</h1>]"
      ]
     },
     "execution_count": 66,
     "metadata": {},
     "output_type": "execute_result"
    }
   ],
   "source": [
    "soup.select('h1')"
   ]
  },
  {
   "cell_type": "markdown",
   "metadata": {},
   "source": [
    "## By CSS"
   ]
  },
  {
   "cell_type": "code",
   "execution_count": 68,
   "metadata": {},
   "outputs": [
    {
     "data": {
      "text/plain": [
       "[<h1 id=\"title\">Hello World</h1>]"
      ]
     },
     "execution_count": 68,
     "metadata": {},
     "output_type": "execute_result"
    }
   ],
   "source": [
    "# id => #\n",
    "soup.select('#title')"
   ]
  },
  {
   "cell_type": "code",
   "execution_count": 70,
   "metadata": {},
   "outputs": [
    {
     "data": {
      "text/plain": [
       "[<a class=\"link\" href=\"#\">This is link1</a>,\n",
       " <a class=\"link\" href=\"# link2\">This is link2</a>]"
      ]
     },
     "execution_count": 70,
     "metadata": {},
     "output_type": "execute_result"
    }
   ],
   "source": [
    "# class => .\n",
    "soup.select('.link')"
   ]
  },
  {
   "cell_type": "code",
   "execution_count": 72,
   "metadata": {},
   "outputs": [
    {
     "data": {
      "text/plain": [
       "[<h1 id=\"title\">Hello World</h1>]"
      ]
     },
     "execution_count": 72,
     "metadata": {},
     "output_type": "execute_result"
    }
   ],
   "source": [
    "soup.select('h1#title')"
   ]
  },
  {
   "cell_type": "code",
   "execution_count": 73,
   "metadata": {},
   "outputs": [
    {
     "data": {
      "text/plain": [
       "[<a class=\"link\" href=\"#\">This is link1</a>,\n",
       " <a class=\"link\" href=\"# link2\">This is link2</a>]"
      ]
     },
     "execution_count": 73,
     "metadata": {},
     "output_type": "execute_result"
    }
   ],
   "source": [
    "soup.select('a.link')"
   ]
  },
  {
   "cell_type": "code",
   "execution_count": 74,
   "metadata": {},
   "outputs": [
    {
     "data": {
      "text/plain": [
       "[<h1 id=\"title\">Hello World</h1>]"
      ]
     },
     "execution_count": 74,
     "metadata": {},
     "output_type": "execute_result"
    }
   ],
   "source": [
    "soup.select('body h1#title')"
   ]
  },
  {
   "cell_type": "code",
   "execution_count": 75,
   "metadata": {},
   "outputs": [
    {
     "data": {
      "text/plain": [
       "[<h1 id=\"title\">Hello World</h1>]"
      ]
     },
     "execution_count": 75,
     "metadata": {},
     "output_type": "execute_result"
    }
   ],
   "source": [
    "soup.select('body #title')"
   ]
  },
  {
   "cell_type": "code",
   "execution_count": 76,
   "metadata": {},
   "outputs": [
    {
     "data": {
      "text/plain": [
       "[<h1 id=\"title\">Hello World</h1>]"
      ]
     },
     "execution_count": 76,
     "metadata": {},
     "output_type": "execute_result"
    }
   ],
   "source": [
    "soup.select('body h1')"
   ]
  },
  {
   "cell_type": "code",
   "execution_count": 77,
   "metadata": {},
   "outputs": [
    {
     "data": {
      "text/plain": [
       "[<a class=\"link\" href=\"#\">This is link1</a>,\n",
       " <a class=\"link\" href=\"# link2\">This is link2</a>]"
      ]
     },
     "execution_count": 77,
     "metadata": {},
     "output_type": "execute_result"
    }
   ],
   "source": [
    "soup.select('body a')"
   ]
  },
  {
   "cell_type": "code",
   "execution_count": 79,
   "metadata": {},
   "outputs": [
    {
     "data": {
      "text/plain": [
       "[<a class=\"link\" href=\"#\">This is link1</a>,\n",
       " <a class=\"link\" href=\"# link2\">This is link2</a>]"
      ]
     },
     "execution_count": 79,
     "metadata": {},
     "output_type": "execute_result"
    }
   ],
   "source": [
    "soup.select('body a.link')"
   ]
  },
  {
   "cell_type": "code",
   "execution_count": 80,
   "metadata": {},
   "outputs": [
    {
     "data": {
      "text/plain": [
       "[<a class=\"link\" href=\"#\">This is link1</a>,\n",
       " <a class=\"link\" href=\"# link2\">This is link2</a>]"
      ]
     },
     "execution_count": 80,
     "metadata": {},
     "output_type": "execute_result"
    }
   ],
   "source": [
    "soup.select('body .link')"
   ]
  },
  {
   "cell_type": "code",
   "execution_count": 82,
   "metadata": {},
   "outputs": [
    {
     "name": "stdout",
     "output_type": "stream",
     "text": [
      "This is link1\n",
      "This is link2\n"
     ]
    }
   ],
   "source": [
    "for link in soup.select('a'):\n",
    "    print(link.text)"
   ]
  },
  {
   "cell_type": "code",
   "execution_count": 83,
   "metadata": {},
   "outputs": [
    {
     "name": "stdout",
     "output_type": "stream",
     "text": [
      "#\n",
      "# link2\n"
     ]
    }
   ],
   "source": [
    "for link in soup.select('a'):\n",
    "    print(link.get('href'))"
   ]
  },
  {
   "cell_type": "code",
   "execution_count": 85,
   "metadata": {},
   "outputs": [
    {
     "data": {
      "text/plain": [
       "<a abc=\"123\" dataft=\"qoo\" href=\"http://xx.url\"> I am Link</a>"
      ]
     },
     "execution_count": 85,
     "metadata": {},
     "output_type": "execute_result"
    }
   ],
   "source": [
    "s = '<a href=\"http://xx.url\" dataft=\"qoo\" abc=\"123\"> I am Link</a>'\n",
    "soup2 = BeautifulSoup(s,'lxml')\n",
    "soup2.select_one('a')"
   ]
  },
  {
   "cell_type": "code",
   "execution_count": 87,
   "metadata": {},
   "outputs": [
    {
     "data": {
      "text/plain": [
       "'123'"
      ]
     },
     "execution_count": 87,
     "metadata": {},
     "output_type": "execute_result"
    }
   ],
   "source": [
    "soup2.select_one('a').get('abc')"
   ]
  },
  {
   "cell_type": "code",
   "execution_count": 88,
   "metadata": {},
   "outputs": [
    {
     "data": {
      "text/plain": [
       "'qoo'"
      ]
     },
     "execution_count": 88,
     "metadata": {},
     "output_type": "execute_result"
    }
   ],
   "source": [
    "soup2.select_one('a').get('dataft')"
   ]
  },
  {
   "cell_type": "code",
   "execution_count": 89,
   "metadata": {},
   "outputs": [
    {
     "data": {
      "text/plain": [
       "'http://xx.url'"
      ]
     },
     "execution_count": 89,
     "metadata": {},
     "output_type": "execute_result"
    }
   ],
   "source": [
    "soup2.select_one('a').get('href')"
   ]
  },
  {
   "cell_type": "markdown",
   "metadata": {},
   "source": [
    "## 蘋果網路爬蟲"
   ]
  },
  {
   "cell_type": "code",
   "execution_count": 91,
   "metadata": {},
   "outputs": [],
   "source": [
    "import requests\n",
    "res = requests.get('https://tw.appledaily.com/new/realtime')\n",
    "#res.text"
   ]
  },
  {
   "cell_type": "code",
   "execution_count": 92,
   "metadata": {},
   "outputs": [],
   "source": [
    "from bs4 import BeautifulSoup\n",
    "soup = BeautifulSoup(res.text, 'lxml')"
   ]
  },
  {
   "cell_type": "code",
   "execution_count": 94,
   "metadata": {},
   "outputs": [
    {
     "data": {
      "text/plain": [
       "[<h1 class=\"dddd\"><time>2019 / 06 / 02</time></h1>,\n",
       " <h1><font color=\"#ff0000\">【直播中】以行動力挺夫　李佳芬陪韓國瑜看...</font></h1>,\n",
       " <h1><font color=\"#ff0000\">冒死也要自拍？　美大峽谷2個月4人拍照墜...</font></h1>,\n",
       " <h1><font color=\"#383c40\">賣假機油騙332人吸金1.1億　知名廣播...</font></h1>,\n",
       " <h1><font color=\"#ff0000\">中今發布白皮書批美「出爾反爾」　透露美方...</font></h1>,\n",
       " <h1><font color=\"#ff0000\">送水車倒退嚕闖禍　工人送醫急救命危</font></h1>,\n",
       " <h1><font color=\"#383c40\">高市三民區現本土登革熱群聚疫情　6人在鼎...</font></h1>,\n",
       " <h1><font color=\"#ff0000\">17歲泳將跳水撞池底四肢癱瘓　哥哥心痛P...</font></h1>,\n",
       " <h1><font color=\"#ff0000\">淫狼闖浴室性侵小模未遂　DNA揪出10年...</font></h1>,\n",
       " <h1><font color=\"#383c40\">警破百元吸到飽毒趴　藥頭來補貨也遭逮</font></h1>,\n",
       " <h1><font color=\"#ff0000\">【日職】王柏融連2打席安打　3上火腿2:...</font></h1>,\n",
       " <h1><font color=\"#383c40\">玩具復活節在桃園　送愛到非洲關懷全球弱勢...</font></h1>,\n",
       " <h1><font color=\"#ff0000\">郭董：比金融海嘯更大衝擊來了　如是總統早...</font></h1>,\n",
       " <h1><font color=\"#ff0000\">曾和鷹眼傳熱戀！謝霆鋒妹失蹤1年　報喜生...</font></h1>,\n",
       " <h1><font color=\"#383c40\">韓國瑜也要「安居樂業」　侯友宜：講很簡單...</font></h1>,\n",
       " <h1><font color=\"#ff0000\">【獨家直擊】非法回收場噁到爆　蛆蟲蒼蠅大...</font></h1>,\n",
       " <h1><font color=\"#ff0000\">不爽屢被催討投資的30萬　3煞衝債主家談...</font></h1>,\n",
       " <h1><font color=\"#383c40\">不肖子騎母機車偷萬元小折　母痛心指認不包...</font></h1>,\n",
       " <h1><font color=\"#383c40\">高架橋第一排不成抗性　土地全賣光光</font></h1>,\n",
       " <h1><font color=\"#383c40\">這個小學有木工廠　小學生個個都是木工師</font></h1>,\n",
       " <h1><font color=\"#383c40\">中國產品轉經台灣外銷避關稅?　經濟部3點...</font></h1>,\n",
       " <h1><font color=\"#ff0000\">絕不對孩子說這些話！楊冪談育兒觀反遭酸「...</font></h1>,\n",
       " <h1><font color=\"#383c40\">微軟E3將公開14款第一方遊戲　發表時間...</font></h1>,\n",
       " <h1><font color=\"#383c40\">嘴巴太誠實　冒用哥哥身分卻報自己證號秒露...</font></h1>,\n",
       " <h1><font color=\"#383c40\">韓國瑜喊「發財外交」　蘇貞昌：盼市長注意...</font></h1>,\n",
       " <h1><font color=\"#383c40\">國內水銀血壓計　明年底禁止生產</font></h1>,\n",
       " <h1><font color=\"#383c40\">韓版爭大位，社會學反思的活生生教材？</font></h1>,\n",
       " <h1><font color=\"#ff0000\">蔡英文台中參拜　批韓國瑜「發財外交」只是...</font></h1>,\n",
       " <h1><font color=\"#383c40\">【裝潢不NG】 3絕招　選購弧型沙發</font></h1>,\n",
       " <h1><font color=\"#383c40\">【長得更俊俏】 Škoda Superb...</font></h1>,\n",
       " <h1><font color=\"#ff0000\">13歲兒隨前夫赴加拿大　徐曉晰放手「回頭...</font></h1>,\n",
       " <h1>要聞最 Hot</h1>,\n",
       " <h1>Facebook </h1>]"
      ]
     },
     "execution_count": 94,
     "metadata": {},
     "output_type": "execute_result"
    }
   ],
   "source": [
    "soup.select('h1')"
   ]
  },
  {
   "cell_type": "markdown",
   "metadata": {},
   "source": [
    "## W3C HTML School\n",
    "- https://www.w3schools.com/html/\n",
    "- http://www.w3school.com.cn/html/index.asp"
   ]
  },
  {
   "cell_type": "code",
   "execution_count": 104,
   "metadata": {},
   "outputs": [],
   "source": [
    "template = '''\n",
    "<li class=\"rtddt inter hsv\">\n",
    "    <a href=\"https://tw.news.appledaily.com/international/realtime/20190602/1577213/\" target=\"_blank\">\n",
    "        <time>13:27</time>\n",
    "        <h2>國際</h2>\n",
    "        <h1>\n",
    "            <font color=\"#ff0000\">中今發布白皮書批美「出爾反爾」　透露美方...</font>\n",
    "        </h1>\n",
    "    </a>\n",
    "</li>\n",
    "<li class=\"rtddt local even\">\n",
    "    <a href=\"https://tw.news.appledaily.com/local/realtime/20190602/1577287/\" target=\"_blank\">\n",
    "        <time>13:23</time>\n",
    "        <h2>社會</h2>\n",
    "        <h1>\n",
    "        <font color=\"#ff0000\">送水車倒退嚕闖禍　工人送醫急救命危</font>\n",
    "        </h1>\n",
    "    </a>\n",
    "</li>\n",
    "'''"
   ]
  },
  {
   "cell_type": "code",
   "execution_count": 107,
   "metadata": {},
   "outputs": [
    {
     "data": {
      "text/plain": [
       "[<a href=\"https://tw.news.appledaily.com/international/realtime/20190602/1577213/\" target=\"_blank\">\n",
       " <time>13:27</time>\n",
       " <h2>國際</h2>\n",
       " <h1>\n",
       " <font color=\"#ff0000\">中今發布白皮書批美「出爾反爾」　透露美方...</font>\n",
       " </h1>\n",
       " </a>,\n",
       " <a href=\"https://tw.news.appledaily.com/local/realtime/20190602/1577287/\" target=\"_blank\">\n",
       " <time>13:23</time>\n",
       " <h2>社會</h2>\n",
       " <h1>\n",
       " <font color=\"#ff0000\">送水車倒退嚕闖禍　工人送醫急救命危</font>\n",
       " </h1>\n",
       " </a>]"
      ]
     },
     "execution_count": 107,
     "metadata": {},
     "output_type": "execute_result"
    }
   ],
   "source": [
    "s = BeautifulSoup(template, 'lxml')\n",
    "#s.select('li')\n",
    "#s.select('li.rtddt')\n",
    "s.select('li.rtddt a')"
   ]
  },
  {
   "cell_type": "code",
   "execution_count": 108,
   "metadata": {},
   "outputs": [
    {
     "data": {
      "text/plain": [
       "[<li class=\"rtddt inter hsv\">\n",
       " <a href=\"https://tw.news.appledaily.com/international/realtime/20190602/1577213/\" target=\"_blank\">\n",
       " <time>13:27</time>\n",
       " <h2>國際</h2>\n",
       " <h1>\n",
       " <font color=\"#ff0000\">中今發布白皮書批美「出爾反爾」　透露美方...</font>\n",
       " </h1>\n",
       " </a>\n",
       " </li>]"
      ]
     },
     "execution_count": 108,
     "metadata": {},
     "output_type": "execute_result"
    }
   ],
   "source": [
    "s.select('li.rtddt.inter')"
   ]
  },
  {
   "cell_type": "code",
   "execution_count": 109,
   "metadata": {},
   "outputs": [
    {
     "data": {
      "text/plain": [
       "[<li class=\"rtddt inter hsv\">\n",
       " <a href=\"https://tw.news.appledaily.com/international/realtime/20190602/1577213/\" target=\"_blank\">\n",
       " <time>13:27</time>\n",
       " <h2>國際</h2>\n",
       " <h1>\n",
       " <font color=\"#ff0000\">中今發布白皮書批美「出爾反爾」　透露美方...</font>\n",
       " </h1>\n",
       " </a>\n",
       " </li>]"
      ]
     },
     "execution_count": 109,
     "metadata": {},
     "output_type": "execute_result"
    }
   ],
   "source": [
    "s.select('li.rtddt.inter.hsv')"
   ]
  },
  {
   "cell_type": "code",
   "execution_count": 110,
   "metadata": {},
   "outputs": [
    {
     "data": {
      "text/plain": [
       "[<li class=\"rtddt inter hsv\">\n",
       " <a href=\"https://tw.news.appledaily.com/international/realtime/20190602/1577213/\" target=\"_blank\">\n",
       " <time>13:27</time>\n",
       " <h2>國際</h2>\n",
       " <h1>\n",
       " <font color=\"#ff0000\">中今發布白皮書批美「出爾反爾」　透露美方...</font>\n",
       " </h1>\n",
       " </a>\n",
       " </li>]"
      ]
     },
     "execution_count": 110,
     "metadata": {},
     "output_type": "execute_result"
    }
   ],
   "source": [
    "s.select('li.hsv.inter.rtddt')"
   ]
  },
  {
   "cell_type": "code",
   "execution_count": 97,
   "metadata": {},
   "outputs": [
    {
     "data": {
      "text/plain": [
       "159"
      ]
     },
     "execution_count": 97,
     "metadata": {},
     "output_type": "execute_result"
    }
   ],
   "source": [
    "alinks = soup.select('a')\n",
    "len(alinks)"
   ]
  },
  {
   "cell_type": "code",
   "execution_count": 102,
   "metadata": {},
   "outputs": [],
   "source": [
    "#soup.select('.rtddt a')"
   ]
  },
  {
   "cell_type": "code",
   "execution_count": 101,
   "metadata": {},
   "outputs": [],
   "source": [
    "#soup.select('.ndgTag a')"
   ]
  },
  {
   "cell_type": "code",
   "execution_count": 120,
   "metadata": {},
   "outputs": [
    {
     "name": "stdout",
     "output_type": "stream",
     "text": [
      "【獨家直擊】非法回收場噁到爆　蛆蟲蒼蠅大... 社會 14:00 https://tw.news.appledaily.com/local/realtime/20190602/1575617/\n",
      "======================================\n",
      "【一粥國際】聖母峰的死亡界線　為何攻頂塞... 國際 14:00 https://tw.news.appledaily.com/international/realtime/20190602/1576689/\n",
      "======================================\n",
      "17歲泳將跳水撞池底四肢癱瘓　哥哥心痛P... 社會 14:00 https://tw.news.appledaily.com/local/realtime/20190602/1577284/\n",
      "======================================\n",
      "【MLB】連2場被打爆　菊池雄星下一場先... 體育 13:57 https://tw.sports.appledaily.com/realtime/20190602/1577202/\n",
      "======================================\n",
      "韓國瑜造勢後「吳子嘉崩潰」　邱毅：郭朱王... 政治 13:57 https://tw.news.appledaily.com/politics/realtime/20190602/1577289/\n",
      "======================================\n",
      "【直播中】以行動力挺夫　李佳芬陪韓國瑜看... 政治 13:54 https://tw.news.appledaily.com/politics/realtime/20190602/1577199/\n",
      "======================================\n",
      "​在台灣的旁觀者，看待六四的三個階段 論壇 13:54 https://tw.news.appledaily.com/forum/realtime/20190602/1577298/\n",
      "======================================\n",
      "韓粉撼凱道！　王定宇：2020智力測驗 政治 13:53 https://tw.news.appledaily.com/politics/realtime/20190602/1577294/\n",
      "======================================\n",
      "抗議美國挺台　中國防部長嗆：絕不承諾放棄... 國際 13:52 https://tw.news.appledaily.com/international/realtime/20190602/1577200/\n",
      "======================================\n",
      "館長徵才！ 客服38K、平面設計上看50... 生活 13:51 https://tw.news.appledaily.com/life/realtime/20190602/1577277/\n",
      "======================================\n",
      "是藤原拓海！周董驚喜現身《叱咤風雲》尬車... 娛樂 13:50 https://tw.entertainment.appledaily.com/realtime/20190602/1577285/\n",
      "======================================\n",
      "柯Ｐ推特竟稱「他們叫我總統先生」　市府稱... 生活 13:50 https://tw.news.appledaily.com/life/realtime/20190602/1577293/\n",
      "======================================\n",
      "曾和鷹眼傳熱戀！謝霆鋒妹失蹤1年　報喜生... 娛樂 13:49 https://tw.entertainment.appledaily.com/realtime/20190602/1577272/\n",
      "======================================\n",
      "【日職】王柏融3安猛打中田翔滿貫砲　4上... 體育 13:42 https://tw.sports.appledaily.com/realtime/20190602/1577270/\n",
      "======================================\n",
      "18年歷史告結？Apple傳將關閉iTu... 3C 13:41 https://tw.lifestyle.appledaily.com/gadget/realtime/20190602/1577296/\n",
      "======================================\n",
      "竹子湖繡球花盛開中　周邊百貨業者齊推系列... 副刊 13:39 https://tw.lifestyle.appledaily.com/lifestyle/realtime/20190602/1577231/\n",
      "======================================\n",
      "高雄出現今年首例登革熱群聚感染　7人中鏢... 生活 13:33 https://tw.news.appledaily.com/life/realtime/20190602/1577292/\n",
      "======================================\n",
      "冒死也要自拍？　美大峽谷2個月4人拍照墜... 國際 13:32 https://tw.news.appledaily.com/international/realtime/20190602/1577276/\n",
      "======================================\n",
      "賣假機油騙332人吸金1.1億　知名廣播... 社會 13:32 https://tw.news.appledaily.com/local/realtime/20190602/1576379/\n",
      "======================================\n",
      "中今發布白皮書批美「出爾反爾」　透露美方... 國際 13:27 https://tw.news.appledaily.com/international/realtime/20190602/1577213/\n",
      "======================================\n",
      "送水車倒退嚕闖禍　工人送醫急救命危 社會 13:23 https://tw.news.appledaily.com/local/realtime/20190602/1577287/\n",
      "======================================\n",
      "高市三民區現本土登革熱群聚疫情　6人在鼎... 生活 13:22 https://tw.news.appledaily.com/life/realtime/20190602/1577281/\n",
      "======================================\n",
      "淫狼闖浴室性侵小模未遂　DNA揪出10年... 社會 13:15 https://tw.news.appledaily.com/local/realtime/20190602/1576562/\n",
      "======================================\n",
      "警破百元吸到飽毒趴　藥頭來補貨也遭逮 社會 13:13 https://tw.news.appledaily.com/local/realtime/20190602/1577279/\n",
      "======================================\n",
      "玩具復活節在桃園　送愛到非洲關懷全球弱勢... 生活 13:12 https://tw.news.appledaily.com/life/realtime/20190602/1577280/\n",
      "======================================\n",
      "郭董：比金融海嘯更大衝擊來了　如是總統早... 財經 13:09 https://tw.finance.appledaily.com/realtime/20190602/1577286/\n",
      "======================================\n",
      "韓國瑜也要「安居樂業」　侯友宜：講很簡單... 政治 13:08 https://tw.news.appledaily.com/politics/realtime/20190602/1577278/\n",
      "======================================\n",
      "不爽屢被催討投資的30萬　3煞衝債主家談... 社會 13:00 https://tw.news.appledaily.com/local/realtime/20190602/1577194/\n",
      "======================================\n",
      "不肖子騎機車偷萬元小折　母痛心指認不包庇... 社會 13:00 https://tw.news.appledaily.com/local/realtime/20190602/1577271/\n",
      "======================================\n",
      "高架橋第一排不成抗性　土地全賣光光 地產 13:00 https://tw.finance.appledaily.com/realtime/20190602/1574957/\n",
      "======================================\n"
     ]
    }
   ],
   "source": [
    "#抓取新聞列表原始碼\n",
    "import requests\n",
    "from bs4 import BeautifulSoup\n",
    "res = requests.get('https://tw.appledaily.com/new/realtime')\n",
    "\n",
    "#用迴圈遍歷含有.rtddt 的元素\n",
    "soup = BeautifulSoup(res.text , 'lxml')\n",
    "for news in soup.select('.rtddt a'):\n",
    "    #print(news)\n",
    "    h1 = news.select_one('h1').text\n",
    "    h2 = news.select_one('h2').text\n",
    "    time = news.select_one('time').text\n",
    "    link = news.get('href')\n",
    "    print(h1, h2, time, link)\n",
    "    print('======================================')\n"
   ]
  },
  {
   "cell_type": "markdown",
   "metadata": {},
   "source": [
    "## 自由時報\n",
    "- https://news.ltn.com.tw/list/breakingnews"
   ]
  },
  {
   "cell_type": "code",
   "execution_count": 122,
   "metadata": {},
   "outputs": [],
   "source": [
    "import requests\n",
    "res = requests.get('https://news.ltn.com.tw/list/breakingnews')\n"
   ]
  },
  {
   "cell_type": "code",
   "execution_count": 123,
   "metadata": {},
   "outputs": [],
   "source": [
    "from bs4 import BeautifulSoup\n",
    "soup = BeautifulSoup(res.text,'lxml')"
   ]
  },
  {
   "cell_type": "code",
   "execution_count": 129,
   "metadata": {},
   "outputs": [
    {
     "name": "stdout",
     "output_type": "stream",
     "text": [
      "台灣之光  潛水電腦錶讓世界看見台灣 14:20 //sports.ltn.com.tw/news/breakingnews/2809834\n",
      "內馬爾頭大了！被控在巴黎強姦女性 14:20 //news.ltn.com.tw/news/world/breakingnews/2809838\n",
      "射箭》欣賞戴資穎的求勝決心 譚雅婷：想跟她對打！ 14:19 //sports.ltn.com.tw/news/breakingnews/2809844\n",
      "女星勤能補拙 認了每天花8小時背台詞 14:18 //ent.ltn.com.tw/news/breakingnews/2809842\n",
      "極機密檔案：救國團為國民黨領導青年運動外圍組織 14:15 //news.ltn.com.tw/news/politics/breakingnews/2809841\n",
      "北市高溫飆36.6度 刷新今年最高溫 14:14 //news.ltn.com.tw/news/life/breakingnews/2809829\n",
      "MV痛批男女版黃安「飼貓鼠咬布袋」 黃明志大支被讚爆 14:11 //ent.ltn.com.tw/news/breakingnews/2809831\n",
      "今年本土登革熱 全部發生在高雄市 14:08 //news.ltn.com.tw/news/life/breakingnews/2809830\n",
      "戲劇一哥陳昭榮被霸凌 牙刷賣萬隻惹怒直播主：打爆他 14:06 //ent.ltn.com.tw/news/breakingnews/2809827\n",
      "車齡 5 年以上就要驗車！檢驗前有哪些該注意事項？ 14:00 https://auto.ltn.com.tw/news/12766\n",
      "舒淇童顏長這樣 網友驚呼撞臉金曲歌后 13:59 //ent.ltn.com.tw/news/breakingnews/2809826\n",
      "逆風飛翔的台南囡仔 19名中小學生獲南市總統教育獎 13:59 //news.ltn.com.tw/news/life/breakingnews/2809821\n",
      "桃園ZEPRO RUN半馬 石門水庫7000人開跑 13:57 //news.ltn.com.tw/news/life/breakingnews/2809820\n",
      "貿易戰燒到媒體？ 中國海外官媒參訪美國會記者證被取消 13:56 //news.ltn.com.tw/news/world/breakingnews/2809764\n",
      "韓稱要讓「鬼混政治人物下台」小英酸：當市長做了哪些事？ 13:54 //news.ltn.com.tw/news/politics/breakingnews/2809819\n",
      "全盲小5生 立志當音樂家還想成為第1位上太空的視障生 13:48 //news.ltn.com.tw/news/life/breakingnews/2809804\n",
      "18歲宅男女神體重創新低 瘦骨如柴憂患厭食症 13:47 //ent.ltn.com.tw/news/breakingnews/2809811\n"
     ]
    }
   ],
   "source": [
    "for rec in soup.select('a.tit'):\n",
    "    title = rec.select_one('p').text.strip()\n",
    "    dt    = rec.select_one('span').text.strip()\n",
    "    link  = rec.get('href')\n",
    "    print(title, dt, link)"
   ]
  },
  {
   "cell_type": "markdown",
   "metadata": {},
   "source": [
    "## Strip"
   ]
  },
  {
   "cell_type": "code",
   "execution_count": 126,
   "metadata": {},
   "outputs": [
    {
     "name": "stdout",
     "output_type": "stream",
     "text": [
      "                  123         456                  \n"
     ]
    }
   ],
   "source": [
    "a = '                  123         456                  '\n",
    "print(a)"
   ]
  },
  {
   "cell_type": "code",
   "execution_count": 127,
   "metadata": {},
   "outputs": [
    {
     "data": {
      "text/plain": [
       "'123         456'"
      ]
     },
     "execution_count": 127,
     "metadata": {},
     "output_type": "execute_result"
    }
   ],
   "source": [
    "a.strip()"
   ]
  },
  {
   "cell_type": "markdown",
   "metadata": {},
   "source": [
    "## 中國時報"
   ]
  },
  {
   "cell_type": "code",
   "execution_count": 131,
   "metadata": {},
   "outputs": [],
   "source": [
    "import requests\n",
    "res = requests.get('https://www.chinatimes.com/realtimenews/?chdtv')\n"
   ]
  },
  {
   "cell_type": "code",
   "execution_count": 132,
   "metadata": {},
   "outputs": [],
   "source": [
    "from bs4 import BeautifulSoup\n",
    "soup = BeautifulSoup(res.text, 'lxml')"
   ]
  },
  {
   "cell_type": "code",
   "execution_count": 141,
   "metadata": {},
   "outputs": [
    {
     "name": "stdout",
     "output_type": "stream",
     "text": [
      "高雄病媒蚊濃度高 爆發首起登革熱群聚 2019-06-02 14:26 生活 /realtimenews/20190602001553-260405\n",
      "《炮仔聲》李燕「香吻球」開球 揪小鮮肉新娘抱 2019-06-02 14:26 娛樂 /realtimenews/20190602001563-260404\n",
      "高市登革熱拉警報 爆7例群聚感染 2019-06-02 14:23 生活 /realtimenews/20190602001559-260405\n",
      "被黑走路工 韓粉秀幕後金主：鄭先生啦! 2019-06-02 14:22 政治 /realtimenews/20190602001567-260407\n",
      "MLB》超越賽揚的男人 韋藍德達陣生涯2809K 2019-06-02 14:22 體育 /realtimenews/20190602001560-260403\n",
      "新北美力嘉年華 人體彩繪 扭蛋68種免費體驗展技職教育 2019-06-02 14:21 生活 /realtimenews/20190602001529-260405\n",
      "中國半導體業「安全可控」？ 2019-06-02 14:18 財經 /realtimenews/20190602000018-260410\n",
      "王金平6日會面國民黨總統初選5人小組 提初選建言 2019-06-02 14:15 政治 /realtimenews/20190602001477-260407\n",
      "射箭》中華隊出征荷蘭 拚奧運滿額門票 2019-06-02 14:11 體育 /realtimenews/20190602001527-260403\n",
      "大政治大爆卦-無色覺醒》韓粉團結 40萬人沸騰凱道 2019-06-02 14:11 政治 /realtimenews/20190602001547-260407\n",
      "台南「割稻仔尾賊」出沒 逾3公頃農地受害 2019-06-02 14:09 社會 /realtimenews/20190602001521-260402\n",
      "偶像男神節目現原形 腫一圈公開徵婚條件網傻眼 2019-06-02 14:05 娛樂 /realtimenews/20190602001518-260404\n",
      "端午節陸菇湧走私潮  金門岸巡再攔截一批 2019-06-02 14:02 生活 /realtimenews/20190602001504-260405\n",
      "砸16億升級自行車道 蘇揆虧林佳龍大肚腩多騎車 2019-06-02 14:01 生活 /realtimenews/20190602001336-260405\n",
      "發財外交是喊口號？韓國瑜：執政者要苦民所苦 2019-06-02 13:59 政治 /realtimenews/20190602001511-260407\n",
      "拳壇震撼！世界統一拳王遭擊倒 2019-06-02 13:48 體育 /realtimenews/20190602001475-260403\n",
      "蘆洲阿勃勒黃金隧道 花季嘉年華吸人潮 2019-06-02 13:48 生活 /realtimenews/20190602001403-260405\n",
      "嶺東科大打造職場生力軍　 盧秀燕：祝福畢業生築夢踏實 2019-06-02 13:48 生活 /realtimenews/20190602001412-260405\n",
      "被蔡指亂扣帽子 賴陣營回嗆：斷章取義混淆視聽 2019-06-02 13:47 政治 /realtimenews/20190602001474-260407\n",
      "終結oBike違停亂象　北市最快明天全面清空 2019-06-02 13:47 生活 /realtimenews/20190602001299-260405\n"
     ]
    }
   ],
   "source": [
    "for rec in soup.select('section.article-list li'):\n",
    "    if  rec.select_one('h3'):\n",
    "        title    = rec.select_one('h3').text\n",
    "        dt       = rec.select_one('time').get('datetime')\n",
    "        category = rec.select_one('.category').text\n",
    "        link     = rec.select_one('a').get('href')\n",
    "        print(title, dt, category, link)"
   ]
  },
  {
   "cell_type": "markdown",
   "metadata": {},
   "source": [
    "## 抓取蘋果內文"
   ]
  },
  {
   "cell_type": "code",
   "execution_count": 143,
   "metadata": {},
   "outputs": [],
   "source": [
    "import requests\n",
    "res = requests.get('https://tw.finance.appledaily.com/realtime/20190602/1577286/')\n",
    "#res.text"
   ]
  },
  {
   "cell_type": "code",
   "execution_count": 144,
   "metadata": {},
   "outputs": [],
   "source": [
    "from bs4 import BeautifulSoup\n",
    "soup = BeautifulSoup(res.text, 'lxml')"
   ]
  },
  {
   "cell_type": "code",
   "execution_count": 146,
   "metadata": {},
   "outputs": [
    {
     "data": {
      "text/plain": [
       "'郭董：比金融海嘯更大衝擊來了\\u3000如是總統早開國安會議\\u3000'"
      ]
     },
     "execution_count": 146,
     "metadata": {},
     "output_type": "execute_result"
    }
   ],
   "source": [
    "soup.select_one('h1').text"
   ]
  },
  {
   "cell_type": "code",
   "execution_count": 150,
   "metadata": {},
   "outputs": [
    {
     "data": {
      "text/plain": [
       "'\\xa0跑選舉掃街造勢，不忘關心美中貿易大戰和全球經濟，國民黨初選參選人郭台銘表示，相較於看到韓粉造勢的壓力，他更關心的美中貿易戰問題，因為這一次可能比金融海嘯還要大。如果他是蔡英文總統，他現在就在總統府召開國安會議。郭台銘指出，今天早上6點就起來關心時事。全世界各地，看到中美貿易大戰越演越烈，科技戰爭也同時上演。他要是蔡總統的話，現在應該坐在總統府召開國安級的經濟彙報。因為大家不曉得，世界的經濟將會在數月，甚至數週內產生急劇的變化，這影響到不只是製造業、工業，影響到的是股價、匯率、中小企業，甚至影響到台灣很多企業的生存，以及將來的消費經濟。郭台銘強力地呼籲總統蔡英文，要重視這個問題，因這一次貿易戰可能比金融海嘯還要大，可能在短的時間就出現，如果這個問題不能重視，台灣是不能置身事外，對中美經濟貿易產生的嚴重性才剛剛開始。郭台銘說，最近有跟很多中小企業座談，很多的模具、很多東西他們都拿不到訂單，如果任何企業開始拿不到訂單，這個問題的嚴重性超乎大家的預估，更超乎大家想像。郭董更說明，今天早上6點就開始打電話，讓他憂心忡忡不是昨天的造勢而是貿易戰，他擔憂台灣政府沒有所作為，老百姓沒有看到會比金融海嘯更大的海嘯即將來臨，所造成的經濟崩潰，這是他看到。（陳俐妏／台北報導）'"
      ]
     },
     "execution_count": 150,
     "metadata": {},
     "output_type": "execute_result"
    }
   ],
   "source": [
    "soup.select_one('.ndArticle_margin p').text"
   ]
  },
  {
   "cell_type": "code",
   "execution_count": 152,
   "metadata": {},
   "outputs": [
    {
     "data": {
      "text/plain": [
       "'出版時間：2019/06/02 13:09'"
      ]
     },
     "execution_count": 152,
     "metadata": {},
     "output_type": "execute_result"
    }
   ],
   "source": [
    "soup.select_one('.ndArticle_creat').text"
   ]
  },
  {
   "cell_type": "markdown",
   "metadata": {},
   "source": [
    "## Datetime\n",
    "- https://docs.python.org/3/library/datetime.html#strftime-and-strptime-behavior"
   ]
  },
  {
   "cell_type": "code",
   "execution_count": 154,
   "metadata": {},
   "outputs": [
    {
     "name": "stdout",
     "output_type": "stream",
     "text": [
      "2019-06-02\n"
     ]
    }
   ],
   "source": [
    "from datetime import datetime \n",
    "currenttime = datetime.now()\n",
    "print(currenttime.strftime(\"%Y-%m-%d\"))"
   ]
  },
  {
   "cell_type": "code",
   "execution_count": 155,
   "metadata": {},
   "outputs": [
    {
     "data": {
      "text/plain": [
       "datetime.datetime(2019, 6, 2, 13, 9)"
      ]
     },
     "execution_count": 155,
     "metadata": {},
     "output_type": "execute_result"
    }
   ],
   "source": [
    "datetime.strptime('出版時間：2019/06/02 13:09', '出版時間：%Y/%m/%d %H:%M')"
   ]
  },
  {
   "cell_type": "code",
   "execution_count": 156,
   "metadata": {},
   "outputs": [
    {
     "ename": "TypeError",
     "evalue": "unsupported operand type(s) for -: 'str' and 'str'",
     "output_type": "error",
     "traceback": [
      "\u001b[1;31m---------------------------------------------------------------------------\u001b[0m",
      "\u001b[1;31mTypeError\u001b[0m                                 Traceback (most recent call last)",
      "\u001b[1;32m<ipython-input-156-c5e5d86ab5d8>\u001b[0m in \u001b[0;36m<module>\u001b[1;34m\u001b[0m\n\u001b[1;32m----> 1\u001b[1;33m \u001b[1;34m'2019-05-20'\u001b[0m \u001b[1;33m-\u001b[0m \u001b[1;34m'2019-01-20'\u001b[0m\u001b[1;33m\u001b[0m\u001b[1;33m\u001b[0m\u001b[0m\n\u001b[0m",
      "\u001b[1;31mTypeError\u001b[0m: unsupported operand type(s) for -: 'str' and 'str'"
     ]
    }
   ],
   "source": [
    "'2019-05-20' - '2019-01-20'"
   ]
  },
  {
   "cell_type": "code",
   "execution_count": 158,
   "metadata": {},
   "outputs": [
    {
     "data": {
      "text/plain": [
       "datetime.timedelta(days=120)"
      ]
     },
     "execution_count": 158,
     "metadata": {},
     "output_type": "execute_result"
    }
   ],
   "source": [
    "a = datetime.strptime('2019-05-20', '%Y-%m-%d')\n",
    "b = datetime.strptime('2019-01-20', '%Y-%m-%d')\n",
    "a - b"
   ]
  },
  {
   "cell_type": "code",
   "execution_count": 161,
   "metadata": {},
   "outputs": [
    {
     "data": {
      "text/plain": [
       "'財經地產'"
      ]
     },
     "execution_count": 161,
     "metadata": {},
     "output_type": "execute_result"
    }
   ],
   "source": [
    "soup.select_one('.ndgTag .current').text"
   ]
  },
  {
   "cell_type": "code",
   "execution_count": 190,
   "metadata": {},
   "outputs": [],
   "source": [
    "def pageDetail(detailurl):\n",
    "    res = requests.get(detailurl)\n",
    "    soup = BeautifulSoup(res.text, 'lxml')\n",
    "    \n",
    "    ret = {}\n",
    "    ret['title']    = soup.select_one('h1').text\n",
    "    ret['summary']  = soup.select_one('.ndArticle_margin p').text\n",
    "    dt              = soup.select_one('.ndArticle_creat').text\n",
    "    ret['dt']       = datetime.strptime(dt, '出版時間：%Y/%m/%d %H:%M')\n",
    "    ret['category'] = soup.select_one('.ndgTag .current').text\n",
    "    ret['url']      = detailurl\n",
    "    return ret"
   ]
  },
  {
   "cell_type": "code",
   "execution_count": 191,
   "metadata": {},
   "outputs": [
    {
     "data": {
      "text/plain": [
       "{'title': '郭董：比金融海嘯更大衝擊來了\\u3000如是總統早開國安會議\\u3000',\n",
       " 'summary': '\\xa0跑選舉掃街造勢，不忘關心美中貿易大戰和全球經濟，國民黨初選參選人郭台銘表示，相較於看到韓粉造勢的壓力，他更關心的美中貿易戰問題，因為這一次可能比金融海嘯還要大。如果他是蔡英文總統，他現在就在總統府召開國安會議。郭台銘指出，今天早上6點就起來關心時事。全世界各地，看到中美貿易大戰越演越烈，科技戰爭也同時上演。他要是蔡總統的話，現在應該坐在總統府召開國安級的經濟彙報。因為大家不曉得，世界的經濟將會在數月，甚至數週內產生急劇的變化，這影響到不只是製造業、工業，影響到的是股價、匯率、中小企業，甚至影響到台灣很多企業的生存，以及將來的消費經濟。郭台銘強力地呼籲總統蔡英文，要重視這個問題，因這一次貿易戰可能比金融海嘯還要大，可能在短的時間就出現，如果這個問題不能重視，台灣是不能置身事外，對中美經濟貿易產生的嚴重性才剛剛開始。郭台銘說，最近有跟很多中小企業座談，很多的模具、很多東西他們都拿不到訂單，如果任何企業開始拿不到訂單，這個問題的嚴重性超乎大家的預估，更超乎大家想像。郭董更說明，今天早上6點就開始打電話，讓他憂心忡忡不是昨天的造勢而是貿易戰，他擔憂台灣政府沒有所作為，老百姓沒有看到會比金融海嘯更大的海嘯即將來臨，所造成的經濟崩潰，這是他看到。（陳俐妏／台北報導）',\n",
       " 'dt': datetime.datetime(2019, 6, 2, 13, 9),\n",
       " 'category': '財經地產',\n",
       " 'url': 'https://tw.finance.appledaily.com/realtime/20190602/1577286/'}"
      ]
     },
     "execution_count": 191,
     "metadata": {},
     "output_type": "execute_result"
    }
   ],
   "source": [
    "pageDetail('https://tw.finance.appledaily.com/realtime/20190602/1577286/')"
   ]
  },
  {
   "cell_type": "code",
   "execution_count": 192,
   "metadata": {},
   "outputs": [
    {
     "data": {
      "text/plain": [
       "{'title': '中今發布白皮書批美「出爾反爾」\\u3000透露美方要求主權讓步',\n",
       " 'summary': '中國商務部副部長王受文今天舉行記者會，公布《關於中美經貿磋商的中方立場》白皮書，備受外界關注。王受文強調中國在談判中抱持最大誠意，反批美國才是「出爾反爾」的一方，並說美國還要求在協議中寫進「有關主權議題」，強調中國對此無法容忍。\\xa0白皮書分為三大部分：美國挑起對華經貿摩擦損害兩國和全球利益；美國在中美經貿磋商中出爾反爾、不講誠信；三、中國始終堅持平等、互利、誠信的磋商立場。從標題可見，幾乎全是指責美國才是破壞談判的一方。白皮書說，磋商過程中，中國始終秉持相互尊重、平等互利的原則，致力於推動達成雙方都能接受的協議。相互尊重，就是要尊重對方社會制度、經濟體制、發展道路和權利，尊重彼此核心利益和重大關切，不挑戰「底線」，不逾越「紅線」，不能以犧牲一方的發展權為代價，更不能損害一國的主權。平等互利，就是雙方磋商的地位是平等的，磋商成果是互利的，最終達成的協議是雙贏的。如果一方強壓另一方進行談判，或者談判結果僅讓單方得利，這樣的談判不會取得成功。\\xa0王受文在記者會上強調，美國在貿易談判中「得寸進尺」，要求在協議中寫進有關主權的議題，但他並未說明相關「主權議題」涉及何事。王受文進一步指責美國臨時喊高價格，並堅持要提高關稅施壓，「誰是誰非不辯自明」。\\xa0當記者問及中方是否在先前達成的協議中反悔，王受文說，先前的會談內容都是「討論性質」，不存在達成任何協議，也因此不存在反悔的說法。王受文強調，如果通過施壓，迫使對方作出讓步，讓一方得利，這種談判是不可能成功的。如果想通過施壓，逼迫中國作出讓步，是絕無可能的。\\xa0有媒體問到中國會否利用稀土進行反制。王受文表示，中國作為稀土資源豐富的國家，中方願意滿足其他國家正常的稀土需求。但如果有國家利用中國的稀土再反過來對中國進行打壓，於情於理無法接受。至於中國國家主席習近平和美國總統川普是否會在本月於日本大阪舉行的G20高峰會上談判貿易議題時，他表示並不了解此事。（大陸中心／綜合外電報導）\\xa0發稿：10:22更新：13:27（新增：配音影片）跟上國際脈動，快來蘋果國際按讚\\xa0',\n",
       " 'dt': datetime.datetime(2019, 6, 2, 13, 27),\n",
       " 'category': '國際',\n",
       " 'url': 'https://tw.news.appledaily.com/international/realtime/20190602/1577213/'}"
      ]
     },
     "execution_count": 192,
     "metadata": {},
     "output_type": "execute_result"
    }
   ],
   "source": [
    "pageDetail('https://tw.news.appledaily.com/international/realtime/20190602/1577213/')"
   ]
  },
  {
   "cell_type": "code",
   "execution_count": 175,
   "metadata": {},
   "outputs": [
    {
     "name": "stdout",
     "output_type": "stream",
     "text": [
      "https://tw.appledaily.com/new/realtime/1\n",
      "https://tw.appledaily.com/new/realtime/2\n",
      "https://tw.appledaily.com/new/realtime/3\n",
      "https://tw.appledaily.com/new/realtime/4\n"
     ]
    }
   ],
   "source": [
    "#https://tw.appledaily.com/new/realtime\n",
    "#https://tw.appledaily.com/new/realtime/2\n",
    "#https://tw.appledaily.com/new/realtime/3\n",
    "\n",
    "for p in range(1,5):\n",
    "    url = 'https://tw.appledaily.com/new/realtime/{}'.format(p)\n",
    "    print(url)"
   ]
  },
  {
   "cell_type": "markdown",
   "metadata": {},
   "source": [
    "## 完成完整網路爬蟲"
   ]
  },
  {
   "cell_type": "code",
   "execution_count": 193,
   "metadata": {},
   "outputs": [],
   "source": [
    "import requests\n",
    "from bs4 import BeautifulSoup\n",
    "from datetime import datetime "
   ]
  },
  {
   "cell_type": "code",
   "execution_count": 194,
   "metadata": {},
   "outputs": [],
   "source": [
    "def pageDetail(detailurl):\n",
    "    res = requests.get(detailurl)\n",
    "    soup = BeautifulSoup(res.text, 'lxml')\n",
    "    \n",
    "    ret = {}\n",
    "    ret['title']    = soup.select_one('h1').text\n",
    "    ret['summary']  = soup.select_one('.ndArticle_margin p').text\n",
    "    dt              = soup.select_one('.ndArticle_creat').text\n",
    "    ret['dt']       = datetime.strptime(dt, '出版時間：%Y/%m/%d %H:%M')\n",
    "    ret['category'] = soup.select_one('.ndgTag .current').text\n",
    "    ret['url']      = detailurl\n",
    "    return ret"
   ]
  },
  {
   "cell_type": "code",
   "execution_count": 195,
   "metadata": {},
   "outputs": [
    {
     "name": "stdout",
     "output_type": "stream",
     "text": [
      "1\n",
      "2\n",
      "3\n"
     ]
    }
   ],
   "source": [
    "newsary = []\n",
    "newsurl =  'https://tw.appledaily.com/new/realtime/{}'\n",
    "for p in range(1,4):\n",
    "    res  = requests.get(newsurl.format(p))\n",
    "    soup = BeautifulSoup(res.text, 'lxml')\n",
    "    for news in soup.select('li.rtddt a'):\n",
    "        link = news.get('href')\n",
    "        newsary.append(pageDetail(link))\n",
    "    print(p)"
   ]
  },
  {
   "cell_type": "code",
   "execution_count": 196,
   "metadata": {},
   "outputs": [
    {
     "data": {
      "text/plain": [
       "90"
      ]
     },
     "execution_count": 196,
     "metadata": {},
     "output_type": "execute_result"
    }
   ],
   "source": [
    "len(newsary)"
   ]
  },
  {
   "cell_type": "code",
   "execution_count": 197,
   "metadata": {},
   "outputs": [
    {
     "data": {
      "text/plain": [
       "{'title': '【長得更俊俏】 Škoda Superb小改款預計年底上市\\u3000iV油電版本明年見',\n",
       " 'summary': '在Škoda發展至今124年的歷史中，Superb堪稱是品牌最經典的豪華系列車型，早在1930-1940年代就已搭載8缸引擎及四輪驅動系統，而在2001年於VW集團麾下重新復出之後，更以超越同級的寬敞空間及創新思維迅速在全球市場擴張勢力。而在21世紀初算起至今的第三世代，經過四年的銷售終於在日前於斯洛伐克發表小改款車型，除了有感升級的內外質感，更重要的是原廠首次為它加入了油電及跨界旅行車Scout兩種衍生版本，國內估計標準版車型最快今年第4季有機會上市，而油電版本也在業者導入的名單中，預計最快明年底登場。【Superb發表會埋了兩顆彩蛋】其實早在今年初開始，Škoda原廠就已不斷預告Superb小改款即將登場，當時透過片段的資訊，大概就能拼湊出新車可能將衍生出插電式油電車款，因這是Škoda承諾在2025年前至少發表5款電動化車輛的一大進程；而當新車終於在5月底於斯洛伐克首都布拉提斯拉瓦(Bratislava)發表後，油電車的確如期登場，但沒想到的是原廠竟然還預藏了兩顆彩蛋，其中之一是首次發展的Superb Combi Scout跨界旅行車，另外則是品牌首款純電動車CITIGOe iV。\\xa0首先我們先來說說整體Superb改款的重點，從車頭看去可以發現在和先前近似的風格下，有著不算小的視覺轉變，最主要是全新設計的頭燈組，除了面積縮小更為細長化，重要的是這次導入了全新的LED燈組，原廠稱之為「Škoda Crystal Lighting」，在高階車款上除了基本的遠近光LED頭燈、動態方向指示燈，還具備遠光燈自動遮蔽技術，這將會是高階車款的標準配備；另外前保險桿下氣壩也有顯著變革，氣壩開口面積加大之外，兩側的霧燈也升級LED規格，而招牌直瀑水箱罩在部分車型上則是換上雙肋造型。至於在車尾部分，無論是房車版或旅行車都升級包含動態方向燈在內的全LED尾燈組，並且在尾廂蓋下緣新增一道鍍鉻飾條，上方的傳統圓形廠徽則改為「Škoda」字型標，視覺上更添典雅。【除了9氣囊\\u3000主動安全科技也更進階】\\xa0在車艙的範圍內，最主要是更新車內飾板材質，以及中央娛樂資訊系統的介面升級，並在部分車型上搭配全數位邏輯儀表板，此外KESSY GO免鑰匙啟動裝置現在已是全車系標準配備，而車型等級同樣區分為Style、Ambition及高階的L&K規格。而在安全輔助科技部分，這次小改款新車在歐洲市場加入了Predictive Cruise Control主動式巡航控制系統，主要是能藉由車內擋風玻璃上的攝影機，以及導航圖資來判別車輛在彎道時的安全時速，並進一步主動調整車輛速度，和一般ACC系統相較更為進階；另外其他重點升級項目還包含偵測距離最多70公尺的Side Assist盲點偵測，以及Emergency Steering Assist\\xa0緊急轉向輔助系統等，氣囊沒有意外的話，國內引進車型均維持標配9具。\\xa0Škoda原廠為小改款Superb車系準備了各3具汽柴油引擎，不過未來國內銷售可能將以汽油動力為主，入門車型由過去的1.4 TSI換上新世代的1.5 TSI Evo汽油渦輪動力，雖然出力同樣為150匹加上ACT汽缸歇止系統，但標榜擁有更好的燃油效率，另外2.0TSI引擎則分為190匹馬力及高輸出的272匹馬力兩種調校，其中後者還搭上四輪驅動系統，變速箱則均為7速DSG雙離合器自手排系統。至於這次小改款重點之一的Superb iV插電式油電版本，也計畫會在明年追加引進國內，其是以1.4 TSI汽油引擎為基礎，搭上具114匹馬力的電動馬達及13 kWh的電池組，可發揮218匹的綜效馬力，純電行駛最高續航力可達55公里，若加滿油搭配電力輔助，最多可達850公里。(林浩昇 / 台北報導)更多「 世界任我行」內容，請點此：\\xa0http://bit.ly/2GOqTAv發稿時間：0025更新時間：1535(新增圖片)',\n",
       " 'dt': datetime.datetime(2019, 6, 2, 15, 35),\n",
       " 'category': '3C車市',\n",
       " 'url': 'https://tw.lifestyle.appledaily.com/gadget/realtime/20190602/1576911/'}"
      ]
     },
     "execution_count": 197,
     "metadata": {},
     "output_type": "execute_result"
    }
   ],
   "source": [
    "newsary[0]"
   ]
  },
  {
   "cell_type": "code",
   "execution_count": 198,
   "metadata": {},
   "outputs": [
    {
     "data": {
      "text/plain": [
       "dict"
      ]
     },
     "execution_count": 198,
     "metadata": {},
     "output_type": "execute_result"
    }
   ],
   "source": [
    "type(newsary[0])"
   ]
  },
  {
   "cell_type": "code",
   "execution_count": 199,
   "metadata": {},
   "outputs": [
    {
     "data": {
      "text/plain": [
       "list"
      ]
     },
     "execution_count": 199,
     "metadata": {},
     "output_type": "execute_result"
    }
   ],
   "source": [
    "type(newsary)"
   ]
  },
  {
   "cell_type": "code",
   "execution_count": 200,
   "metadata": {},
   "outputs": [
    {
     "data": {
      "text/html": [
       "<div>\n",
       "<style scoped>\n",
       "    .dataframe tbody tr th:only-of-type {\n",
       "        vertical-align: middle;\n",
       "    }\n",
       "\n",
       "    .dataframe tbody tr th {\n",
       "        vertical-align: top;\n",
       "    }\n",
       "\n",
       "    .dataframe thead th {\n",
       "        text-align: right;\n",
       "    }\n",
       "</style>\n",
       "<table border=\"1\" class=\"dataframe\">\n",
       "  <thead>\n",
       "    <tr style=\"text-align: right;\">\n",
       "      <th></th>\n",
       "      <th>category</th>\n",
       "      <th>dt</th>\n",
       "      <th>summary</th>\n",
       "      <th>title</th>\n",
       "      <th>url</th>\n",
       "    </tr>\n",
       "  </thead>\n",
       "  <tbody>\n",
       "    <tr>\n",
       "      <th>0</th>\n",
       "      <td>3C車市</td>\n",
       "      <td>2019-06-02 15:35:00</td>\n",
       "      <td>在Škoda發展至今124年的歷史中，Superb堪稱是品牌最經典的豪華系列車型，早在193...</td>\n",
       "      <td>【長得更俊俏】 Škoda Superb小改款預計年底上市　iV油電版本明年見</td>\n",
       "      <td>https://tw.lifestyle.appledaily.com/gadget/rea...</td>\n",
       "    </tr>\n",
       "    <tr>\n",
       "      <th>1</th>\n",
       "      <td>社會</td>\n",
       "      <td>2019-06-02 15:33:00</td>\n",
       "      <td>台南市62歲鄭姓男子與同伴攀登馬博橫斷途中滑落邊坡，因頭部受創、左手臂腫脹疑似骨折，在中央金...</td>\n",
       "      <td>登馬博橫斷受傷受困4天　搜救人員護送下山送醫</td>\n",
       "      <td>https://tw.news.appledaily.com/local/realtime/...</td>\n",
       "    </tr>\n",
       "    <tr>\n",
       "      <th>2</th>\n",
       "      <td>3C車市</td>\n",
       "      <td>2019-06-02 15:30:00</td>\n",
       "      <td>距離小米手環4的問世時間接近，網路上各種傳言相繼流出，除了日前外國媒體爆料渲染圖外，中國社群...</td>\n",
       "      <td>小米手環4曝光　彩色螢幕、小愛同學上身</td>\n",
       "      <td>https://tw.lifestyle.appledaily.com/gadget/rea...</td>\n",
       "    </tr>\n",
       "    <tr>\n",
       "      <th>3</th>\n",
       "      <td>政治</td>\n",
       "      <td>2019-06-02 15:30:00</td>\n",
       "      <td>有意代表國民黨參與2020總統大選的新北市前市長朱立倫，日前啟動下鄉之旅，今明兩天來到高雄、...</td>\n",
       "      <td>馬英九拍肩讚最近表現不錯　朱立倫反吐苦水「非常辛苦」</td>\n",
       "      <td>https://tw.news.appledaily.com/politics/realti...</td>\n",
       "    </tr>\n",
       "    <tr>\n",
       "      <th>4</th>\n",
       "      <td>體育</td>\n",
       "      <td>2019-06-02 15:29:00</td>\n",
       "      <td>日本火腿台灣「大王」王柏融昨轟出睽違1個半月的第2轟，長程砲火加溫，今持續對上歐力士，依舊在...</td>\n",
       "      <td>【日職】王柏融發威！首次單場5安　8局火腿8:5領先歐力士</td>\n",
       "      <td>https://tw.sports.appledaily.com/realtime/2019...</td>\n",
       "    </tr>\n",
       "  </tbody>\n",
       "</table>\n",
       "</div>"
      ],
      "text/plain": [
       "  category                  dt  \\\n",
       "0     3C車市 2019-06-02 15:35:00   \n",
       "1       社會 2019-06-02 15:33:00   \n",
       "2     3C車市 2019-06-02 15:30:00   \n",
       "3       政治 2019-06-02 15:30:00   \n",
       "4       體育 2019-06-02 15:29:00   \n",
       "\n",
       "                                             summary  \\\n",
       "0  在Škoda發展至今124年的歷史中，Superb堪稱是品牌最經典的豪華系列車型，早在193...   \n",
       "1  台南市62歲鄭姓男子與同伴攀登馬博橫斷途中滑落邊坡，因頭部受創、左手臂腫脹疑似骨折，在中央金...   \n",
       "2  距離小米手環4的問世時間接近，網路上各種傳言相繼流出，除了日前外國媒體爆料渲染圖外，中國社群...   \n",
       "3  有意代表國民黨參與2020總統大選的新北市前市長朱立倫，日前啟動下鄉之旅，今明兩天來到高雄、...   \n",
       "4  日本火腿台灣「大王」王柏融昨轟出睽違1個半月的第2轟，長程砲火加溫，今持續對上歐力士，依舊在...   \n",
       "\n",
       "                                     title  \\\n",
       "0  【長得更俊俏】 Škoda Superb小改款預計年底上市　iV油電版本明年見   \n",
       "1                   登馬博橫斷受傷受困4天　搜救人員護送下山送醫   \n",
       "2                      小米手環4曝光　彩色螢幕、小愛同學上身   \n",
       "3               馬英九拍肩讚最近表現不錯　朱立倫反吐苦水「非常辛苦」   \n",
       "4            【日職】王柏融發威！首次單場5安　8局火腿8:5領先歐力士   \n",
       "\n",
       "                                                 url  \n",
       "0  https://tw.lifestyle.appledaily.com/gadget/rea...  \n",
       "1  https://tw.news.appledaily.com/local/realtime/...  \n",
       "2  https://tw.lifestyle.appledaily.com/gadget/rea...  \n",
       "3  https://tw.news.appledaily.com/politics/realti...  \n",
       "4  https://tw.sports.appledaily.com/realtime/2019...  "
      ]
     },
     "execution_count": 200,
     "metadata": {},
     "output_type": "execute_result"
    }
   ],
   "source": [
    "import pandas\n",
    "newsdf = pandas.DataFrame(newsary)\n",
    "newsdf.head()"
   ]
  },
  {
   "cell_type": "code",
   "execution_count": 201,
   "metadata": {},
   "outputs": [
    {
     "data": {
      "text/plain": [
       "社會      20\n",
       "政治      17\n",
       "生活      16\n",
       "財經地產     8\n",
       "娛樂時尚     8\n",
       "國際       7\n",
       "體育       4\n",
       "3C車市     4\n",
       "吃喝玩樂     3\n",
       "論壇       3\n",
       "Name: category, dtype: int64"
      ]
     },
     "execution_count": 201,
     "metadata": {},
     "output_type": "execute_result"
    }
   ],
   "source": [
    "newsdf['category'].value_counts()"
   ]
  },
  {
   "cell_type": "code",
   "execution_count": 211,
   "metadata": {},
   "outputs": [
    {
     "name": "stdout",
     "output_type": "stream",
     "text": [
      "Populating the interactive namespace from numpy and matplotlib\n"
     ]
    },
    {
     "data": {
      "text/plain": [
       "<matplotlib.axes._subplots.AxesSubplot at 0x17790c50>"
      ]
     },
     "execution_count": 211,
     "metadata": {},
     "output_type": "execute_result"
    },
    {
     "data": {
      "image/png": "[encoded data removed]",
      "text/plain": [
       "<Figure size 432x288 with 1 Axes>"
      ]
     },
     "metadata": {
      "needs_background": "light"
     },
     "output_type": "display_data"
    }
   ],
   "source": [
    "%pylab inline\n",
    "stat  = newsdf['dt'].dt.hour.value_counts().sort_index()\n",
    "stat\n",
    "stat.plot(kind = 'bar')"
   ]
  },
  {
   "cell_type": "code",
   "execution_count": 213,
   "metadata": {},
   "outputs": [
    {
     "data": {
      "text/html": [
       "<div>\n",
       "<style scoped>\n",
       "    .dataframe tbody tr th:only-of-type {\n",
       "        vertical-align: middle;\n",
       "    }\n",
       "\n",
       "    .dataframe tbody tr th {\n",
       "        vertical-align: top;\n",
       "    }\n",
       "\n",
       "    .dataframe thead th {\n",
       "        text-align: right;\n",
       "    }\n",
       "</style>\n",
       "<table border=\"1\" class=\"dataframe\">\n",
       "  <thead>\n",
       "    <tr style=\"text-align: right;\">\n",
       "      <th></th>\n",
       "      <th>category</th>\n",
       "      <th>dt</th>\n",
       "      <th>summary</th>\n",
       "      <th>title</th>\n",
       "      <th>url</th>\n",
       "    </tr>\n",
       "  </thead>\n",
       "  <tbody>\n",
       "    <tr>\n",
       "      <th>3</th>\n",
       "      <td>政治</td>\n",
       "      <td>2019-06-02 15:30:00</td>\n",
       "      <td>有意代表國民黨參與2020總統大選的新北市前市長朱立倫，日前啟動下鄉之旅，今明兩天來到高雄、...</td>\n",
       "      <td>馬英九拍肩讚最近表現不錯　朱立倫反吐苦水「非常辛苦」</td>\n",
       "      <td>https://tw.news.appledaily.com/politics/realti...</td>\n",
       "    </tr>\n",
       "    <tr>\n",
       "      <th>6</th>\n",
       "      <td>財經地產</td>\n",
       "      <td>2019-06-02 15:26:00</td>\n",
       "      <td>國民黨總統參選人、鴻海董事長郭台銘今天表示，他在一個多月前，就請來衛福部前部長邱文達，擔任他...</td>\n",
       "      <td>郭台銘找邱文達任國政顧問團成員　「跟馬英九無關」</td>\n",
       "      <td>https://tw.finance.appledaily.com/realtime/201...</td>\n",
       "    </tr>\n",
       "    <tr>\n",
       "      <th>12</th>\n",
       "      <td>財經地產</td>\n",
       "      <td>2019-06-02 15:13:00</td>\n",
       "      <td>鴻海董事長郭台銘為國民黨總統初選積極跑行程，昨天出席全球孩童創意行動挑戰（Design Fo...</td>\n",
       "      <td>【郭董嗆韓總】韓國瑜也拚經濟　郭台銘：「好像都在抄我」！</td>\n",
       "      <td>https://tw.finance.appledaily.com/realtime/201...</td>\n",
       "    </tr>\n",
       "    <tr>\n",
       "      <th>26</th>\n",
       "      <td>政治</td>\n",
       "      <td>2019-06-02 14:50:00</td>\n",
       "      <td>美麗島電子報董事長吳子嘉日前爆料，高雄市長韓國瑜曾有段10年婚外情，還生下一女，又預告將在6...</td>\n",
       "      <td>原計畫明天再爆韓國瑜內幕　吳子嘉：造勢成功沒必要了</td>\n",
       "      <td>https://tw.news.appledaily.com/politics/realti...</td>\n",
       "    </tr>\n",
       "    <tr>\n",
       "      <th>53</th>\n",
       "      <td>政治</td>\n",
       "      <td>2019-06-02 13:53:00</td>\n",
       "      <td>高雄市長韓國瑜北上台北造勢，在凱達格蘭大道成功吸引逾10萬人參加，許多政治評論家直言，國民黨...</td>\n",
       "      <td>韓粉撼凱道！　王定宇：2020智力測驗</td>\n",
       "      <td>https://tw.news.appledaily.com/politics/realti...</td>\n",
       "    </tr>\n",
       "    <tr>\n",
       "      <th>67</th>\n",
       "      <td>財經地產</td>\n",
       "      <td>2019-06-02 13:09:00</td>\n",
       "      <td>跑選舉掃街造勢，不忘關心美中貿易大戰和全球經濟，國民黨初選參選人郭台銘表示，相較於看到韓粉...</td>\n",
       "      <td>郭董：比金融海嘯更大衝擊來了　如是總統早開國安會議</td>\n",
       "      <td>https://tw.finance.appledaily.com/realtime/201...</td>\n",
       "    </tr>\n",
       "    <tr>\n",
       "      <th>88</th>\n",
       "      <td>政治</td>\n",
       "      <td>2019-06-02 12:07:00</td>\n",
       "      <td>高雄市長韓國瑜昨在凱道造勢，主辦單位宣稱有40萬人到場，國民黨也有11位立委參加，包括曾經忘...</td>\n",
       "      <td>【挺韓幕後】蔣萬安等11藍委選邊站　穿針引線全靠他</td>\n",
       "      <td>https://tw.news.appledaily.com/politics/realti...</td>\n",
       "    </tr>\n",
       "  </tbody>\n",
       "</table>\n",
       "</div>"
      ],
      "text/plain": [
       "   category                  dt  \\\n",
       "3        政治 2019-06-02 15:30:00   \n",
       "6      財經地產 2019-06-02 15:26:00   \n",
       "12     財經地產 2019-06-02 15:13:00   \n",
       "26       政治 2019-06-02 14:50:00   \n",
       "53       政治 2019-06-02 13:53:00   \n",
       "67     財經地產 2019-06-02 13:09:00   \n",
       "88       政治 2019-06-02 12:07:00   \n",
       "\n",
       "                                              summary  \\\n",
       "3   有意代表國民黨參與2020總統大選的新北市前市長朱立倫，日前啟動下鄉之旅，今明兩天來到高雄、...   \n",
       "6   國民黨總統參選人、鴻海董事長郭台銘今天表示，他在一個多月前，就請來衛福部前部長邱文達，擔任他...   \n",
       "12  鴻海董事長郭台銘為國民黨總統初選積極跑行程，昨天出席全球孩童創意行動挑戰（Design Fo...   \n",
       "26  美麗島電子報董事長吳子嘉日前爆料，高雄市長韓國瑜曾有段10年婚外情，還生下一女，又預告將在6...   \n",
       "53  高雄市長韓國瑜北上台北造勢，在凱達格蘭大道成功吸引逾10萬人參加，許多政治評論家直言，國民黨...   \n",
       "67   跑選舉掃街造勢，不忘關心美中貿易大戰和全球經濟，國民黨初選參選人郭台銘表示，相較於看到韓粉...   \n",
       "88  高雄市長韓國瑜昨在凱道造勢，主辦單位宣稱有40萬人到場，國民黨也有11位立委參加，包括曾經忘...   \n",
       "\n",
       "                           title  \\\n",
       "3     馬英九拍肩讚最近表現不錯　朱立倫反吐苦水「非常辛苦」   \n",
       "6       郭台銘找邱文達任國政顧問團成員　「跟馬英九無關」   \n",
       "12  【郭董嗆韓總】韓國瑜也拚經濟　郭台銘：「好像都在抄我」！   \n",
       "26     原計畫明天再爆韓國瑜內幕　吳子嘉：造勢成功沒必要了   \n",
       "53           韓粉撼凱道！　王定宇：2020智力測驗   \n",
       "67    郭董：比金融海嘯更大衝擊來了　如是總統早開國安會議　   \n",
       "88     【挺韓幕後】蔣萬安等11藍委選邊站　穿針引線全靠他   \n",
       "\n",
       "                                                  url  \n",
       "3   https://tw.news.appledaily.com/politics/realti...  \n",
       "6   https://tw.finance.appledaily.com/realtime/201...  \n",
       "12  https://tw.finance.appledaily.com/realtime/201...  \n",
       "26  https://tw.news.appledaily.com/politics/realti...  \n",
       "53  https://tw.news.appledaily.com/politics/realti...  \n",
       "67  https://tw.finance.appledaily.com/realtime/201...  \n",
       "88  https://tw.news.appledaily.com/politics/realti...  "
      ]
     },
     "execution_count": 213,
     "metadata": {},
     "output_type": "execute_result"
    }
   ],
   "source": [
    "newsdf[newsdf['summary'].str.contains('郭台銘')]"
   ]
  },
  {
   "cell_type": "code",
   "execution_count": 214,
   "metadata": {},
   "outputs": [],
   "source": [
    "newsdf.to_clipboard()"
   ]
  },
  {
   "cell_type": "code",
   "execution_count": 215,
   "metadata": {},
   "outputs": [],
   "source": [
    "newsdf.to_csv('appledaily.csv')"
   ]
  },
  {
   "cell_type": "code",
   "execution_count": 216,
   "metadata": {},
   "outputs": [],
   "source": [
    "newsdf.to_excel('appledaily.xlsx')"
   ]
  },
  {
   "cell_type": "code",
   "execution_count": null,
   "metadata": {},
   "outputs": [],
   "source": []
  }
 ],
 "metadata": {
  "kernelspec": {
   "display_name": "Python 3",
   "language": "python",
   "name": "python3"
  },
  "language_info": {
   "codemirror_mode": {
    "name": "ipython",
    "version": 3
   },
   "file_extension": ".py",
   "mimetype": "text/x-python",
   "name": "python",
   "nbconvert_exporter": "python",
   "pygments_lexer": "ipython3",
   "version": "3.7.3"
  }
 },
 "nbformat": 4,
 "nbformat_minor": 2
}
