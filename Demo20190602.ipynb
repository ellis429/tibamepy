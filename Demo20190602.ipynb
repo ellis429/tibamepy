{
 "cells": [
  {
   "cell_type": "markdown",
   "metadata": {},
   "source": [
    "## 結構化資料處理\n",
    "- https://raw.githubusercontent.com/ywchiu/tibamepy/master/data/eps.xlsx"
   ]
  },
  {
   "cell_type": "code",
   "execution_count": 3,
   "metadata": {},
   "outputs": [],
   "source": [
    "import pandas\n",
    "eps = pandas.read_excel('C:/Users/user/Downloads/eps.xlsx', index_col = 0)"
   ]
  },
  {
   "cell_type": "code",
   "execution_count": 4,
   "metadata": {},
   "outputs": [
    {
     "data": {
      "text/html": [
       "<div>\n",
       "<style scoped>\n",
       "    .dataframe tbody tr th:only-of-type {\n",
       "        vertical-align: middle;\n",
       "    }\n",
       "\n",
       "    .dataframe tbody tr th {\n",
       "        vertical-align: top;\n",
       "    }\n",
       "\n",
       "    .dataframe thead th {\n",
       "        text-align: right;\n",
       "    }\n",
       "</style>\n",
       "<table border=\"1\" class=\"dataframe\">\n",
       "  <thead>\n",
       "    <tr style=\"text-align: right;\">\n",
       "      <th></th>\n",
       "      <th>公司代號</th>\n",
       "      <th>公司名稱</th>\n",
       "      <th>產業別</th>\n",
       "      <th>基本每股盈餘(元)</th>\n",
       "      <th>普通股每股面額</th>\n",
       "      <th>營業收入</th>\n",
       "      <th>營業利益</th>\n",
       "      <th>營業外收入及支出</th>\n",
       "      <th>稅後淨利</th>\n",
       "      <th>Year</th>\n",
       "      <th>Season</th>\n",
       "    </tr>\n",
       "  </thead>\n",
       "  <tbody>\n",
       "    <tr>\n",
       "      <th>0</th>\n",
       "      <td>1102</td>\n",
       "      <td>亞洲水泥股份有限公司</td>\n",
       "      <td>水泥工業</td>\n",
       "      <td>0.40</td>\n",
       "      <td>新台幣 10.0000元</td>\n",
       "      <td>13931550</td>\n",
       "      <td>339801</td>\n",
       "      <td>1250044</td>\n",
       "      <td>1371559</td>\n",
       "      <td>102</td>\n",
       "      <td>1</td>\n",
       "    </tr>\n",
       "    <tr>\n",
       "      <th>1</th>\n",
       "      <td>1101</td>\n",
       "      <td>台灣水泥股份有限公司</td>\n",
       "      <td>水泥工業</td>\n",
       "      <td>0.38</td>\n",
       "      <td>新台幣 10.0000元</td>\n",
       "      <td>24114047</td>\n",
       "      <td>2026729</td>\n",
       "      <td>314060</td>\n",
       "      <td>1999624</td>\n",
       "      <td>102</td>\n",
       "      <td>1</td>\n",
       "    </tr>\n",
       "    <tr>\n",
       "      <th>2</th>\n",
       "      <td>1104</td>\n",
       "      <td>環球水泥股份有限公司</td>\n",
       "      <td>水泥工業</td>\n",
       "      <td>0.30</td>\n",
       "      <td>新台幣 10.0000元</td>\n",
       "      <td>1248072</td>\n",
       "      <td>30247</td>\n",
       "      <td>156012</td>\n",
       "      <td>183441</td>\n",
       "      <td>102</td>\n",
       "      <td>1</td>\n",
       "    </tr>\n",
       "    <tr>\n",
       "      <th>3</th>\n",
       "      <td>1108</td>\n",
       "      <td>幸福水泥股份有限公司</td>\n",
       "      <td>水泥工業</td>\n",
       "      <td>0.17</td>\n",
       "      <td>新台幣 10.0000元</td>\n",
       "      <td>1203671</td>\n",
       "      <td>98223</td>\n",
       "      <td>-13612</td>\n",
       "      <td>63869</td>\n",
       "      <td>102</td>\n",
       "      <td>1</td>\n",
       "    </tr>\n",
       "    <tr>\n",
       "      <th>4</th>\n",
       "      <td>1103</td>\n",
       "      <td>嘉新水泥股份有限公司</td>\n",
       "      <td>水泥工業</td>\n",
       "      <td>0.13</td>\n",
       "      <td>新台幣 10.0000元</td>\n",
       "      <td>741189</td>\n",
       "      <td>-149811</td>\n",
       "      <td>183613</td>\n",
       "      <td>59637</td>\n",
       "      <td>102</td>\n",
       "      <td>1</td>\n",
       "    </tr>\n",
       "  </tbody>\n",
       "</table>\n",
       "</div>"
      ],
      "text/plain": [
       "   公司代號        公司名稱   產業別  基本每股盈餘(元)       普通股每股面額      營業收入     營業利益  \\\n",
       "0  1102  亞洲水泥股份有限公司  水泥工業       0.40  新台幣 10.0000元  13931550   339801   \n",
       "1  1101  台灣水泥股份有限公司  水泥工業       0.38  新台幣 10.0000元  24114047  2026729   \n",
       "2  1104  環球水泥股份有限公司  水泥工業       0.30  新台幣 10.0000元   1248072    30247   \n",
       "3  1108  幸福水泥股份有限公司  水泥工業       0.17  新台幣 10.0000元   1203671    98223   \n",
       "4  1103  嘉新水泥股份有限公司  水泥工業       0.13  新台幣 10.0000元    741189  -149811   \n",
       "\n",
       "  營業外收入及支出     稅後淨利  Year  Season  \n",
       "0  1250044  1371559   102       1  \n",
       "1   314060  1999624   102       1  \n",
       "2   156012   183441   102       1  \n",
       "3   -13612    63869   102       1  \n",
       "4   183613    59637   102       1  "
      ]
     },
     "execution_count": 4,
     "metadata": {},
     "output_type": "execute_result"
    }
   ],
   "source": [
    "eps.head()"
   ]
  },
  {
   "cell_type": "code",
   "execution_count": 6,
   "metadata": {},
   "outputs": [
    {
     "data": {
      "text/html": [
       "<div>\n",
       "<style scoped>\n",
       "    .dataframe tbody tr th:only-of-type {\n",
       "        vertical-align: middle;\n",
       "    }\n",
       "\n",
       "    .dataframe tbody tr th {\n",
       "        vertical-align: top;\n",
       "    }\n",
       "\n",
       "    .dataframe thead th {\n",
       "        text-align: right;\n",
       "    }\n",
       "</style>\n",
       "<table border=\"1\" class=\"dataframe\">\n",
       "  <thead>\n",
       "    <tr style=\"text-align: right;\">\n",
       "      <th></th>\n",
       "      <th>Date</th>\n",
       "      <th>Open</th>\n",
       "      <th>High</th>\n",
       "      <th>Low</th>\n",
       "      <th>Close</th>\n",
       "      <th>Adj Close</th>\n",
       "      <th>Volume</th>\n",
       "    </tr>\n",
       "  </thead>\n",
       "  <tbody>\n",
       "    <tr>\n",
       "      <th>0</th>\n",
       "      <td>2013-03-04</td>\n",
       "      <td>7966.220215</td>\n",
       "      <td>7966.220215</td>\n",
       "      <td>7849.520020</td>\n",
       "      <td>7867.339844</td>\n",
       "      <td>7867.339844</td>\n",
       "      <td>2278000.0</td>\n",
       "    </tr>\n",
       "    <tr>\n",
       "      <th>1</th>\n",
       "      <td>2013-03-05</td>\n",
       "      <td>7910.439941</td>\n",
       "      <td>7939.850098</td>\n",
       "      <td>7882.560059</td>\n",
       "      <td>7932.709961</td>\n",
       "      <td>7932.709961</td>\n",
       "      <td>2246200.0</td>\n",
       "    </tr>\n",
       "    <tr>\n",
       "      <th>2</th>\n",
       "      <td>2013-03-06</td>\n",
       "      <td>7958.109863</td>\n",
       "      <td>7982.390137</td>\n",
       "      <td>7936.859863</td>\n",
       "      <td>7950.299805</td>\n",
       "      <td>7950.299805</td>\n",
       "      <td>2329600.0</td>\n",
       "    </tr>\n",
       "    <tr>\n",
       "      <th>3</th>\n",
       "      <td>2013-03-07</td>\n",
       "      <td>7950.899902</td>\n",
       "      <td>7984.290039</td>\n",
       "      <td>7942.370117</td>\n",
       "      <td>7960.509766</td>\n",
       "      <td>7960.509766</td>\n",
       "      <td>2261400.0</td>\n",
       "    </tr>\n",
       "    <tr>\n",
       "      <th>4</th>\n",
       "      <td>2013-03-08</td>\n",
       "      <td>7981.000000</td>\n",
       "      <td>8029.140137</td>\n",
       "      <td>7981.000000</td>\n",
       "      <td>8015.140137</td>\n",
       "      <td>8015.140137</td>\n",
       "      <td>2719000.0</td>\n",
       "    </tr>\n",
       "  </tbody>\n",
       "</table>\n",
       "</div>"
      ],
      "text/plain": [
       "         Date         Open         High          Low        Close  \\\n",
       "0  2013-03-04  7966.220215  7966.220215  7849.520020  7867.339844   \n",
       "1  2013-03-05  7910.439941  7939.850098  7882.560059  7932.709961   \n",
       "2  2013-03-06  7958.109863  7982.390137  7936.859863  7950.299805   \n",
       "3  2013-03-07  7950.899902  7984.290039  7942.370117  7960.509766   \n",
       "4  2013-03-08  7981.000000  8029.140137  7981.000000  8015.140137   \n",
       "\n",
       "     Adj Close     Volume  \n",
       "0  7867.339844  2278000.0  \n",
       "1  7932.709961  2246200.0  \n",
       "2  7950.299805  2329600.0  \n",
       "3  7960.509766  2261400.0  \n",
       "4  8015.140137  2719000.0  "
      ]
     },
     "execution_count": 6,
     "metadata": {},
     "output_type": "execute_result"
    }
   ],
   "source": [
    "import pandas\n",
    "stock = pandas.read_csv('https://raw.githubusercontent.com/ywchiu/tibamepy/master/data/TWII.csv')\n",
    "stock.head()"
   ]
  },
  {
   "cell_type": "markdown",
   "metadata": {},
   "source": [
    "## 半結構化資料處理"
   ]
  },
  {
   "cell_type": "code",
   "execution_count": 7,
   "metadata": {},
   "outputs": [
    {
     "data": {
      "text/html": [
       "<div>\n",
       "<style scoped>\n",
       "    .dataframe tbody tr th:only-of-type {\n",
       "        vertical-align: middle;\n",
       "    }\n",
       "\n",
       "    .dataframe tbody tr th {\n",
       "        vertical-align: top;\n",
       "    }\n",
       "\n",
       "    .dataframe thead th {\n",
       "        text-align: right;\n",
       "    }\n",
       "</style>\n",
       "<table border=\"1\" class=\"dataframe\">\n",
       "  <thead>\n",
       "    <tr style=\"text-align: right;\">\n",
       "      <th></th>\n",
       "      <th>Date</th>\n",
       "      <th>Open</th>\n",
       "      <th>High</th>\n",
       "      <th>Low</th>\n",
       "      <th>Close</th>\n",
       "      <th>Volume</th>\n",
       "      <th>Adj Close</th>\n",
       "    </tr>\n",
       "  </thead>\n",
       "  <tbody>\n",
       "    <tr>\n",
       "      <th>0</th>\n",
       "      <td>2016-07-21</td>\n",
       "      <td>171.0</td>\n",
       "      <td>172.0</td>\n",
       "      <td>170.0</td>\n",
       "      <td>172.0</td>\n",
       "      <td>33130000</td>\n",
       "      <td>172.0</td>\n",
       "    </tr>\n",
       "    <tr>\n",
       "      <th>1</th>\n",
       "      <td>2016-07-20</td>\n",
       "      <td>170.0</td>\n",
       "      <td>170.5</td>\n",
       "      <td>169.0</td>\n",
       "      <td>170.0</td>\n",
       "      <td>38053000</td>\n",
       "      <td>170.0</td>\n",
       "    </tr>\n",
       "    <tr>\n",
       "      <th>2</th>\n",
       "      <td>2016-07-19</td>\n",
       "      <td>170.5</td>\n",
       "      <td>170.5</td>\n",
       "      <td>169.0</td>\n",
       "      <td>170.5</td>\n",
       "      <td>42456000</td>\n",
       "      <td>170.5</td>\n",
       "    </tr>\n",
       "    <tr>\n",
       "      <th>3</th>\n",
       "      <td>2016-07-18</td>\n",
       "      <td>168.0</td>\n",
       "      <td>170.0</td>\n",
       "      <td>168.0</td>\n",
       "      <td>169.5</td>\n",
       "      <td>24749000</td>\n",
       "      <td>169.5</td>\n",
       "    </tr>\n",
       "    <tr>\n",
       "      <th>4</th>\n",
       "      <td>2016-07-15</td>\n",
       "      <td>169.5</td>\n",
       "      <td>169.5</td>\n",
       "      <td>169.5</td>\n",
       "      <td>169.5</td>\n",
       "      <td>41000</td>\n",
       "      <td>169.5</td>\n",
       "    </tr>\n",
       "  </tbody>\n",
       "</table>\n",
       "</div>"
      ],
      "text/plain": [
       "        Date   Open   High    Low  Close    Volume  Adj Close\n",
       "0 2016-07-21  171.0  172.0  170.0  172.0  33130000      172.0\n",
       "1 2016-07-20  170.0  170.5  169.0  170.0  38053000      170.0\n",
       "2 2016-07-19  170.5  170.5  169.0  170.5  42456000      170.5\n",
       "3 2016-07-18  168.0  170.0  168.0  169.5  24749000      169.5\n",
       "4 2016-07-15  169.5  169.5  169.5  169.5     41000      169.5"
      ]
     },
     "execution_count": 7,
     "metadata": {},
     "output_type": "execute_result"
    }
   ],
   "source": [
    "import pandas\n",
    "tw2330 = pandas.read_json('https://raw.githubusercontent.com/ywchiu/tibamepy/master/data/2330.json')\n",
    "tw2330"
   ]
  },
  {
   "cell_type": "code",
   "execution_count": 12,
   "metadata": {},
   "outputs": [],
   "source": [
    "from xml.dom import minidom\n",
    "from xml.etree import ElementTree\n",
    "\n",
    "f = open('C:/Users/user/Downloads/1435449602.xml', 'r', encoding='utf-8')\n",
    "events=ElementTree.fromstring(f.read())\n",
    "f.close()"
   ]
  },
  {
   "cell_type": "code",
   "execution_count": 13,
   "metadata": {},
   "outputs": [
    {
     "name": "stdout",
     "output_type": "stream",
     "text": [
      "八仙塵爆  五相關人依公共危險重傷害法辦\n"
     ]
    }
   ],
   "source": [
    "for elem in events.findall('./channel/item'):\n",
    "    guid        = elem.find('guid').text\n",
    "    title       = elem.find('title').text\n",
    "    description = elem.find('description').text\n",
    "    pubDate     = elem.find('pubDate').text\n",
    "    source      = elem.find('source').text\n",
    "    print(title)\n",
    "    break\n",
    "    "
   ]
  },
  {
   "cell_type": "markdown",
   "metadata": {},
   "source": [
    "## PDF 處理\n",
    "- https://github.com/ywchiu/cdc_course/blob/master/PDF%20Decrypt.ipynb"
   ]
  },
  {
   "cell_type": "markdown",
   "metadata": {},
   "source": [
    "## GET"
   ]
  },
  {
   "cell_type": "code",
   "execution_count": 14,
   "metadata": {},
   "outputs": [
    {
     "data": {
      "text/plain": [
       "<Response [200]>"
      ]
     },
     "execution_count": 14,
     "metadata": {},
     "output_type": "execute_result"
    }
   ],
   "source": [
    "import requests\n",
    "res = requests.get('https://tw.appledaily.com/new/realtime')\n",
    "res"
   ]
  },
  {
   "cell_type": "code",
   "execution_count": 16,
   "metadata": {},
   "outputs": [],
   "source": [
    "#res.text"
   ]
  },
  {
   "cell_type": "code",
   "execution_count": 17,
   "metadata": {},
   "outputs": [
    {
     "data": {
      "text/plain": [
       "requests.models.Response"
      ]
     },
     "execution_count": 17,
     "metadata": {},
     "output_type": "execute_result"
    }
   ],
   "source": [
    "type(res)"
   ]
  },
  {
   "cell_type": "code",
   "execution_count": 18,
   "metadata": {},
   "outputs": [
    {
     "name": "stdout",
     "output_type": "stream",
     "text": [
      "['__attrs__', '__bool__', '__class__', '__delattr__', '__dict__', '__dir__', '__doc__', '__enter__', '__eq__', '__exit__', '__format__', '__ge__', '__getattribute__', '__getstate__', '__gt__', '__hash__', '__init__', '__init_subclass__', '__iter__', '__le__', '__lt__', '__module__', '__ne__', '__new__', '__nonzero__', '__reduce__', '__reduce_ex__', '__repr__', '__setattr__', '__setstate__', '__sizeof__', '__str__', '__subclasshook__', '__weakref__', '_content', '_content_consumed', '_next', 'apparent_encoding', 'close', 'connection', 'content', 'cookies', 'elapsed', 'encoding', 'headers', 'history', 'is_permanent_redirect', 'is_redirect', 'iter_content', 'iter_lines', 'json', 'links', 'next', 'ok', 'raise_for_status', 'raw', 'reason', 'request', 'status_code', 'text', 'url']\n"
     ]
    }
   ],
   "source": [
    "print(dir(res))"
   ]
  },
  {
   "cell_type": "markdown",
   "metadata": {},
   "source": [
    "## HTTP Status\n",
    "- https://zh.wikipedia.org/wiki/HTTP%E7%8A%B6%E6%80%81%E7%A0%81"
   ]
  },
  {
   "cell_type": "markdown",
   "metadata": {},
   "source": [
    "## POST"
   ]
  },
  {
   "cell_type": "code",
   "execution_count": 19,
   "metadata": {},
   "outputs": [
    {
     "data": {
      "text/plain": [
       "<Response [200]>"
      ]
     },
     "execution_count": 19,
     "metadata": {},
     "output_type": "execute_result"
    }
   ],
   "source": [
    "import requests\n",
    "url = 'http://www.thsrc.com.tw/tw/TimeTable/Search'\n",
    "\n",
    "payload = {\n",
    "'StartStationName'  :  '台北站',\n",
    "'EndStationName'    :  '新竹站',\n",
    "'SearchType'        :  'S',\n",
    "'StartStation'      :  '977abb69-413a-4ccf-a109-0272c24fd490',\n",
    "'EndStation'        :  'a7a04c89-900b-4798-95a3-c01c455622f4',\n",
    "'DepartueSearchDate':  '2019/06/02',\n",
    "'DepartueSearchTime':  '21:00'  \n",
    "}\n",
    "\n",
    "res = requests.post(url, data = payload)\n",
    "res"
   ]
  },
  {
   "cell_type": "code",
   "execution_count": 23,
   "metadata": {},
   "outputs": [],
   "source": [
    "#res.json()['data']"
   ]
  },
  {
   "cell_type": "markdown",
   "metadata": {},
   "source": [
    "## 台灣證交所\n",
    "- http://www.twse.com.tw/zh/page/trading/exchange/MI_INDEX.html"
   ]
  },
  {
   "cell_type": "code",
   "execution_count": 24,
   "metadata": {},
   "outputs": [
    {
     "data": {
      "text/plain": [
       "<Response [200]>"
      ]
     },
     "execution_count": 24,
     "metadata": {},
     "output_type": "execute_result"
    }
   ],
   "source": [
    "import requests\n",
    "res = requests.get('http://www.twse.com.tw/exchangeReport/MI_INDEX?response=json&date=&type=&_=1559447273004')\n",
    "res"
   ]
  },
  {
   "cell_type": "code",
   "execution_count": 27,
   "metadata": {},
   "outputs": [],
   "source": [
    "#res.json()"
   ]
  },
  {
   "cell_type": "code",
   "execution_count": 29,
   "metadata": {},
   "outputs": [
    {
     "data": {
      "text/plain": [
       "[['寶島股價報酬指數', '14,435.06', \"<p style ='color:red'>+</p>\", '161.08', '1.13'],\n",
       " ['發行量加權股價報酬指數', '18,730.94', \"<p style ='color:red'>+</p>\", '206.16', '1.11'],\n",
       " ['臺灣公司治理100報酬指數', '7,021.47', \"<p style ='color:red'>+</p>\", '86.88', '1.25'],\n",
       " ['臺灣50報酬指數', '14,138.53', \"<p style ='color:red'>+</p>\", '195.03', '1.40'],\n",
       " ['臺灣中型100報酬指數', '12,740.81', \"<p style ='color:red'>+</p>\", '140.56', '1.12'],\n",
       " ['臺灣資訊科技報酬指數', '17,008.37', \"<p style ='color:red'>+</p>\", '338.22', '2.03'],\n",
       " ['臺灣發達報酬指數', '13,314.88', \"<p style ='color:red'>+</p>\", '111.46', '0.84'],\n",
       " ['臺灣高股息報酬指數', '12,715.32', \"<p style ='color:red'>+</p>\", '195.09', '1.56'],\n",
       " ['臺灣永續報酬指數', '5,501.20', \"<p style ='color:red'>+</p>\", '67.38', '1.24'],\n",
       " ['臺灣就業99報酬指數', '8,154.94', \"<p style ='color:red'>+</p>\", '99.31', '1.23'],\n",
       " ['臺灣高薪100報酬指數', '7,049.32', \"<p style ='color:red'>+</p>\", '79.65', '1.14'],\n",
       " ['未含金融電子報酬指數', '23,161.92', \"<p style ='color:red'>+</p>\", '109.66', '0.48'],\n",
       " ['小型股300報酬指數', '7,105.35', \"<p style ='color:red'>+</p>\", '40.54', '0.57'],\n",
       " ['漲升股利150報酬指數', '6,766.18', \"<p style ='color:red'>+</p>\", '75.95', '1.14'],\n",
       " ['漲升股利100報酬指數', '6,801.33', \"<p style ='color:red'>+</p>\", '75.39', '1.12'],\n",
       " ['藍籌30報酬指數', '6,080.48', \"<p style ='color:red'>+</p>\", '86.08', '1.44'],\n",
       " ['工業菁英30報酬指數', '6,411.00', \"<p style ='color:red'>+</p>\", '110.00', '1.75'],\n",
       " ['電子菁英30報酬指數', '5,914.58', \"<p style ='color:red'>+</p>\", '94.08', '1.62'],\n",
       " ['低波動股利精選30報酬指數', '6,573.43', \"<p style ='color:red'>+</p>\", '52.49', '0.80'],\n",
       " ['低貝塔100報酬指數', '6,461.71', \"<p style ='color:red'>+</p>\", '35.03', '0.55'],\n",
       " ['中小型精選50報酬指數', '6,182.47', \"<p style ='color:red'>+</p>\", '51.88', '0.85'],\n",
       " ['中小型A級動能50報酬指數', '6,139.68', \"<p style ='color:red'>+</p>\", '35.78', '0.59'],\n",
       " ['特選高息低波報酬指數', '5,653.50', \"<p style ='color:red'>+</p>\", '44.76', '0.80'],\n",
       " ['臺灣生技報酬指數', '4,981.05', \"<p style ='color:green'>-</p>\", '3.80', '-0.08'],\n",
       " ['特選內需高收益報酬指數', '6,115.63', \"<p style ='color:red'>+</p>\", '21.78', '0.36'],\n",
       " ['臺灣中小型公司治理報酬指數', '5,628.10', \"<p style ='color:red'>+</p>\", '42.17', '0.75'],\n",
       " ['臺灣IPO報酬指數', '5,257.47', \"<p style ='color:green'>-</p>\", '18.91', '-0.36'],\n",
       " ['價值投資報酬指數', '5,850.34', \"<p style ='color:red'>+</p>\", '44.92', '0.77'],\n",
       " ['存股雙十等權重報酬指數', '5,061.01', \"<p style ='color:red'>+</p>\", '60.99', '1.22'],\n",
       " ['特選大蘋果報酬指數', '4,908.80', \"<p style ='color:red'>+</p>\", '85.43', '1.77'],\n",
       " ['中小型300報酬指數', '5,479.01', \"<p style ='color:red'>+</p>\", '47.04', '0.87'],\n",
       " ['特股高息20報酬指數', '5,220.03', \"<p style ='color:red'>+</p>\", '18.19', '0.35'],\n",
       " ['臺灣500報酬指數', '5,383.15', \"<p style ='color:red'>+</p>\", '61.62', '1.16'],\n",
       " ['臺灣勞工權益報酬指數', '5,074.73', \"<p style ='color:red'>+</p>\", '52.99', '1.06'],\n",
       " ['水泥類報酬指數', '250.24', \"<p style ='color:red'>+</p>\", '0.54', '0.22'],\n",
       " ['食品類報酬指數', '2,530.50', \"<p style ='color:red'>+</p>\", '20.04', '0.80'],\n",
       " ['塑膠類報酬指數', '435.66', \"<p style ='color:red'>+</p>\", '2.48', '0.57'],\n",
       " ['紡織纖維類報酬指數', '821.50', \"<p style ='color:red'>+</p>\", '5.26', '0.64'],\n",
       " ['電機機械類報酬指數', '228.31', \"<p style ='color:red'>+</p>\", '2.58', '1.14'],\n",
       " ['電器電纜類報酬指數', '61.05', \"<p style ='color:red'>+</p>\", '0.67', '1.11'],\n",
       " ['化學生技醫療類報酬指數', '139.32', \"<p style ='color:red'>+</p>\", '0.37', '0.27'],\n",
       " ['化學類報酬指數', '158.59', \"<p style ='color:red'>+</p>\", '0.95', '0.60'],\n",
       " ['生技醫療類報酬指數', '81.01', \"<p style ='color:green'>-</p>\", '0.12', '-0.15'],\n",
       " ['玻璃陶瓷類報酬指數', '37.45', \"<p style ='color:green'>-</p>\", '0.02', '-0.05'],\n",
       " ['造紙類報酬指數', '250.43', \"<p style ='color:green'>-</p>\", '1.29', '-0.51'],\n",
       " ['鋼鐵類報酬指數', '152.00', \"<p style ='color:red'>+</p>\", '1.03', '0.68'],\n",
       " ['橡膠類報酬指數', '357.07', \"<p style ='color:red'>+</p>\", '0.87', '0.24'],\n",
       " ['汽車類報酬指數', '424.84', \"<p style ='color:red'>+</p>\", '0.59', '0.14'],\n",
       " ['電子工業類報酬指數', '673.80', \"<p style ='color:red'>+</p>\", '10.55', '1.59'],\n",
       " ['半導體類報酬指數', '250.10', \"<p style ='color:red'>+</p>\", '5.17', '2.11'],\n",
       " ['電腦及週邊設備類報酬指數', '160.85', \"<p style ='color:red'>+</p>\", '1.37', '0.86'],\n",
       " ['光電類報酬指數', '45.68', \"<p style ='color:red'>+</p>\", '1.35', '3.05'],\n",
       " ['通信網路類報酬指數', '231.42', \"<p style ='color:red'>+</p>\", '0.68', '0.29'],\n",
       " ['電子零組件類報酬指數', '148.65', \"<p style ='color:red'>+</p>\", '1.79', '1.22'],\n",
       " ['電子通路類報酬指數', '213.97', \"<p style ='color:red'>+</p>\", '2.20', '1.04'],\n",
       " ['資訊服務類報酬指數', '204.30', \"<p style ='color:red'>+</p>\", '1.76', '0.87'],\n",
       " ['其他電子類報酬指數', '98.48', \"<p style ='color:red'>+</p>\", '0.62', '0.63'],\n",
       " ['建材營造類報酬指數', '481.40', \"<p style ='color:red'>+</p>\", '2.67', '0.56'],\n",
       " ['航運類報酬指數', '89.86', \"<p style ='color:red'>+</p>\", '0.68', '0.76'],\n",
       " ['觀光類報酬指數', '127.06', \"<p style ='color:red'>+</p>\", '0.50', '0.40'],\n",
       " ['金融保險類報酬指數', '1,887.59', \"<p style ='color:red'>+</p>\", '17.32', '0.93'],\n",
       " ['貿易百貨類報酬指數', '330.60', \"<p style ='color:green'>-</p>\", '1.20', '-0.36'],\n",
       " ['油電燃氣類報酬指數', '205.13', \"<p style ='color:red'>+</p>\", '1.75', '0.86'],\n",
       " ['其他類報酬指數', '404.20', \"<p style ='color:green'>-</p>\", '0.70', '-0.17']]"
      ]
     },
     "execution_count": 29,
     "metadata": {},
     "output_type": "execute_result"
    }
   ],
   "source": [
    "jd = res.json()\n",
    "jd['data2']"
   ]
  },
  {
   "cell_type": "code",
   "execution_count": 30,
   "metadata": {},
   "outputs": [],
   "source": [
    "import pandas\n",
    "df = pandas.DataFrame(jd['data2'])"
   ]
  },
  {
   "cell_type": "code",
   "execution_count": 32,
   "metadata": {},
   "outputs": [
    {
     "data": {
      "text/html": [
       "<div>\n",
       "<style scoped>\n",
       "    .dataframe tbody tr th:only-of-type {\n",
       "        vertical-align: middle;\n",
       "    }\n",
       "\n",
       "    .dataframe tbody tr th {\n",
       "        vertical-align: top;\n",
       "    }\n",
       "\n",
       "    .dataframe thead th {\n",
       "        text-align: right;\n",
       "    }\n",
       "</style>\n",
       "<table border=\"1\" class=\"dataframe\">\n",
       "  <thead>\n",
       "    <tr style=\"text-align: right;\">\n",
       "      <th></th>\n",
       "      <th>0</th>\n",
       "      <th>1</th>\n",
       "      <th>2</th>\n",
       "      <th>3</th>\n",
       "      <th>4</th>\n",
       "    </tr>\n",
       "  </thead>\n",
       "  <tbody>\n",
       "    <tr>\n",
       "      <th>0</th>\n",
       "      <td>寶島股價報酬指數</td>\n",
       "      <td>14,435.06</td>\n",
       "      <td>&lt;p style ='color:red'&gt;+&lt;/p&gt;</td>\n",
       "      <td>161.08</td>\n",
       "      <td>1.13</td>\n",
       "    </tr>\n",
       "    <tr>\n",
       "      <th>1</th>\n",
       "      <td>發行量加權股價報酬指數</td>\n",
       "      <td>18,730.94</td>\n",
       "      <td>&lt;p style ='color:red'&gt;+&lt;/p&gt;</td>\n",
       "      <td>206.16</td>\n",
       "      <td>1.11</td>\n",
       "    </tr>\n",
       "    <tr>\n",
       "      <th>2</th>\n",
       "      <td>臺灣公司治理100報酬指數</td>\n",
       "      <td>7,021.47</td>\n",
       "      <td>&lt;p style ='color:red'&gt;+&lt;/p&gt;</td>\n",
       "      <td>86.88</td>\n",
       "      <td>1.25</td>\n",
       "    </tr>\n",
       "    <tr>\n",
       "      <th>3</th>\n",
       "      <td>臺灣50報酬指數</td>\n",
       "      <td>14,138.53</td>\n",
       "      <td>&lt;p style ='color:red'&gt;+&lt;/p&gt;</td>\n",
       "      <td>195.03</td>\n",
       "      <td>1.40</td>\n",
       "    </tr>\n",
       "    <tr>\n",
       "      <th>4</th>\n",
       "      <td>臺灣中型100報酬指數</td>\n",
       "      <td>12,740.81</td>\n",
       "      <td>&lt;p style ='color:red'&gt;+&lt;/p&gt;</td>\n",
       "      <td>140.56</td>\n",
       "      <td>1.12</td>\n",
       "    </tr>\n",
       "  </tbody>\n",
       "</table>\n",
       "</div>"
      ],
      "text/plain": [
       "               0          1                            2       3     4\n",
       "0       寶島股價報酬指數  14,435.06  <p style ='color:red'>+</p>  161.08  1.13\n",
       "1    發行量加權股價報酬指數  18,730.94  <p style ='color:red'>+</p>  206.16  1.11\n",
       "2  臺灣公司治理100報酬指數   7,021.47  <p style ='color:red'>+</p>   86.88  1.25\n",
       "3       臺灣50報酬指數  14,138.53  <p style ='color:red'>+</p>  195.03  1.40\n",
       "4    臺灣中型100報酬指數  12,740.81  <p style ='color:red'>+</p>  140.56  1.12"
      ]
     },
     "execution_count": 32,
     "metadata": {},
     "output_type": "execute_result"
    }
   ],
   "source": [
    "df.head()"
   ]
  },
  {
   "cell_type": "code",
   "execution_count": null,
   "metadata": {},
   "outputs": [],
   "source": [
    "import time\n",
    "for i in range(1,10):\n",
    "    res = requests.get('http://www.twse.com.tw/exchangeReport/MI_INDEX?response=json&date=20190530&type=MS&_=1559447273009')\n",
    "    time.sleep(3)  "
   ]
  },
  {
   "cell_type": "code",
   "execution_count": 37,
   "metadata": {},
   "outputs": [
    {
     "data": {
      "text/plain": [
       "'I know Mary very well'"
      ]
     },
     "execution_count": 37,
     "metadata": {},
     "output_type": "execute_result"
    }
   ],
   "source": [
    "s = 'I know {} very well'\n",
    "s.format('Mary')"
   ]
  },
  {
   "cell_type": "code",
   "execution_count": 39,
   "metadata": {},
   "outputs": [
    {
     "name": "stdout",
     "output_type": "stream",
     "text": [
      "20190601\n",
      "20190531\n",
      "20190530\n",
      "20190529\n",
      "20190528\n",
      "20190527\n",
      "20190526\n",
      "20190525\n",
      "20190524\n"
     ]
    }
   ],
   "source": [
    "import time\n",
    "from datetime import datetime, timedelta\n",
    "current_time = datetime.now()\n",
    "dataary = []\n",
    "for i in range(1,10):\n",
    "    dt = (current_time - timedelta(days = i)).strftime('%Y%m%d')\n",
    "    print(dt)\n",
    "    res = requests.get('http://www.twse.com.tw/exchangeReport/MI_INDEX?response=json&date={}&type=MS&_=1559447273009'.format(dt))\n",
    "    df = pandas.DataFrame(jd['data2'])\n",
    "    df['date'] = dt\n",
    "    dataary.append(df)\n",
    "    time.sleep(3)\n"
   ]
  },
  {
   "cell_type": "code",
   "execution_count": 41,
   "metadata": {
    "scrolled": true
   },
   "outputs": [
    {
     "data": {
      "text/html": [
       "<div>\n",
       "<style scoped>\n",
       "    .dataframe tbody tr th:only-of-type {\n",
       "        vertical-align: middle;\n",
       "    }\n",
       "\n",
       "    .dataframe tbody tr th {\n",
       "        vertical-align: top;\n",
       "    }\n",
       "\n",
       "    .dataframe thead th {\n",
       "        text-align: right;\n",
       "    }\n",
       "</style>\n",
       "<table border=\"1\" class=\"dataframe\">\n",
       "  <thead>\n",
       "    <tr style=\"text-align: right;\">\n",
       "      <th></th>\n",
       "      <th>0</th>\n",
       "      <th>1</th>\n",
       "      <th>2</th>\n",
       "      <th>3</th>\n",
       "      <th>4</th>\n",
       "      <th>date</th>\n",
       "    </tr>\n",
       "  </thead>\n",
       "  <tbody>\n",
       "    <tr>\n",
       "      <th>0</th>\n",
       "      <td>寶島股價報酬指數</td>\n",
       "      <td>14,435.06</td>\n",
       "      <td>&lt;p style ='color:red'&gt;+&lt;/p&gt;</td>\n",
       "      <td>161.08</td>\n",
       "      <td>1.13</td>\n",
       "      <td>20190601</td>\n",
       "    </tr>\n",
       "    <tr>\n",
       "      <th>1</th>\n",
       "      <td>發行量加權股價報酬指數</td>\n",
       "      <td>18,730.94</td>\n",
       "      <td>&lt;p style ='color:red'&gt;+&lt;/p&gt;</td>\n",
       "      <td>206.16</td>\n",
       "      <td>1.11</td>\n",
       "      <td>20190601</td>\n",
       "    </tr>\n",
       "    <tr>\n",
       "      <th>2</th>\n",
       "      <td>臺灣公司治理100報酬指數</td>\n",
       "      <td>7,021.47</td>\n",
       "      <td>&lt;p style ='color:red'&gt;+&lt;/p&gt;</td>\n",
       "      <td>86.88</td>\n",
       "      <td>1.25</td>\n",
       "      <td>20190601</td>\n",
       "    </tr>\n",
       "    <tr>\n",
       "      <th>3</th>\n",
       "      <td>臺灣50報酬指數</td>\n",
       "      <td>14,138.53</td>\n",
       "      <td>&lt;p style ='color:red'&gt;+&lt;/p&gt;</td>\n",
       "      <td>195.03</td>\n",
       "      <td>1.40</td>\n",
       "      <td>20190601</td>\n",
       "    </tr>\n",
       "    <tr>\n",
       "      <th>4</th>\n",
       "      <td>臺灣中型100報酬指數</td>\n",
       "      <td>12,740.81</td>\n",
       "      <td>&lt;p style ='color:red'&gt;+&lt;/p&gt;</td>\n",
       "      <td>140.56</td>\n",
       "      <td>1.12</td>\n",
       "      <td>20190601</td>\n",
       "    </tr>\n",
       "  </tbody>\n",
       "</table>\n",
       "</div>"
      ],
      "text/plain": [
       "               0          1                            2       3     4  \\\n",
       "0       寶島股價報酬指數  14,435.06  <p style ='color:red'>+</p>  161.08  1.13   \n",
       "1    發行量加權股價報酬指數  18,730.94  <p style ='color:red'>+</p>  206.16  1.11   \n",
       "2  臺灣公司治理100報酬指數   7,021.47  <p style ='color:red'>+</p>   86.88  1.25   \n",
       "3       臺灣50報酬指數  14,138.53  <p style ='color:red'>+</p>  195.03  1.40   \n",
       "4    臺灣中型100報酬指數  12,740.81  <p style ='color:red'>+</p>  140.56  1.12   \n",
       "\n",
       "       date  \n",
       "0  20190601  \n",
       "1  20190601  \n",
       "2  20190601  \n",
       "3  20190601  \n",
       "4  20190601  "
      ]
     },
     "execution_count": 41,
     "metadata": {},
     "output_type": "execute_result"
    }
   ],
   "source": [
    "dfall = pandas.concat(dataary)\n",
    "dfall.head()"
   ]
  },
  {
   "cell_type": "markdown",
   "metadata": {},
   "source": [
    "## 資料剖析"
   ]
  },
  {
   "cell_type": "code",
   "execution_count": 43,
   "metadata": {},
   "outputs": [],
   "source": [
    "import requests\n",
    "res = requests.get('https://tw.appledaily.com/new/realtime')\n",
    "#res.text"
   ]
  },
  {
   "cell_type": "code",
   "execution_count": 44,
   "metadata": {},
   "outputs": [],
   "source": [
    "from bs4 import BeautifulSoup\n",
    "html_sample = '''\n",
    "<html>\n",
    "<body>\n",
    "<h1 id=\"title\">Hello World</h1>\n",
    "<a href=\"#\" class=\"link\">This is link1</a>\n",
    "<a href=\"# link2\" class=\"link\">This is link2</a>\n",
    "</body>\n",
    "</html>'''\n",
    "\n",
    "\n",
    "soup = BeautifulSoup(html_sample, 'lxml')"
   ]
  },
  {
   "cell_type": "code",
   "execution_count": 46,
   "metadata": {},
   "outputs": [
    {
     "data": {
      "text/plain": [
       "bs4.BeautifulSoup"
      ]
     },
     "execution_count": 46,
     "metadata": {},
     "output_type": "execute_result"
    }
   ],
   "source": [
    "type(soup)"
   ]
  },
  {
   "cell_type": "code",
   "execution_count": 49,
   "metadata": {},
   "outputs": [
    {
     "name": "stdout",
     "output_type": "stream",
     "text": [
      "\n",
      "\n",
      "Hello World\n",
      "This is link1\n",
      "This is link2\n",
      "\n",
      "\n"
     ]
    }
   ],
   "source": [
    "print(soup.text)"
   ]
  },
  {
   "cell_type": "code",
   "execution_count": 51,
   "metadata": {},
   "outputs": [
    {
     "data": {
      "text/plain": [
       "<h1 id=\"title\">Hello World</h1>"
      ]
     },
     "execution_count": 51,
     "metadata": {},
     "output_type": "execute_result"
    }
   ],
   "source": [
    "soup.select_one('h1')"
   ]
  },
  {
   "cell_type": "code",
   "execution_count": 53,
   "metadata": {},
   "outputs": [
    {
     "data": {
      "text/plain": [
       "bs4.element.Tag"
      ]
     },
     "execution_count": 53,
     "metadata": {},
     "output_type": "execute_result"
    }
   ],
   "source": [
    "type(soup.select_one('h1'))"
   ]
  },
  {
   "cell_type": "code",
   "execution_count": 55,
   "metadata": {},
   "outputs": [
    {
     "data": {
      "text/plain": [
       "'Hello World'"
      ]
     },
     "execution_count": 55,
     "metadata": {},
     "output_type": "execute_result"
    }
   ],
   "source": [
    "soup.select_one('h1').text"
   ]
  },
  {
   "cell_type": "code",
   "execution_count": 56,
   "metadata": {},
   "outputs": [
    {
     "data": {
      "text/plain": [
       "<a class=\"link\" href=\"#\">This is link1</a>"
      ]
     },
     "execution_count": 56,
     "metadata": {},
     "output_type": "execute_result"
    }
   ],
   "source": [
    "soup.select_one('a')"
   ]
  },
  {
   "cell_type": "code",
   "execution_count": 58,
   "metadata": {},
   "outputs": [
    {
     "data": {
      "text/plain": [
       "bs4.element.Tag"
      ]
     },
     "execution_count": 58,
     "metadata": {},
     "output_type": "execute_result"
    }
   ],
   "source": [
    "type(soup.select_one('a'))"
   ]
  },
  {
   "cell_type": "code",
   "execution_count": 57,
   "metadata": {},
   "outputs": [
    {
     "data": {
      "text/plain": [
       "[<a class=\"link\" href=\"#\">This is link1</a>,\n",
       " <a class=\"link\" href=\"# link2\">This is link2</a>]"
      ]
     },
     "execution_count": 57,
     "metadata": {},
     "output_type": "execute_result"
    }
   ],
   "source": [
    "soup.select('a')"
   ]
  },
  {
   "cell_type": "code",
   "execution_count": 60,
   "metadata": {},
   "outputs": [
    {
     "data": {
      "text/plain": [
       "list"
      ]
     },
     "execution_count": 60,
     "metadata": {},
     "output_type": "execute_result"
    }
   ],
   "source": [
    "type(soup.select('a'))"
   ]
  },
  {
   "cell_type": "code",
   "execution_count": 62,
   "metadata": {},
   "outputs": [
    {
     "data": {
      "text/plain": [
       "bs4.element.Tag"
      ]
     },
     "execution_count": 62,
     "metadata": {},
     "output_type": "execute_result"
    }
   ],
   "source": [
    "type(soup.select('a')[0])"
   ]
  },
  {
   "cell_type": "code",
   "execution_count": 63,
   "metadata": {},
   "outputs": [
    {
     "data": {
      "text/plain": [
       "<a class=\"link\" href=\"# link2\">This is link2</a>"
      ]
     },
     "execution_count": 63,
     "metadata": {},
     "output_type": "execute_result"
    }
   ],
   "source": [
    "soup.select('a')[1]"
   ]
  },
  {
   "cell_type": "code",
   "execution_count": 65,
   "metadata": {},
   "outputs": [
    {
     "data": {
      "text/plain": [
       "'This is link2'"
      ]
     },
     "execution_count": 65,
     "metadata": {},
     "output_type": "execute_result"
    }
   ],
   "source": [
    "soup.select('a')[1].text"
   ]
  },
  {
   "cell_type": "code",
   "execution_count": 66,
   "metadata": {},
   "outputs": [
    {
     "data": {
      "text/plain": [
       "[<h1 id=\"title\">Hello World</h1>]"
      ]
     },
     "execution_count": 66,
     "metadata": {},
     "output_type": "execute_result"
    }
   ],
   "source": [
    "soup.select('h1')"
   ]
  },
  {
   "cell_type": "markdown",
   "metadata": {},
   "source": [
    "## By CSS"
   ]
  },
  {
   "cell_type": "code",
   "execution_count": 68,
   "metadata": {},
   "outputs": [
    {
     "data": {
      "text/plain": [
       "[<h1 id=\"title\">Hello World</h1>]"
      ]
     },
     "execution_count": 68,
     "metadata": {},
     "output_type": "execute_result"
    }
   ],
   "source": [
    "# id => #\n",
    "soup.select('#title')"
   ]
  },
  {
   "cell_type": "code",
   "execution_count": 70,
   "metadata": {},
   "outputs": [
    {
     "data": {
      "text/plain": [
       "[<a class=\"link\" href=\"#\">This is link1</a>,\n",
       " <a class=\"link\" href=\"# link2\">This is link2</a>]"
      ]
     },
     "execution_count": 70,
     "metadata": {},
     "output_type": "execute_result"
    }
   ],
   "source": [
    "# class => .\n",
    "soup.select('.link')"
   ]
  },
  {
   "cell_type": "code",
   "execution_count": 72,
   "metadata": {},
   "outputs": [
    {
     "data": {
      "text/plain": [
       "[<h1 id=\"title\">Hello World</h1>]"
      ]
     },
     "execution_count": 72,
     "metadata": {},
     "output_type": "execute_result"
    }
   ],
   "source": [
    "soup.select('h1#title')"
   ]
  },
  {
   "cell_type": "code",
   "execution_count": 73,
   "metadata": {},
   "outputs": [
    {
     "data": {
      "text/plain": [
       "[<a class=\"link\" href=\"#\">This is link1</a>,\n",
       " <a class=\"link\" href=\"# link2\">This is link2</a>]"
      ]
     },
     "execution_count": 73,
     "metadata": {},
     "output_type": "execute_result"
    }
   ],
   "source": [
    "soup.select('a.link')"
   ]
  },
  {
   "cell_type": "code",
   "execution_count": 74,
   "metadata": {},
   "outputs": [
    {
     "data": {
      "text/plain": [
       "[<h1 id=\"title\">Hello World</h1>]"
      ]
     },
     "execution_count": 74,
     "metadata": {},
     "output_type": "execute_result"
    }
   ],
   "source": [
    "soup.select('body h1#title')"
   ]
  },
  {
   "cell_type": "code",
   "execution_count": 75,
   "metadata": {},
   "outputs": [
    {
     "data": {
      "text/plain": [
       "[<h1 id=\"title\">Hello World</h1>]"
      ]
     },
     "execution_count": 75,
     "metadata": {},
     "output_type": "execute_result"
    }
   ],
   "source": [
    "soup.select('body #title')"
   ]
  },
  {
   "cell_type": "code",
   "execution_count": 76,
   "metadata": {},
   "outputs": [
    {
     "data": {
      "text/plain": [
       "[<h1 id=\"title\">Hello World</h1>]"
      ]
     },
     "execution_count": 76,
     "metadata": {},
     "output_type": "execute_result"
    }
   ],
   "source": [
    "soup.select('body h1')"
   ]
  },
  {
   "cell_type": "code",
   "execution_count": 77,
   "metadata": {},
   "outputs": [
    {
     "data": {
      "text/plain": [
       "[<a class=\"link\" href=\"#\">This is link1</a>,\n",
       " <a class=\"link\" href=\"# link2\">This is link2</a>]"
      ]
     },
     "execution_count": 77,
     "metadata": {},
     "output_type": "execute_result"
    }
   ],
   "source": [
    "soup.select('body a')"
   ]
  },
  {
   "cell_type": "code",
   "execution_count": 79,
   "metadata": {},
   "outputs": [
    {
     "data": {
      "text/plain": [
       "[<a class=\"link\" href=\"#\">This is link1</a>,\n",
       " <a class=\"link\" href=\"# link2\">This is link2</a>]"
      ]
     },
     "execution_count": 79,
     "metadata": {},
     "output_type": "execute_result"
    }
   ],
   "source": [
    "soup.select('body a.link')"
   ]
  },
  {
   "cell_type": "code",
   "execution_count": 80,
   "metadata": {},
   "outputs": [
    {
     "data": {
      "text/plain": [
       "[<a class=\"link\" href=\"#\">This is link1</a>,\n",
       " <a class=\"link\" href=\"# link2\">This is link2</a>]"
      ]
     },
     "execution_count": 80,
     "metadata": {},
     "output_type": "execute_result"
    }
   ],
   "source": [
    "soup.select('body .link')"
   ]
  },
  {
   "cell_type": "code",
   "execution_count": 82,
   "metadata": {},
   "outputs": [
    {
     "name": "stdout",
     "output_type": "stream",
     "text": [
      "This is link1\n",
      "This is link2\n"
     ]
    }
   ],
   "source": [
    "for link in soup.select('a'):\n",
    "    print(link.text)"
   ]
  },
  {
   "cell_type": "code",
   "execution_count": 83,
   "metadata": {},
   "outputs": [
    {
     "name": "stdout",
     "output_type": "stream",
     "text": [
      "#\n",
      "# link2\n"
     ]
    }
   ],
   "source": [
    "for link in soup.select('a'):\n",
    "    print(link.get('href'))"
   ]
  },
  {
   "cell_type": "code",
   "execution_count": 85,
   "metadata": {},
   "outputs": [
    {
     "data": {
      "text/plain": [
       "<a abc=\"123\" dataft=\"qoo\" href=\"http://xx.url\"> I am Link</a>"
      ]
     },
     "execution_count": 85,
     "metadata": {},
     "output_type": "execute_result"
    }
   ],
   "source": [
    "s = '<a href=\"http://xx.url\" dataft=\"qoo\" abc=\"123\"> I am Link</a>'\n",
    "soup2 = BeautifulSoup(s,'lxml')\n",
    "soup2.select_one('a')"
   ]
  },
  {
   "cell_type": "code",
   "execution_count": 87,
   "metadata": {},
   "outputs": [
    {
     "data": {
      "text/plain": [
       "'123'"
      ]
     },
     "execution_count": 87,
     "metadata": {},
     "output_type": "execute_result"
    }
   ],
   "source": [
    "soup2.select_one('a').get('abc')"
   ]
  },
  {
   "cell_type": "code",
   "execution_count": 88,
   "metadata": {},
   "outputs": [
    {
     "data": {
      "text/plain": [
       "'qoo'"
      ]
     },
     "execution_count": 88,
     "metadata": {},
     "output_type": "execute_result"
    }
   ],
   "source": [
    "soup2.select_one('a').get('dataft')"
   ]
  },
  {
   "cell_type": "code",
   "execution_count": 89,
   "metadata": {},
   "outputs": [
    {
     "data": {
      "text/plain": [
       "'http://xx.url'"
      ]
     },
     "execution_count": 89,
     "metadata": {},
     "output_type": "execute_result"
    }
   ],
   "source": [
    "soup2.select_one('a').get('href')"
   ]
  },
  {
   "cell_type": "code",
   "execution_count": null,
   "metadata": {},
   "outputs": [],
   "source": []
  }
 ],
 "metadata": {
  "kernelspec": {
   "display_name": "Python 3",
   "language": "python",
   "name": "python3"
  },
  "language_info": {
   "codemirror_mode": {
    "name": "ipython",
    "version": 3
   },
   "file_extension": ".py",
   "mimetype": "text/x-python",
   "name": "python",
   "nbconvert_exporter": "python",
   "pygments_lexer": "ipython3",
   "version": "3.7.3"
  }
 },
 "nbformat": 4,
 "nbformat_minor": 2
}
